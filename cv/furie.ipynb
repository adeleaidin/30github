{
  "nbformat": 4,
  "nbformat_minor": 0,
  "metadata": {
    "colab": {
      "provenance": [],
      "authorship_tag": "ABX9TyOxTdPtb1pQSBVGAWOwth8+",
      "include_colab_link": true
    },
    "kernelspec": {
      "name": "python3",
      "display_name": "Python 3"
    },
    "language_info": {
      "name": "python"
    }
  },
  "cells": [
    {
      "cell_type": "markdown",
      "metadata": {
        "id": "view-in-github",
        "colab_type": "text"
      },
      "source": [
        "<a href=\"https://colab.research.google.com/github/adeleaidin/30github/blob/main/cv/furie.ipynb\" target=\"_parent\"><img src=\"https://colab.research.google.com/assets/colab-badge.svg\" alt=\"Open In Colab\"/></a>"
      ]
    },
    {
      "cell_type": "markdown",
      "source": [
        "#Преобразование Фурье в изображениях\n",
        "\n",
        "С помощью этого ноутбука вы на практике познакомитесь с преобразованием Фурье для изображений, а также с его различными способами применения, например:\n",
        "\n",
        "• Для ускорения применения сверток («Теорема о свертке»)\n",
        "\n",
        "• Для склейки изображений\n",
        "\n",
        "• Для поиска фрагмента картинки на полном изображении\n",
        "    \n",
        "\n",
        "####Перед началом попытайтесь ответить на два вопроса:\n",
        "- Зачем нужны преобразования фурье в математике?\n"
      ],
      "metadata": {
        "id": "Y3AJwMYRyjhQ"
      }
    },
    {
      "cell_type": "code",
      "execution_count": null,
      "metadata": {
        "id": "BpZTyo-UyXO-"
      },
      "outputs": [],
      "source": [
        "import matplotlib.pyplot as plt\n",
        "import numpy as np\n",
        "from scipy import signal\n",
        "from skimage.color import gray2rgb, rgb2gray\n",
        "from skimage.io import imread\n",
        "\n",
        "# Increase these if figures appear small\n",
        "plt. rcParams[\"figure.figsize\"] = fx, fy = (14.08, 6.40)"
      ]
    },
    {
      "cell_type": "markdown",
      "source": [
        "###Визуализация преобразования Фурье\n",
        "реализовать преобразование Фурье для изображений с помощью готовых функций в NumPy, а также проанализировать полученные визуализации\n"
      ],
      "metadata": {
        "id": "n87lIGOqzXNV"
      }
    },
    {
      "cell_type": "code",
      "source": [
        "!curl -0 'https://code.mipt.ru/courses-public/cv/storage/-/raw/seminars/fourier-transform/images.zip'\n",
        "'unzip -o images.zip"
      ],
      "metadata": {
        "id": "t4kP4zqizXXf"
      },
      "execution_count": null,
      "outputs": []
    },
    {
      "cell_type": "code",
      "source": [
        "# Загрузим изображения\n",
        "imgs={\n",
        "  \"tiger\": imread( \"images/tiger.jpg\"),\n",
        "  \"msu\": imread( \"images/msu.jpg\"),\n",
        "  \"cloth\": imread( \"images/cloth.jpg\"),\n",
        "}"
      ],
      "metadata": {
        "id": "OibxvLdtZN0L"
      },
      "execution_count": null,
      "outputs": []
    },
    {
      "cell_type": "code",
      "source": [
        "def show_imgs_wrapper (*imgs):\n",
        "  for img_names, imgset in imgs:\n",
        "    if not isinstance(imgset, (list, tuple)):\n",
        "      img_names = (img_names, )\n",
        "      imgset = (imgset, )\n",
        "\n",
        "    num = len (imgset)\n",
        "    cbars = [img.ndim = 2 or img. shape[-1] == 1 for img in imgset]\n",
        "    num += sum cbars)\n",
        "    char_width = 0.05\n",
        "    widths = [r for ax in cbars for r in ([1, cbar_width] if ax else [1])]\n",
        "    fig, axs = plt. subplots(\n",
        "      nrows=1, ncols=num,\n",
        "      gridspec_kw={\"wspace\": 0.01, \"hspace\": 0.01},\n",
        "      width_ratios=widths,\n",
        "      squeeze True,\n",
        "      layout=\"constrained\",\n",
        "    )\n",
        "    axs = [axs] if num <= 1 else axs\n",
        "\n",
        "    i, j = 0, 0\n",
        "    while i < num:\n",
        "    ax = axs[i]\n",
        "    i += 1\n",
        "    img = imgset[j]\n",
        "    name = img_names [j]\n",
        "    ] += 1\n",
        "    ax.set_title(name )\n",
        "    name= mg_namesl]]\n",
        "j += 1\n",
        "ax.set_title(name )\n",
        "cbar = ax. imshow(img)\n",
        "ax.axis(\"off\")\n",
        "if img.ndim == 2 or img. shape[-1] == 1:\n",
        "ax\n",
        "= axs[i]\n",
        "i += 1\n",
        "fig. colorbar (cbar, cax=ax)\n",
        "plt. show(fig)\n",
        "plt.close(fig)"
      ],
      "metadata": {
        "id": "ACFfgVowZWb-"
      },
      "execution_count": null,
      "outputs": []
    }
  ]
}