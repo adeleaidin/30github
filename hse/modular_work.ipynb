{
  "cells": [
    {
      "cell_type": "markdown",
      "source": [
        "Тема: Влияние социально-экономических и образовательных факторов на представленность женщин в национальных парламентах разных стран"
      ],
      "metadata": {
        "id": "Q1UBngQXMxI-"
      },
      "id": "Q1UBngQXMxI-"
    },
    {
      "cell_type": "markdown",
      "source": [
        "1.Введение и формулировка задачи исследования\n",
        "\n",
        "В этом исследовании мы рассматриваем влияние различных факторов на представленность женщин в парламентах (целевая переменная — процент женщин среди членов парламента). Задача исследования — выявить, какие социально-экономические и образовательные факторы влияют на эту величину и в какой степени. Исследование поможет понять, как структурные факторы связаны с гендерным равенством в политическом представительстве.\n",
        "\n",
        "Цель исследования — построить регрессионную модель, объясняющую представленность женщин в парламенте на основе социально-экономических и образовательных переменных для разных стран.\n",
        "\n",
        "2.Описание данных и обоснование выбора переменных\n",
        "\n",
        "Целевая переменная: Proportion of seats held by women in national parliaments (%)\n",
        "\n",
        "Эта переменная отражает процент мест, занимаемых женщинами в парламенте, и позволяет оценить политическое участие женщин в каждой стране.\n",
        "\n",
        "Для исследования были выбраны данные Всемирного банка за период с 2015 по 2020 год. Для анализа были отобраны следующие переменные:\n",
        "\n",
        "Female labor force participation rate (%) — доля женщин в общей рабочей силе.\n",
        "\n",
        "Labor force with advanced education, female (% of female working-age population with advanced education) — процент женщин с высшим образованием в трудоспособном возрасте.\n",
        "\n",
        "Wage and salaried workers, female (% of female employment) — доля женщин с оплачиваемой работой в числе занятых женщин.\n",
        "\n",
        "Female primary school age children out-of-school (%) — процент девочек школьного возраста, не посещающих школу.\n",
        "\n",
        "Proportion of time spent on unpaid domestic and care work, female (% of 24-hour day) — доля времени, которое женщины тратят на неоплачиваемую домашнюю работу.\n",
        "\n",
        "Maternal mortality ratio (national estimate, per 100,000 live births) — показатель материнской смертности на 100 000 живорождений.\n",
        "\n",
        "3.Первичный анализ данных. Шаги первичного анализа:\n",
        "\n",
        "Загрузка и объединение данных — загрузить данные по каждой переменной и объединить их по странам.\n",
        "Обработка пропусков и выбросов — заполнить пропуски медианными значениями или средними значениями для каждой страны.\n",
        "\n",
        "Описание данных:\n",
        "Рассчитать средние, медианные значения и стандартное отклонение для каждой переменной.\n",
        "Построить графики распределения значений по каждой переменной.\n",
        "\n",
        "Корреляционный анализ и VIF:\n",
        "Построить корреляционную матрицу для всех переменных.\n",
        "Визуализировать ее с помощью тепловой карты, выделить коррелированные пары.\n",
        "Рассчитать VIF (коэффициент инфляции дисперсии) для каждой переменной, чтобы выявить мультиколлинеарность. Переменные с VIF > 10 считаются высоко мультиколлинеарными и требуют пересмотра."
      ],
      "metadata": {
        "id": "C3Vs0ZMNkGmc"
      },
      "id": "C3Vs0ZMNkGmc"
    },
    {
      "cell_type": "markdown",
      "source": [
        "Ссылки на используемые данные взяты с сайта Всемирного банка:\n",
        "\n",
        "\n",
        "Целевая переменная: [Proportion of seats held by women in national parliaments (%)](https://data.worldbank.org/indicator/SG.GEN.PARL.ZS)  \n",
        "\n",
        "Выбранные переменные:\n",
        "- [Female labor force participation rate (%)](https://data.worldbank.org/indicator/SL.TLF.TOTL.FE.ZS)  \n",
        "- [Labor force with advanced education, female (% of female working-age population with advanced education)](https://data.worldbank.org/indicator/SL.TLF.ADVN.FE.ZS?locations=AE)  \n",
        "- [Wage and salaried workers, female (% of female employment)](https://data.worldbank.org/indicator/SL.EMP.WORK.FE.ZS)  \n",
        "- [Female primary school age children out-of-school (%)](https://data.worldbank.org/indicator/SE.LPV.PRIM.SD.FE)  \n",
        "- [Proportion of time spent on unpaid domestic and care work, female (% of 24 hour day)](https://data.worldbank.org/indicator/SG.TIM.UWRK.FE)  \n",
        "- [Maternal mortality ratio (national estimate, per 100,000 live births)](https://data.worldbank.org/indicator/SH.STA.MMRT.NE)  \n"
      ],
      "metadata": {
        "id": "kL1OXLQyMHxF"
      },
      "id": "kL1OXLQyMHxF"
    },
    {
      "cell_type": "markdown",
      "source": [
        "Провести первичный анализ данных. Описать данные, визуализировать их. Предположить, каким образом независимые переменные должны оказывать влияние на объясняемую переменную из полученных предварительных результатов, общей логики, обзора соответствующей литературы. Провести корреляционный анализ, проверить наличие мультиколлинеарных признаков (в т.ч. с помощью VIFов) (1балл)."
      ],
      "metadata": {
        "id": "a0ohzpB3M8ax"
      },
      "id": "a0ohzpB3M8ax"
    },
    {
      "cell_type": "code",
      "execution_count": null,
      "id": "94b4a3b7",
      "metadata": {
        "id": "94b4a3b7"
      },
      "outputs": [],
      "source": [
        "import warnings\n",
        "warnings.filterwarnings('ignore')"
      ]
    },
    {
      "cell_type": "code",
      "source": [
        "import pandas as pd\n",
        "import numpy as np\n",
        "import seaborn as sns\n",
        "import matplotlib.pyplot as plt\n",
        "from statsmodels.stats.outliers_influence import variance_inflation_factor\n",
        "import statsmodels.api as sm\n",
        "from sklearn.linear_model import RidgeCV, LassoCV\n",
        "from sklearn.model_selection import train_test_split\n",
        "from sklearn.metrics import mean_squared_error\n",
        "\n",
        "import statsmodels\n",
        "import scipy as sc\n",
        "import statsmodels.formula.api as smf\n",
        "import statsmodels.stats.api as sms\n",
        "from statsmodels.graphics.regressionplots import plot_leverage_resid2"
      ],
      "metadata": {
        "id": "bDb6rsHbHMxI"
      },
      "id": "bDb6rsHbHMxI",
      "execution_count": null,
      "outputs": []
    },
    {
      "cell_type": "code",
      "source": [
        "# Загрузка данных с пропуском первых строк с метаданными\n",
        "female_parliament = pd.read_csv('female_parliament.csv', skiprows=3)\n",
        "labor_force_female = pd.read_csv('labor_force_female.csv', skiprows=3)\n",
        "female_primary_school = pd.read_csv('female_primary_school.csv', skiprows=3)\n",
        "female_unpaid_domestic = pd.read_csv('female_unpaid_domestic.csv', skiprows=3)\n",
        "labor_force_female_adv = pd.read_csv('labor_force_female_adv.csv', skiprows=3)\n",
        "female_employment = pd.read_csv('female_employment.csv', skiprows=3)\n",
        "maternal_mortality = pd.read_csv('maternal_mortality.csv', skiprows=3)\n",
        "\n",
        "# Просмотр первых строк каждого датасета\n",
        "data_frames = [female_parliament, labor_force_female, female_primary_school,\n",
        "               female_unpaid_domestic, labor_force_female_adv, female_employment,\n",
        "               maternal_mortality]\n",
        "\n",
        "for i, df in enumerate(data_frames):\n",
        "    print(f\"Data Frame {i+1}:\")\n",
        "    print(df.head(), \"\\n\")"
      ],
      "metadata": {
        "colab": {
          "base_uri": "https://localhost:8080/"
        },
        "id": "93EtKSbfIFAM",
        "outputId": "d3435013-ff76-4e62-ef08-9fad51c0dc48"
      },
      "id": "93EtKSbfIFAM",
      "execution_count": null,
      "outputs": [
        {
          "output_type": "stream",
          "name": "stdout",
          "text": [
            "Data Frame 1:\n",
            "                  Country Name Country Code  \\\n",
            "0                        Aruba          ABW   \n",
            "1  Africa Eastern and Southern          AFE   \n",
            "2                  Afghanistan          AFG   \n",
            "3   Africa Western and Central          AFW   \n",
            "4                       Angola          AGO   \n",
            "\n",
            "                                      Indicator Name  Indicator Code  1960  \\\n",
            "0  Proportion of seats held by women in national ...  SG.GEN.PARL.ZS   NaN   \n",
            "1  Proportion of seats held by women in national ...  SG.GEN.PARL.ZS   NaN   \n",
            "2  Proportion of seats held by women in national ...  SG.GEN.PARL.ZS   NaN   \n",
            "3  Proportion of seats held by women in national ...  SG.GEN.PARL.ZS   NaN   \n",
            "4  Proportion of seats held by women in national ...  SG.GEN.PARL.ZS   NaN   \n",
            "\n",
            "   1961  1962  1963  1964  1965  ...       2015       2016       2017  \\\n",
            "0   NaN   NaN   NaN   NaN   NaN  ...        NaN        NaN        NaN   \n",
            "1   NaN   NaN   NaN   NaN   NaN  ...  28.149710  28.989170  28.705923   \n",
            "2   NaN   NaN   NaN   NaN   NaN  ...  27.710843  27.710843  27.710843   \n",
            "3   NaN   NaN   NaN   NaN   NaN  ...  15.084915  14.843750  15.279107   \n",
            "4   NaN   NaN   NaN   NaN   NaN  ...  36.818182  36.818182  30.454545   \n",
            "\n",
            "        2018       2019       2020       2021       2022       2023  \\\n",
            "0        NaN        NaN        NaN        NaN        NaN        NaN   \n",
            "1  28.771570  29.274564  30.128447  30.474788  30.523627  30.518059   \n",
            "2        NaN  27.868852  27.016129  27.016129        NaN        NaN   \n",
            "3  15.318471  15.398773  16.345271  17.824377  19.182782  20.767717   \n",
            "4  30.454545  30.000000  30.000000  29.545455  33.636364  33.636364   \n",
            "\n",
            "   Unnamed: 68  \n",
            "0          NaN  \n",
            "1          NaN  \n",
            "2          NaN  \n",
            "3          NaN  \n",
            "4          NaN  \n",
            "\n",
            "[5 rows x 69 columns] \n",
            "\n",
            "Data Frame 2:\n",
            "                  Country Name Country Code  \\\n",
            "0                        Aruba          ABW   \n",
            "1  Africa Eastern and Southern          AFE   \n",
            "2                  Afghanistan          AFG   \n",
            "3   Africa Western and Central          AFW   \n",
            "4                       Angola          AGO   \n",
            "\n",
            "                                 Indicator Name     Indicator Code  1960  \\\n",
            "0  Labor force, female (% of total labor force)  SL.TLF.TOTL.FE.ZS   NaN   \n",
            "1  Labor force, female (% of total labor force)  SL.TLF.TOTL.FE.ZS   NaN   \n",
            "2  Labor force, female (% of total labor force)  SL.TLF.TOTL.FE.ZS   NaN   \n",
            "3  Labor force, female (% of total labor force)  SL.TLF.TOTL.FE.ZS   NaN   \n",
            "4  Labor force, female (% of total labor force)  SL.TLF.TOTL.FE.ZS   NaN   \n",
            "\n",
            "   1961  1962  1963  1964  1965  ...       2015       2016       2017  \\\n",
            "0   NaN   NaN   NaN   NaN   NaN  ...        NaN        NaN        NaN   \n",
            "1   NaN   NaN   NaN   NaN   NaN  ...  47.039327  47.049843  47.153281   \n",
            "2   NaN   NaN   NaN   NaN   NaN  ...  20.244791  21.307866  22.418112   \n",
            "3   NaN   NaN   NaN   NaN   NaN  ...  45.151750  44.904087  44.645503   \n",
            "4   NaN   NaN   NaN   NaN   NaN  ...  49.836638  49.849024  49.859750   \n",
            "\n",
            "        2018       2019       2020       2021       2022       2023  \\\n",
            "0        NaN        NaN        NaN        NaN        NaN        NaN   \n",
            "1  47.196857  47.242337  47.234906  47.386296  47.278517  47.346695   \n",
            "2  21.756158  20.991412  19.793486  17.927684   6.847929   6.537578   \n",
            "3  44.327851  44.071864  43.999110  44.069107  43.952890  43.989396   \n",
            "4  49.875479  49.893278  49.879579  50.142064  49.549205  49.592742   \n",
            "\n",
            "   Unnamed: 68  \n",
            "0          NaN  \n",
            "1          NaN  \n",
            "2          NaN  \n",
            "3          NaN  \n",
            "4          NaN  \n",
            "\n",
            "[5 rows x 69 columns] \n",
            "\n",
            "Data Frame 3:\n",
            "                  Country Name Country Code  \\\n",
            "0                        Aruba          ABW   \n",
            "1  Africa Eastern and Southern          AFE   \n",
            "2                  Afghanistan          AFG   \n",
            "3   Africa Western and Central          AFW   \n",
            "4                       Angola          AGO   \n",
            "\n",
            "                                      Indicator Name     Indicator Code  1960  \\\n",
            "0  Female primary school age children out-of-scho...  SE.LPV.PRIM.SD.FE   NaN   \n",
            "1  Female primary school age children out-of-scho...  SE.LPV.PRIM.SD.FE   NaN   \n",
            "2  Female primary school age children out-of-scho...  SE.LPV.PRIM.SD.FE   NaN   \n",
            "3  Female primary school age children out-of-scho...  SE.LPV.PRIM.SD.FE   NaN   \n",
            "4  Female primary school age children out-of-scho...  SE.LPV.PRIM.SD.FE   NaN   \n",
            "\n",
            "   1961  1962  1963  1964  1965  ...  2015  2016  2017  2018  2019  2020  \\\n",
            "0   NaN   NaN   NaN   NaN   NaN  ...   NaN   NaN   NaN   NaN   NaN   NaN   \n",
            "1   NaN   NaN   NaN   NaN   NaN  ...   NaN   NaN   NaN   NaN   NaN   NaN   \n",
            "2   NaN   NaN   NaN   NaN   NaN  ...   NaN   NaN   NaN   NaN   NaN   NaN   \n",
            "3   NaN   NaN   NaN   NaN   NaN  ...   NaN   NaN   NaN   NaN   NaN   NaN   \n",
            "4   NaN   NaN   NaN   NaN   NaN  ...   NaN   NaN   NaN   NaN   NaN   NaN   \n",
            "\n",
            "   2021  2022  2023  Unnamed: 68  \n",
            "0   NaN   NaN   NaN          NaN  \n",
            "1   NaN   NaN   NaN          NaN  \n",
            "2   NaN   NaN   NaN          NaN  \n",
            "3   NaN   NaN   NaN          NaN  \n",
            "4   NaN   NaN   NaN          NaN  \n",
            "\n",
            "[5 rows x 69 columns] \n",
            "\n",
            "Data Frame 4:\n",
            "                  Country Name Country Code  \\\n",
            "0                        Aruba          ABW   \n",
            "1  Africa Eastern and Southern          AFE   \n",
            "2                  Afghanistan          AFG   \n",
            "3   Africa Western and Central          AFW   \n",
            "4                       Angola          AGO   \n",
            "\n",
            "                                      Indicator Name  Indicator Code  1960  \\\n",
            "0  Proportion of time spent on unpaid domestic an...  SG.TIM.UWRK.FE   NaN   \n",
            "1  Proportion of time spent on unpaid domestic an...  SG.TIM.UWRK.FE   NaN   \n",
            "2  Proportion of time spent on unpaid domestic an...  SG.TIM.UWRK.FE   NaN   \n",
            "3  Proportion of time spent on unpaid domestic an...  SG.TIM.UWRK.FE   NaN   \n",
            "4  Proportion of time spent on unpaid domestic an...  SG.TIM.UWRK.FE   NaN   \n",
            "\n",
            "   1961  1962  1963  1964  1965  ...  2015  2016  2017  2018  2019  2020  \\\n",
            "0   NaN   NaN   NaN   NaN   NaN  ...   NaN   NaN   NaN   NaN   NaN   NaN   \n",
            "1   NaN   NaN   NaN   NaN   NaN  ...   NaN   NaN   NaN   NaN   NaN   NaN   \n",
            "2   NaN   NaN   NaN   NaN   NaN  ...   NaN   NaN   NaN   NaN   NaN   NaN   \n",
            "3   NaN   NaN   NaN   NaN   NaN  ...   NaN   NaN   NaN   NaN   NaN   NaN   \n",
            "4   NaN   NaN   NaN   NaN   NaN  ...   NaN   NaN   NaN   NaN   NaN   NaN   \n",
            "\n",
            "   2021  2022  2023  Unnamed: 68  \n",
            "0   NaN   NaN   NaN          NaN  \n",
            "1   NaN   NaN   NaN          NaN  \n",
            "2   NaN   NaN   NaN          NaN  \n",
            "3   NaN   NaN   NaN          NaN  \n",
            "4   NaN   NaN   NaN          NaN  \n",
            "\n",
            "[5 rows x 69 columns] \n",
            "\n",
            "Data Frame 5:\n",
            "                  Country Name Country Code  \\\n",
            "0                        Aruba          ABW   \n",
            "1  Africa Eastern and Southern          AFE   \n",
            "2                  Afghanistan          AFG   \n",
            "3   Africa Western and Central          AFW   \n",
            "4                       Angola          AGO   \n",
            "\n",
            "                                      Indicator Name     Indicator Code  1960  \\\n",
            "0  Labor force with advanced education, female (%...  SL.TLF.ADVN.FE.ZS   NaN   \n",
            "1  Labor force with advanced education, female (%...  SL.TLF.ADVN.FE.ZS   NaN   \n",
            "2  Labor force with advanced education, female (%...  SL.TLF.ADVN.FE.ZS   NaN   \n",
            "3  Labor force with advanced education, female (%...  SL.TLF.ADVN.FE.ZS   NaN   \n",
            "4  Labor force with advanced education, female (%...  SL.TLF.ADVN.FE.ZS   NaN   \n",
            "\n",
            "   1961  1962  1963  1964  1965  ...  2015  2016    2017  2018       2019  \\\n",
            "0   NaN   NaN   NaN   NaN   NaN  ...   NaN   NaN     NaN   NaN        NaN   \n",
            "1   NaN   NaN   NaN   NaN   NaN  ...   NaN   NaN     NaN   NaN        NaN   \n",
            "2   NaN   NaN   NaN   NaN   NaN  ...   NaN   NaN  48.643   NaN        NaN   \n",
            "3   NaN   NaN   NaN   NaN   NaN  ...   NaN   NaN     NaN   NaN  67.526004   \n",
            "4   NaN   NaN   NaN   NaN   NaN  ...   NaN   NaN     NaN   NaN  86.442000   \n",
            "\n",
            "     2020    2021       2022  2023  Unnamed: 68  \n",
            "0     NaN     NaN        NaN   NaN          NaN  \n",
            "1     NaN     NaN        NaN   NaN          NaN  \n",
            "2  34.033  32.766        NaN   NaN          NaN  \n",
            "3     NaN     NaN  67.806846   NaN          NaN  \n",
            "4     NaN  91.502        NaN   NaN          NaN  \n",
            "\n",
            "[5 rows x 69 columns] \n",
            "\n",
            "Data Frame 6:\n",
            "                  Country Name Country Code  \\\n",
            "0                        Aruba          ABW   \n",
            "1  Africa Eastern and Southern          AFE   \n",
            "2                  Afghanistan          AFG   \n",
            "3   Africa Western and Central          AFW   \n",
            "4                       Angola          AGO   \n",
            "\n",
            "                                      Indicator Name     Indicator Code  1960  \\\n",
            "0  Wage and salaried workers, female (% of female...  SL.EMP.WORK.FE.ZS   NaN   \n",
            "1  Wage and salaried workers, female (% of female...  SL.EMP.WORK.FE.ZS   NaN   \n",
            "2  Wage and salaried workers, female (% of female...  SL.EMP.WORK.FE.ZS   NaN   \n",
            "3  Wage and salaried workers, female (% of female...  SL.EMP.WORK.FE.ZS   NaN   \n",
            "4  Wage and salaried workers, female (% of female...  SL.EMP.WORK.FE.ZS   NaN   \n",
            "\n",
            "   1961  1962  1963  1964  1965  ...       2015       2016       2017  \\\n",
            "0   NaN   NaN   NaN   NaN   NaN  ...        NaN        NaN        NaN   \n",
            "1   NaN   NaN   NaN   NaN   NaN  ...  18.913227  18.996523  19.280122   \n",
            "2   NaN   NaN   NaN   NaN   NaN  ...   4.346825   5.103785   5.980665   \n",
            "3   NaN   NaN   NaN   NaN   NaN  ...  12.702198  12.886359  12.672100   \n",
            "4   NaN   NaN   NaN   NaN   NaN  ...  25.812582  25.859939  25.959508   \n",
            "\n",
            "        2018       2019       2020       2021       2022  2023  Unnamed: 68  \n",
            "0        NaN        NaN        NaN        NaN        NaN   NaN          NaN  \n",
            "1  19.376304  19.377004  18.852498  18.956561  20.164671   NaN          NaN  \n",
            "2   6.792867   7.608267   7.598200   8.471144   8.878202   NaN          NaN  \n",
            "3  12.988919  13.234294  13.055082  13.175114  13.838867   NaN          NaN  \n",
            "4  26.053506  25.784870  25.716051  25.867584  26.801822   NaN          NaN  \n",
            "\n",
            "[5 rows x 69 columns] \n",
            "\n",
            "Data Frame 7:\n",
            "                  Country Name Country Code  \\\n",
            "0                        Aruba          ABW   \n",
            "1  Africa Eastern and Southern          AFE   \n",
            "2                  Afghanistan          AFG   \n",
            "3   Africa Western and Central          AFW   \n",
            "4                       Angola          AGO   \n",
            "\n",
            "                                      Indicator Name  Indicator Code  1960  \\\n",
            "0  Maternal mortality ratio (national estimate, p...  SH.STA.MMRT.NE   NaN   \n",
            "1  Maternal mortality ratio (national estimate, p...  SH.STA.MMRT.NE   NaN   \n",
            "2  Maternal mortality ratio (national estimate, p...  SH.STA.MMRT.NE   NaN   \n",
            "3  Maternal mortality ratio (national estimate, p...  SH.STA.MMRT.NE   NaN   \n",
            "4  Maternal mortality ratio (national estimate, p...  SH.STA.MMRT.NE   NaN   \n",
            "\n",
            "   1961  1962  1963  1964  1965  ...  2015    2016  2017  2018  2019  2020  \\\n",
            "0   NaN   NaN   NaN   NaN   NaN  ...   NaN     NaN   NaN   NaN   NaN   NaN   \n",
            "1   NaN   NaN   NaN   NaN   NaN  ...   NaN     NaN   NaN   NaN   NaN   NaN   \n",
            "2   NaN   NaN   NaN   NaN   NaN  ...   NaN  1194.0   NaN   NaN   NaN   NaN   \n",
            "3   NaN   NaN   NaN   NaN   NaN  ...   NaN     NaN   NaN   NaN   NaN   NaN   \n",
            "4   NaN   NaN   NaN   NaN   NaN  ...   NaN   281.0   NaN   NaN   NaN   NaN   \n",
            "\n",
            "   2021  2022  2023  Unnamed: 68  \n",
            "0   NaN   NaN   NaN          NaN  \n",
            "1   NaN   NaN   NaN          NaN  \n",
            "2   NaN   NaN   NaN          NaN  \n",
            "3   NaN   NaN   NaN          NaN  \n",
            "4   NaN   NaN   NaN          NaN  \n",
            "\n",
            "[5 rows x 69 columns] \n",
            "\n"
          ]
        }
      ]
    },
    {
      "cell_type": "code",
      "source": [
        "# Список нужных столбцов: код страны и годовые данные с 2000 по 2023\n",
        "required_columns = ['Country Code'] + [str(year) for year in range(2000, 2024)]\n",
        "\n",
        "# Оставляем только необходимые столбцы в каждом датафрейме\n",
        "for i, df in enumerate(data_frames):\n",
        "    data_frames[i] = df.loc[:, df.columns.intersection(required_columns)]\n"
      ],
      "metadata": {
        "id": "xUPQZpbbJu_B"
      },
      "id": "xUPQZpbbJu_B",
      "execution_count": null,
      "outputs": []
    },
    {
      "cell_type": "code",
      "source": [
        "# Извлекаем только данные за 2021 и 2022 года\n",
        "data_2021_2022 = pd.DataFrame({\n",
        "    'Country Name': female_parliament['Country Name'],\n",
        "    '2021': female_parliament['2018'],\n",
        "    '2022': female_parliament['2022'],\n",
        "    'labor_force_female_2021': labor_force_female['2018'],\n",
        "    'labor_force_female_2022': labor_force_female['2022'],\n",
        "    'female_primary_school_2021': female_primary_school['2018'],\n",
        "    'female_primary_school_2022': female_primary_school['2022'],\n",
        "    'female_unpaid_domestic_2021': female_unpaid_domestic['2022'],\n",
        "    'female_unpaid_domestic_2022': female_unpaid_domestic['2022'],\n",
        "    'labor_force_female_adv_2021': labor_force_female_adv['2018'],\n",
        "    'labor_force_female_adv_2022': labor_force_female_adv['2022'],\n",
        "    'female_employment_2021': female_employment['2018'],\n",
        "    'female_employment_2022': female_employment['2022'],\n",
        "    'maternal_mortality_2021': maternal_mortality['2018'],\n",
        "    'maternal_mortality_2022': maternal_mortality['2022']\n",
        "})\n",
        "\n",
        "# Проверим количество пропусков\n",
        "missing_data = data_2021_2022.isnull().sum()\n",
        "missing_data_percentage = (missing_data / len(data_2021_2022)) * 100\n",
        "\n",
        "# Покажем количество пропусков в процентах для каждого столбца\n",
        "print(missing_data_percentage)\n"
      ],
      "metadata": {
        "colab": {
          "base_uri": "https://localhost:8080/"
        },
        "id": "LePildxroWbh",
        "outputId": "edf0e4cc-f8ef-4c75-d8dc-47cc002b54a0"
      },
      "id": "LePildxroWbh",
      "execution_count": null,
      "outputs": [
        {
          "output_type": "stream",
          "name": "stdout",
          "text": [
            "Country Name                     0.000000\n",
            "2021                            10.150376\n",
            "2022                            11.654135\n",
            "labor_force_female_2021         11.654135\n",
            "labor_force_female_2022         12.030075\n",
            "female_primary_school_2021     100.000000\n",
            "female_primary_school_2022      99.624060\n",
            "female_unpaid_domestic_2021     97.744361\n",
            "female_unpaid_domestic_2022     99.248120\n",
            "labor_force_female_adv_2021     53.759398\n",
            "labor_force_female_adv_2022     53.383459\n",
            "female_employment_2021          11.654135\n",
            "female_employment_2022          12.030075\n",
            "maternal_mortality_2021         94.736842\n",
            "maternal_mortality_2022        100.000000\n",
            "dtype: float64\n"
          ]
        }
      ]
    },
    {
      "cell_type": "code",
      "source": [
        "# Заполнение пропусков (при необходимости)\n",
        "data.fillna(data.mean(), inplace=True)\n",
        "\n",
        "# Визуализация распределений\n",
        "sns.pairplot(data, diag_kind=\"kde\")\n",
        "plt.show()\n",
        "\n",
        "data = pd.read_csv('data.csv')  # Предположим, что все данные уже объединены и очищены\n",
        "\n",
        "# Проверка описательной статистики\n",
        "print(data.describe())\n",
        "\n",
        "# Корреляционная матрица\n",
        "plt.figure(figsize=(10, 8))\n",
        "sns.heatmap(data.corr(), annot=True, cmap='coolwarm')\n",
        "plt.title(\"Корреляционная матрица\")\n",
        "plt.show()\n",
        "\n",
        "# Вычисление VIF\n",
        "X = data.drop(columns=['Female parliament proportion'])  # Целевая переменная\n",
        "vif_data = pd.DataFrame()\n",
        "vif_data[\"feature\"] = X.columns\n",
        "vif_data[\"VIF\"] = [variance_inflation_factor(X.values, i) for i in range(X.shape[1])]\n",
        "print(vif_data)"
      ],
      "metadata": {
        "id": "f8uchFwZLp9r"
      },
      "id": "f8uchFwZLp9r",
      "execution_count": null,
      "outputs": []
    },
    {
      "cell_type": "code",
      "execution_count": null,
      "id": "0d025138",
      "metadata": {
        "colab": {
          "base_uri": "https://localhost:8080/"
        },
        "id": "0d025138",
        "outputId": "451098ee-8b68-4bac-cca5-dc564e13576a"
      },
      "outputs": [
        {
          "output_type": "stream",
          "name": "stdout",
          "text": [
            "Populating the interactive namespace from numpy and matplotlib\n"
          ]
        }
      ],
      "source": [
        "%pylab inline"
      ]
    },
    {
      "cell_type": "code",
      "execution_count": null,
      "id": "e2400bda",
      "metadata": {
        "id": "e2400bda"
      },
      "outputs": [],
      "source": [
        "data=pd.read_excel('innovation_new.xlsx')"
      ]
    },
    {
      "cell_type": "code",
      "execution_count": null,
      "id": "73b5ab36",
      "metadata": {
        "colab": {
          "base_uri": "https://localhost:8080/",
          "height": 439
        },
        "id": "73b5ab36",
        "outputId": "349453b4-0a7e-4fd5-f88d-5a2cfc7eb7cd"
      },
      "outputs": [
        {
          "output_type": "execute_result",
          "data": {
            "text/plain": [
              "     Sales  growth_technological  growth_marketing   share_RD  \\\n",
              "0     3.59                 11.67              7.82  34.100000   \n",
              "1     1.28                  2.34              4.70  27.100000   \n",
              "2     0.48                 11.73              7.07   7.900000   \n",
              "3     0.86                  9.01              3.91  19.000000   \n",
              "4     2.24                  8.93              4.20  31.200000   \n",
              "..     ...                   ...               ...        ...   \n",
              "995   1.09                  6.81              3.84  19.100000   \n",
              "996   1.48                  5.89              4.03  26.400000   \n",
              "997   1.03                 12.61              3.96  13.400000   \n",
              "998  11.71                 28.44              3.80  43.627365   \n",
              "999   0.20                  1.61              3.70  12.300000   \n",
              "\n",
              "     share_equipments  patents  cooperation  support  lab  joint  climate  \\\n",
              "0           36.900000       10            1        0    1      0        6   \n",
              "1           16.560000        1            0        0    0      0       10   \n",
              "2           31.320000        0            0        0    0      0        5   \n",
              "3           16.290000        3            0        0    0      0        5   \n",
              "4           32.400000        3            1        1    0      0        8   \n",
              "..                ...      ...          ...      ...  ...    ...      ...   \n",
              "995         43.470000        0            0        0    0      0        5   \n",
              "996         18.360000        0            0        0    0      0        9   \n",
              "997         28.620000        0            1        0    0      0        4   \n",
              "998         14.205606        0            0        0    1      1       10   \n",
              "999         68.490000        0            1        0    0      0        0   \n",
              "\n",
              "     share_technology   emp  growth_innovation  fin_support        age  compet  \n",
              "0                0.80  0.48              12.86     0.000000  43.000000       0  \n",
              "1                0.02  0.46               2.29     0.000000  43.000000       1  \n",
              "2                0.06  0.38              11.79     0.000000  35.000000     837  \n",
              "3                0.31  0.10               8.95     0.000000  24.000000       1  \n",
              "4                0.07  0.36               9.94     0.897416  39.000000       0  \n",
              "..                ...   ...                ...          ...        ...     ...  \n",
              "995              0.32  0.12               6.79     0.000000  43.000000       1  \n",
              "996              0.03  0.26               6.90     0.000000  36.000000       0  \n",
              "997              0.01  0.11              13.56     0.000000  24.000000       1  \n",
              "998              0.75  0.26              29.09     0.000000  39.311698       0  \n",
              "999              0.05  0.39               2.58     0.000000  22.000000     837  \n",
              "\n",
              "[1000 rows x 17 columns]"
            ],
            "text/html": [
              "\n",
              "  <div id=\"df-0f2ca0d4-90d9-42c0-8bcb-b89b0170dd94\" class=\"colab-df-container\">\n",
              "    <div>\n",
              "<style scoped>\n",
              "    .dataframe tbody tr th:only-of-type {\n",
              "        vertical-align: middle;\n",
              "    }\n",
              "\n",
              "    .dataframe tbody tr th {\n",
              "        vertical-align: top;\n",
              "    }\n",
              "\n",
              "    .dataframe thead th {\n",
              "        text-align: right;\n",
              "    }\n",
              "</style>\n",
              "<table border=\"1\" class=\"dataframe\">\n",
              "  <thead>\n",
              "    <tr style=\"text-align: right;\">\n",
              "      <th></th>\n",
              "      <th>Sales</th>\n",
              "      <th>growth_technological</th>\n",
              "      <th>growth_marketing</th>\n",
              "      <th>share_RD</th>\n",
              "      <th>share_equipments</th>\n",
              "      <th>patents</th>\n",
              "      <th>cooperation</th>\n",
              "      <th>support</th>\n",
              "      <th>lab</th>\n",
              "      <th>joint</th>\n",
              "      <th>climate</th>\n",
              "      <th>share_technology</th>\n",
              "      <th>emp</th>\n",
              "      <th>growth_innovation</th>\n",
              "      <th>fin_support</th>\n",
              "      <th>age</th>\n",
              "      <th>compet</th>\n",
              "    </tr>\n",
              "  </thead>\n",
              "  <tbody>\n",
              "    <tr>\n",
              "      <th>0</th>\n",
              "      <td>3.59</td>\n",
              "      <td>11.67</td>\n",
              "      <td>7.82</td>\n",
              "      <td>34.100000</td>\n",
              "      <td>36.900000</td>\n",
              "      <td>10</td>\n",
              "      <td>1</td>\n",
              "      <td>0</td>\n",
              "      <td>1</td>\n",
              "      <td>0</td>\n",
              "      <td>6</td>\n",
              "      <td>0.80</td>\n",
              "      <td>0.48</td>\n",
              "      <td>12.86</td>\n",
              "      <td>0.000000</td>\n",
              "      <td>43.000000</td>\n",
              "      <td>0</td>\n",
              "    </tr>\n",
              "    <tr>\n",
              "      <th>1</th>\n",
              "      <td>1.28</td>\n",
              "      <td>2.34</td>\n",
              "      <td>4.70</td>\n",
              "      <td>27.100000</td>\n",
              "      <td>16.560000</td>\n",
              "      <td>1</td>\n",
              "      <td>0</td>\n",
              "      <td>0</td>\n",
              "      <td>0</td>\n",
              "      <td>0</td>\n",
              "      <td>10</td>\n",
              "      <td>0.02</td>\n",
              "      <td>0.46</td>\n",
              "      <td>2.29</td>\n",
              "      <td>0.000000</td>\n",
              "      <td>43.000000</td>\n",
              "      <td>1</td>\n",
              "    </tr>\n",
              "    <tr>\n",
              "      <th>2</th>\n",
              "      <td>0.48</td>\n",
              "      <td>11.73</td>\n",
              "      <td>7.07</td>\n",
              "      <td>7.900000</td>\n",
              "      <td>31.320000</td>\n",
              "      <td>0</td>\n",
              "      <td>0</td>\n",
              "      <td>0</td>\n",
              "      <td>0</td>\n",
              "      <td>0</td>\n",
              "      <td>5</td>\n",
              "      <td>0.06</td>\n",
              "      <td>0.38</td>\n",
              "      <td>11.79</td>\n",
              "      <td>0.000000</td>\n",
              "      <td>35.000000</td>\n",
              "      <td>837</td>\n",
              "    </tr>\n",
              "    <tr>\n",
              "      <th>3</th>\n",
              "      <td>0.86</td>\n",
              "      <td>9.01</td>\n",
              "      <td>3.91</td>\n",
              "      <td>19.000000</td>\n",
              "      <td>16.290000</td>\n",
              "      <td>3</td>\n",
              "      <td>0</td>\n",
              "      <td>0</td>\n",
              "      <td>0</td>\n",
              "      <td>0</td>\n",
              "      <td>5</td>\n",
              "      <td>0.31</td>\n",
              "      <td>0.10</td>\n",
              "      <td>8.95</td>\n",
              "      <td>0.000000</td>\n",
              "      <td>24.000000</td>\n",
              "      <td>1</td>\n",
              "    </tr>\n",
              "    <tr>\n",
              "      <th>4</th>\n",
              "      <td>2.24</td>\n",
              "      <td>8.93</td>\n",
              "      <td>4.20</td>\n",
              "      <td>31.200000</td>\n",
              "      <td>32.400000</td>\n",
              "      <td>3</td>\n",
              "      <td>1</td>\n",
              "      <td>1</td>\n",
              "      <td>0</td>\n",
              "      <td>0</td>\n",
              "      <td>8</td>\n",
              "      <td>0.07</td>\n",
              "      <td>0.36</td>\n",
              "      <td>9.94</td>\n",
              "      <td>0.897416</td>\n",
              "      <td>39.000000</td>\n",
              "      <td>0</td>\n",
              "    </tr>\n",
              "    <tr>\n",
              "      <th>...</th>\n",
              "      <td>...</td>\n",
              "      <td>...</td>\n",
              "      <td>...</td>\n",
              "      <td>...</td>\n",
              "      <td>...</td>\n",
              "      <td>...</td>\n",
              "      <td>...</td>\n",
              "      <td>...</td>\n",
              "      <td>...</td>\n",
              "      <td>...</td>\n",
              "      <td>...</td>\n",
              "      <td>...</td>\n",
              "      <td>...</td>\n",
              "      <td>...</td>\n",
              "      <td>...</td>\n",
              "      <td>...</td>\n",
              "      <td>...</td>\n",
              "    </tr>\n",
              "    <tr>\n",
              "      <th>995</th>\n",
              "      <td>1.09</td>\n",
              "      <td>6.81</td>\n",
              "      <td>3.84</td>\n",
              "      <td>19.100000</td>\n",
              "      <td>43.470000</td>\n",
              "      <td>0</td>\n",
              "      <td>0</td>\n",
              "      <td>0</td>\n",
              "      <td>0</td>\n",
              "      <td>0</td>\n",
              "      <td>5</td>\n",
              "      <td>0.32</td>\n",
              "      <td>0.12</td>\n",
              "      <td>6.79</td>\n",
              "      <td>0.000000</td>\n",
              "      <td>43.000000</td>\n",
              "      <td>1</td>\n",
              "    </tr>\n",
              "    <tr>\n",
              "      <th>996</th>\n",
              "      <td>1.48</td>\n",
              "      <td>5.89</td>\n",
              "      <td>4.03</td>\n",
              "      <td>26.400000</td>\n",
              "      <td>18.360000</td>\n",
              "      <td>0</td>\n",
              "      <td>0</td>\n",
              "      <td>0</td>\n",
              "      <td>0</td>\n",
              "      <td>0</td>\n",
              "      <td>9</td>\n",
              "      <td>0.03</td>\n",
              "      <td>0.26</td>\n",
              "      <td>6.90</td>\n",
              "      <td>0.000000</td>\n",
              "      <td>36.000000</td>\n",
              "      <td>0</td>\n",
              "    </tr>\n",
              "    <tr>\n",
              "      <th>997</th>\n",
              "      <td>1.03</td>\n",
              "      <td>12.61</td>\n",
              "      <td>3.96</td>\n",
              "      <td>13.400000</td>\n",
              "      <td>28.620000</td>\n",
              "      <td>0</td>\n",
              "      <td>1</td>\n",
              "      <td>0</td>\n",
              "      <td>0</td>\n",
              "      <td>0</td>\n",
              "      <td>4</td>\n",
              "      <td>0.01</td>\n",
              "      <td>0.11</td>\n",
              "      <td>13.56</td>\n",
              "      <td>0.000000</td>\n",
              "      <td>24.000000</td>\n",
              "      <td>1</td>\n",
              "    </tr>\n",
              "    <tr>\n",
              "      <th>998</th>\n",
              "      <td>11.71</td>\n",
              "      <td>28.44</td>\n",
              "      <td>3.80</td>\n",
              "      <td>43.627365</td>\n",
              "      <td>14.205606</td>\n",
              "      <td>0</td>\n",
              "      <td>0</td>\n",
              "      <td>0</td>\n",
              "      <td>1</td>\n",
              "      <td>1</td>\n",
              "      <td>10</td>\n",
              "      <td>0.75</td>\n",
              "      <td>0.26</td>\n",
              "      <td>29.09</td>\n",
              "      <td>0.000000</td>\n",
              "      <td>39.311698</td>\n",
              "      <td>0</td>\n",
              "    </tr>\n",
              "    <tr>\n",
              "      <th>999</th>\n",
              "      <td>0.20</td>\n",
              "      <td>1.61</td>\n",
              "      <td>3.70</td>\n",
              "      <td>12.300000</td>\n",
              "      <td>68.490000</td>\n",
              "      <td>0</td>\n",
              "      <td>1</td>\n",
              "      <td>0</td>\n",
              "      <td>0</td>\n",
              "      <td>0</td>\n",
              "      <td>0</td>\n",
              "      <td>0.05</td>\n",
              "      <td>0.39</td>\n",
              "      <td>2.58</td>\n",
              "      <td>0.000000</td>\n",
              "      <td>22.000000</td>\n",
              "      <td>837</td>\n",
              "    </tr>\n",
              "  </tbody>\n",
              "</table>\n",
              "<p>1000 rows × 17 columns</p>\n",
              "</div>\n",
              "    <div class=\"colab-df-buttons\">\n",
              "\n",
              "  <div class=\"colab-df-container\">\n",
              "    <button class=\"colab-df-convert\" onclick=\"convertToInteractive('df-0f2ca0d4-90d9-42c0-8bcb-b89b0170dd94')\"\n",
              "            title=\"Convert this dataframe to an interactive table.\"\n",
              "            style=\"display:none;\">\n",
              "\n",
              "  <svg xmlns=\"http://www.w3.org/2000/svg\" height=\"24px\" viewBox=\"0 -960 960 960\">\n",
              "    <path d=\"M120-120v-720h720v720H120Zm60-500h600v-160H180v160Zm220 220h160v-160H400v160Zm0 220h160v-160H400v160ZM180-400h160v-160H180v160Zm440 0h160v-160H620v160ZM180-180h160v-160H180v160Zm440 0h160v-160H620v160Z\"/>\n",
              "  </svg>\n",
              "    </button>\n",
              "\n",
              "  <style>\n",
              "    .colab-df-container {\n",
              "      display:flex;\n",
              "      gap: 12px;\n",
              "    }\n",
              "\n",
              "    .colab-df-convert {\n",
              "      background-color: #E8F0FE;\n",
              "      border: none;\n",
              "      border-radius: 50%;\n",
              "      cursor: pointer;\n",
              "      display: none;\n",
              "      fill: #1967D2;\n",
              "      height: 32px;\n",
              "      padding: 0 0 0 0;\n",
              "      width: 32px;\n",
              "    }\n",
              "\n",
              "    .colab-df-convert:hover {\n",
              "      background-color: #E2EBFA;\n",
              "      box-shadow: 0px 1px 2px rgba(60, 64, 67, 0.3), 0px 1px 3px 1px rgba(60, 64, 67, 0.15);\n",
              "      fill: #174EA6;\n",
              "    }\n",
              "\n",
              "    .colab-df-buttons div {\n",
              "      margin-bottom: 4px;\n",
              "    }\n",
              "\n",
              "    [theme=dark] .colab-df-convert {\n",
              "      background-color: #3B4455;\n",
              "      fill: #D2E3FC;\n",
              "    }\n",
              "\n",
              "    [theme=dark] .colab-df-convert:hover {\n",
              "      background-color: #434B5C;\n",
              "      box-shadow: 0px 1px 3px 1px rgba(0, 0, 0, 0.15);\n",
              "      filter: drop-shadow(0px 1px 2px rgba(0, 0, 0, 0.3));\n",
              "      fill: #FFFFFF;\n",
              "    }\n",
              "  </style>\n",
              "\n",
              "    <script>\n",
              "      const buttonEl =\n",
              "        document.querySelector('#df-0f2ca0d4-90d9-42c0-8bcb-b89b0170dd94 button.colab-df-convert');\n",
              "      buttonEl.style.display =\n",
              "        google.colab.kernel.accessAllowed ? 'block' : 'none';\n",
              "\n",
              "      async function convertToInteractive(key) {\n",
              "        const element = document.querySelector('#df-0f2ca0d4-90d9-42c0-8bcb-b89b0170dd94');\n",
              "        const dataTable =\n",
              "          await google.colab.kernel.invokeFunction('convertToInteractive',\n",
              "                                                    [key], {});\n",
              "        if (!dataTable) return;\n",
              "\n",
              "        const docLinkHtml = 'Like what you see? Visit the ' +\n",
              "          '<a target=\"_blank\" href=https://colab.research.google.com/notebooks/data_table.ipynb>data table notebook</a>'\n",
              "          + ' to learn more about interactive tables.';\n",
              "        element.innerHTML = '';\n",
              "        dataTable['output_type'] = 'display_data';\n",
              "        await google.colab.output.renderOutput(dataTable, element);\n",
              "        const docLink = document.createElement('div');\n",
              "        docLink.innerHTML = docLinkHtml;\n",
              "        element.appendChild(docLink);\n",
              "      }\n",
              "    </script>\n",
              "  </div>\n",
              "\n",
              "\n",
              "<div id=\"df-c510f43c-4193-473a-a00e-741faaa7ee08\">\n",
              "  <button class=\"colab-df-quickchart\" onclick=\"quickchart('df-c510f43c-4193-473a-a00e-741faaa7ee08')\"\n",
              "            title=\"Suggest charts\"\n",
              "            style=\"display:none;\">\n",
              "\n",
              "<svg xmlns=\"http://www.w3.org/2000/svg\" height=\"24px\"viewBox=\"0 0 24 24\"\n",
              "     width=\"24px\">\n",
              "    <g>\n",
              "        <path d=\"M19 3H5c-1.1 0-2 .9-2 2v14c0 1.1.9 2 2 2h14c1.1 0 2-.9 2-2V5c0-1.1-.9-2-2-2zM9 17H7v-7h2v7zm4 0h-2V7h2v10zm4 0h-2v-4h2v4z\"/>\n",
              "    </g>\n",
              "</svg>\n",
              "  </button>\n",
              "\n",
              "<style>\n",
              "  .colab-df-quickchart {\n",
              "      --bg-color: #E8F0FE;\n",
              "      --fill-color: #1967D2;\n",
              "      --hover-bg-color: #E2EBFA;\n",
              "      --hover-fill-color: #174EA6;\n",
              "      --disabled-fill-color: #AAA;\n",
              "      --disabled-bg-color: #DDD;\n",
              "  }\n",
              "\n",
              "  [theme=dark] .colab-df-quickchart {\n",
              "      --bg-color: #3B4455;\n",
              "      --fill-color: #D2E3FC;\n",
              "      --hover-bg-color: #434B5C;\n",
              "      --hover-fill-color: #FFFFFF;\n",
              "      --disabled-bg-color: #3B4455;\n",
              "      --disabled-fill-color: #666;\n",
              "  }\n",
              "\n",
              "  .colab-df-quickchart {\n",
              "    background-color: var(--bg-color);\n",
              "    border: none;\n",
              "    border-radius: 50%;\n",
              "    cursor: pointer;\n",
              "    display: none;\n",
              "    fill: var(--fill-color);\n",
              "    height: 32px;\n",
              "    padding: 0;\n",
              "    width: 32px;\n",
              "  }\n",
              "\n",
              "  .colab-df-quickchart:hover {\n",
              "    background-color: var(--hover-bg-color);\n",
              "    box-shadow: 0 1px 2px rgba(60, 64, 67, 0.3), 0 1px 3px 1px rgba(60, 64, 67, 0.15);\n",
              "    fill: var(--button-hover-fill-color);\n",
              "  }\n",
              "\n",
              "  .colab-df-quickchart-complete:disabled,\n",
              "  .colab-df-quickchart-complete:disabled:hover {\n",
              "    background-color: var(--disabled-bg-color);\n",
              "    fill: var(--disabled-fill-color);\n",
              "    box-shadow: none;\n",
              "  }\n",
              "\n",
              "  .colab-df-spinner {\n",
              "    border: 2px solid var(--fill-color);\n",
              "    border-color: transparent;\n",
              "    border-bottom-color: var(--fill-color);\n",
              "    animation:\n",
              "      spin 1s steps(1) infinite;\n",
              "  }\n",
              "\n",
              "  @keyframes spin {\n",
              "    0% {\n",
              "      border-color: transparent;\n",
              "      border-bottom-color: var(--fill-color);\n",
              "      border-left-color: var(--fill-color);\n",
              "    }\n",
              "    20% {\n",
              "      border-color: transparent;\n",
              "      border-left-color: var(--fill-color);\n",
              "      border-top-color: var(--fill-color);\n",
              "    }\n",
              "    30% {\n",
              "      border-color: transparent;\n",
              "      border-left-color: var(--fill-color);\n",
              "      border-top-color: var(--fill-color);\n",
              "      border-right-color: var(--fill-color);\n",
              "    }\n",
              "    40% {\n",
              "      border-color: transparent;\n",
              "      border-right-color: var(--fill-color);\n",
              "      border-top-color: var(--fill-color);\n",
              "    }\n",
              "    60% {\n",
              "      border-color: transparent;\n",
              "      border-right-color: var(--fill-color);\n",
              "    }\n",
              "    80% {\n",
              "      border-color: transparent;\n",
              "      border-right-color: var(--fill-color);\n",
              "      border-bottom-color: var(--fill-color);\n",
              "    }\n",
              "    90% {\n",
              "      border-color: transparent;\n",
              "      border-bottom-color: var(--fill-color);\n",
              "    }\n",
              "  }\n",
              "</style>\n",
              "\n",
              "  <script>\n",
              "    async function quickchart(key) {\n",
              "      const quickchartButtonEl =\n",
              "        document.querySelector('#' + key + ' button');\n",
              "      quickchartButtonEl.disabled = true;  // To prevent multiple clicks.\n",
              "      quickchartButtonEl.classList.add('colab-df-spinner');\n",
              "      try {\n",
              "        const charts = await google.colab.kernel.invokeFunction(\n",
              "            'suggestCharts', [key], {});\n",
              "      } catch (error) {\n",
              "        console.error('Error during call to suggestCharts:', error);\n",
              "      }\n",
              "      quickchartButtonEl.classList.remove('colab-df-spinner');\n",
              "      quickchartButtonEl.classList.add('colab-df-quickchart-complete');\n",
              "    }\n",
              "    (() => {\n",
              "      let quickchartButtonEl =\n",
              "        document.querySelector('#df-c510f43c-4193-473a-a00e-741faaa7ee08 button');\n",
              "      quickchartButtonEl.style.display =\n",
              "        google.colab.kernel.accessAllowed ? 'block' : 'none';\n",
              "    })();\n",
              "  </script>\n",
              "</div>\n",
              "\n",
              "  <div id=\"id_d2646848-0694-4d4f-9202-f7261cb02884\">\n",
              "    <style>\n",
              "      .colab-df-generate {\n",
              "        background-color: #E8F0FE;\n",
              "        border: none;\n",
              "        border-radius: 50%;\n",
              "        cursor: pointer;\n",
              "        display: none;\n",
              "        fill: #1967D2;\n",
              "        height: 32px;\n",
              "        padding: 0 0 0 0;\n",
              "        width: 32px;\n",
              "      }\n",
              "\n",
              "      .colab-df-generate:hover {\n",
              "        background-color: #E2EBFA;\n",
              "        box-shadow: 0px 1px 2px rgba(60, 64, 67, 0.3), 0px 1px 3px 1px rgba(60, 64, 67, 0.15);\n",
              "        fill: #174EA6;\n",
              "      }\n",
              "\n",
              "      [theme=dark] .colab-df-generate {\n",
              "        background-color: #3B4455;\n",
              "        fill: #D2E3FC;\n",
              "      }\n",
              "\n",
              "      [theme=dark] .colab-df-generate:hover {\n",
              "        background-color: #434B5C;\n",
              "        box-shadow: 0px 1px 3px 1px rgba(0, 0, 0, 0.15);\n",
              "        filter: drop-shadow(0px 1px 2px rgba(0, 0, 0, 0.3));\n",
              "        fill: #FFFFFF;\n",
              "      }\n",
              "    </style>\n",
              "    <button class=\"colab-df-generate\" onclick=\"generateWithVariable('data')\"\n",
              "            title=\"Generate code using this dataframe.\"\n",
              "            style=\"display:none;\">\n",
              "\n",
              "  <svg xmlns=\"http://www.w3.org/2000/svg\" height=\"24px\"viewBox=\"0 0 24 24\"\n",
              "       width=\"24px\">\n",
              "    <path d=\"M7,19H8.4L18.45,9,17,7.55,7,17.6ZM5,21V16.75L18.45,3.32a2,2,0,0,1,2.83,0l1.4,1.43a1.91,1.91,0,0,1,.58,1.4,1.91,1.91,0,0,1-.58,1.4L9.25,21ZM18.45,9,17,7.55Zm-12,3A5.31,5.31,0,0,0,4.9,8.1,5.31,5.31,0,0,0,1,6.5,5.31,5.31,0,0,0,4.9,4.9,5.31,5.31,0,0,0,6.5,1,5.31,5.31,0,0,0,8.1,4.9,5.31,5.31,0,0,0,12,6.5,5.46,5.46,0,0,0,6.5,12Z\"/>\n",
              "  </svg>\n",
              "    </button>\n",
              "    <script>\n",
              "      (() => {\n",
              "      const buttonEl =\n",
              "        document.querySelector('#id_d2646848-0694-4d4f-9202-f7261cb02884 button.colab-df-generate');\n",
              "      buttonEl.style.display =\n",
              "        google.colab.kernel.accessAllowed ? 'block' : 'none';\n",
              "\n",
              "      buttonEl.onclick = () => {\n",
              "        google.colab.notebook.generateWithVariable('data');\n",
              "      }\n",
              "      })();\n",
              "    </script>\n",
              "  </div>\n",
              "\n",
              "    </div>\n",
              "  </div>\n"
            ],
            "application/vnd.google.colaboratory.intrinsic+json": {
              "type": "dataframe",
              "variable_name": "data",
              "summary": "{\n  \"name\": \"data\",\n  \"rows\": 1000,\n  \"fields\": [\n    {\n      \"column\": \"Sales\",\n      \"properties\": {\n        \"dtype\": \"number\",\n        \"std\": 1.9809128411124213,\n        \"min\": 0.13,\n        \"max\": 24.04,\n        \"num_unique_values\": 384,\n        \"samples\": [\n          3.21,\n          1.95,\n          1.58\n        ],\n        \"semantic_type\": \"\",\n        \"description\": \"\"\n      }\n    },\n    {\n      \"column\": \"growth_technological\",\n      \"properties\": {\n        \"dtype\": \"number\",\n        \"std\": 5.340042245814828,\n        \"min\": 0.09,\n        \"max\": 52.12,\n        \"num_unique_values\": 721,\n        \"samples\": [\n          0.12,\n          10.22,\n          7.41\n        ],\n        \"semantic_type\": \"\",\n        \"description\": \"\"\n      }\n    },\n    {\n      \"column\": \"growth_marketing\",\n      \"properties\": {\n        \"dtype\": \"number\",\n        \"std\": 1.391296325541566,\n        \"min\": 3.02,\n        \"max\": 15.61,\n        \"num_unique_values\": 322,\n        \"samples\": [\n          8.74,\n          3.59,\n          3.53\n        ],\n        \"semantic_type\": \"\",\n        \"description\": \"\"\n      }\n    },\n    {\n      \"column\": \"share_RD\",\n      \"properties\": {\n        \"dtype\": \"number\",\n        \"std\": 17.189609336390596,\n        \"min\": -1.3,\n        \"max\": 92.65484988745906,\n        \"num_unique_values\": 478,\n        \"samples\": [\n          52.8,\n          6.7,\n          16.0\n        ],\n        \"semantic_type\": \"\",\n        \"description\": \"\"\n      }\n    },\n    {\n      \"column\": \"share_equipments\",\n      \"properties\": {\n        \"dtype\": \"number\",\n        \"std\": 18.38137732591033,\n        \"min\": 0.8099999999999999,\n        \"max\": 89.10000000000002,\n        \"num_unique_values\": 536,\n        \"samples\": [\n          28.26,\n          38.34,\n          8.73\n        ],\n        \"semantic_type\": \"\",\n        \"description\": \"\"\n      }\n    },\n    {\n      \"column\": \"patents\",\n      \"properties\": {\n        \"dtype\": \"number\",\n        \"std\": 3,\n        \"min\": 0,\n        \"max\": 19,\n        \"num_unique_values\": 19,\n        \"samples\": [\n          10,\n          7,\n          17\n        ],\n        \"semantic_type\": \"\",\n        \"description\": \"\"\n      }\n    },\n    {\n      \"column\": \"cooperation\",\n      \"properties\": {\n        \"dtype\": \"number\",\n        \"std\": 0,\n        \"min\": 0,\n        \"max\": 1,\n        \"num_unique_values\": 2,\n        \"samples\": [\n          0,\n          1\n        ],\n        \"semantic_type\": \"\",\n        \"description\": \"\"\n      }\n    },\n    {\n      \"column\": \"support\",\n      \"properties\": {\n        \"dtype\": \"number\",\n        \"std\": 0,\n        \"min\": 0,\n        \"max\": 1,\n        \"num_unique_values\": 2,\n        \"samples\": [\n          1,\n          0\n        ],\n        \"semantic_type\": \"\",\n        \"description\": \"\"\n      }\n    },\n    {\n      \"column\": \"lab\",\n      \"properties\": {\n        \"dtype\": \"number\",\n        \"std\": 0,\n        \"min\": 0,\n        \"max\": 1,\n        \"num_unique_values\": 2,\n        \"samples\": [\n          0,\n          1\n        ],\n        \"semantic_type\": \"\",\n        \"description\": \"\"\n      }\n    },\n    {\n      \"column\": \"joint\",\n      \"properties\": {\n        \"dtype\": \"number\",\n        \"std\": 0,\n        \"min\": 0,\n        \"max\": 1,\n        \"num_unique_values\": 2,\n        \"samples\": [\n          1,\n          0\n        ],\n        \"semantic_type\": \"\",\n        \"description\": \"\"\n      }\n    },\n    {\n      \"column\": \"climate\",\n      \"properties\": {\n        \"dtype\": \"number\",\n        \"std\": 2,\n        \"min\": 0,\n        \"max\": 10,\n        \"num_unique_values\": 11,\n        \"samples\": [\n          9,\n          6\n        ],\n        \"semantic_type\": \"\",\n        \"description\": \"\"\n      }\n    },\n    {\n      \"column\": \"share_technology\",\n      \"properties\": {\n        \"dtype\": \"number\",\n        \"std\": 0.2763885122607482,\n        \"min\": 0.0,\n        \"max\": 1.0,\n        \"num_unique_values\": 101,\n        \"samples\": [\n          0.53,\n          0.61\n        ],\n        \"semantic_type\": \"\",\n        \"description\": \"\"\n      }\n    },\n    {\n      \"column\": \"emp\",\n      \"properties\": {\n        \"dtype\": \"number\",\n        \"std\": 0.29972317157600525,\n        \"min\": 0.0,\n        \"max\": 1.43,\n        \"num_unique_values\": 125,\n        \"samples\": [\n          0.18,\n          1.15\n        ],\n        \"semantic_type\": \"\",\n        \"description\": \"\"\n      }\n    },\n    {\n      \"column\": \"growth_innovation\",\n      \"properties\": {\n        \"dtype\": \"number\",\n        \"std\": 5.372920867251415,\n        \"min\": 0.09,\n        \"max\": 52.11,\n        \"num_unique_values\": 720,\n        \"samples\": [\n          4.23,\n          5.57\n        ],\n        \"semantic_type\": \"\",\n        \"description\": \"\"\n      }\n    },\n    {\n      \"column\": \"fin_support\",\n      \"properties\": {\n        \"dtype\": \"number\",\n        \"std\": 0.053103706187141345,\n        \"min\": 0.0,\n        \"max\": 0.8974158943530555,\n        \"num_unique_values\": 8,\n        \"samples\": [\n          0.8974158943530555,\n          0.5112101079671361\n        ],\n        \"semantic_type\": \"\",\n        \"description\": \"\"\n      }\n    },\n    {\n      \"column\": \"age\",\n      \"properties\": {\n        \"dtype\": \"number\",\n        \"std\": 7.988527655210919,\n        \"min\": 20.0,\n        \"max\": 63.95609968408652,\n        \"num_unique_values\": 136,\n        \"samples\": [\n          46.71069396720258,\n          24.62433592910298\n        ],\n        \"semantic_type\": \"\",\n        \"description\": \"\"\n      }\n    },\n    {\n      \"column\": \"compet\",\n      \"properties\": {\n        \"dtype\": \"number\",\n        \"std\": 368,\n        \"min\": 0,\n        \"max\": 837,\n        \"num_unique_values\": 4,\n        \"samples\": [\n          1,\n          2\n        ],\n        \"semantic_type\": \"\",\n        \"description\": \"\"\n      }\n    }\n  ]\n}"
            }
          },
          "metadata": {},
          "execution_count": 5
        }
      ],
      "source": [
        "data"
      ]
    },
    {
      "cell_type": "markdown",
      "id": "114edadd",
      "metadata": {
        "id": "114edadd"
      },
      "source": [
        "### Анализ коэффициентов вздутия дисперсии"
      ]
    },
    {
      "cell_type": "code",
      "execution_count": null,
      "id": "7f23a85b",
      "metadata": {
        "id": "7f23a85b"
      },
      "outputs": [],
      "source": [
        "X=data.drop('Sales', axis=1)"
      ]
    },
    {
      "cell_type": "code",
      "execution_count": null,
      "id": "4df2927a",
      "metadata": {
        "colab": {
          "base_uri": "https://localhost:8080/"
        },
        "id": "4df2927a",
        "outputId": "495769e0-1bb3-46ca-fc01-6a8bf259aba2"
      },
      "outputs": [
        {
          "output_type": "execute_result",
          "data": {
            "text/plain": [
              "16"
            ]
          },
          "metadata": {},
          "execution_count": 7
        }
      ],
      "source": [
        "X.shape[1]"
      ]
    },
    {
      "cell_type": "code",
      "execution_count": null,
      "id": "1108972e",
      "metadata": {
        "colab": {
          "base_uri": "https://localhost:8080/"
        },
        "id": "1108972e",
        "outputId": "0c5e4eb7-1019-4286-a8fb-9235d6a2ff94"
      },
      "outputs": [
        {
          "output_type": "execute_result",
          "data": {
            "text/plain": [
              "1000"
            ]
          },
          "metadata": {},
          "execution_count": 8
        }
      ],
      "source": [
        "X.shape[0]"
      ]
    },
    {
      "cell_type": "code",
      "execution_count": null,
      "id": "07c226d7",
      "metadata": {
        "id": "07c226d7"
      },
      "outputs": [],
      "source": [
        "vif=pd.DataFrame()\n",
        "vif['features']=X.columns\n",
        "vif['VIF']=[variance_inflation_factor(X.values, i) for i in range (X.shape[1])]"
      ]
    },
    {
      "cell_type": "code",
      "execution_count": null,
      "id": "e1803391",
      "metadata": {
        "colab": {
          "base_uri": "https://localhost:8080/",
          "height": 545
        },
        "id": "e1803391",
        "outputId": "b8b4fd58-5a12-461b-d35a-b1f1a9700e20"
      },
      "outputs": [
        {
          "output_type": "execute_result",
          "data": {
            "text/plain": [
              "                features         VIF\n",
              "0   growth_technological  531.560719\n",
              "1       growth_marketing    8.923410\n",
              "2               share_RD    5.472914\n",
              "3       share_equipments    4.401371\n",
              "4                patents    1.221960\n",
              "5            cooperation    1.579895\n",
              "6                support    4.851672\n",
              "7                    lab    3.097288\n",
              "8                  joint    2.284768\n",
              "9                climate    7.083696\n",
              "10      share_technology    3.006767\n",
              "11                   emp    2.303272\n",
              "12     growth_innovation  577.553330\n",
              "13           fin_support    4.567868\n",
              "14                   age   13.160836\n",
              "15                compet    1.892366"
            ],
            "text/html": [
              "\n",
              "  <div id=\"df-8d65ab7f-9600-46db-a86b-b2f1b226d38f\" class=\"colab-df-container\">\n",
              "    <div>\n",
              "<style scoped>\n",
              "    .dataframe tbody tr th:only-of-type {\n",
              "        vertical-align: middle;\n",
              "    }\n",
              "\n",
              "    .dataframe tbody tr th {\n",
              "        vertical-align: top;\n",
              "    }\n",
              "\n",
              "    .dataframe thead th {\n",
              "        text-align: right;\n",
              "    }\n",
              "</style>\n",
              "<table border=\"1\" class=\"dataframe\">\n",
              "  <thead>\n",
              "    <tr style=\"text-align: right;\">\n",
              "      <th></th>\n",
              "      <th>features</th>\n",
              "      <th>VIF</th>\n",
              "    </tr>\n",
              "  </thead>\n",
              "  <tbody>\n",
              "    <tr>\n",
              "      <th>0</th>\n",
              "      <td>growth_technological</td>\n",
              "      <td>531.560719</td>\n",
              "    </tr>\n",
              "    <tr>\n",
              "      <th>1</th>\n",
              "      <td>growth_marketing</td>\n",
              "      <td>8.923410</td>\n",
              "    </tr>\n",
              "    <tr>\n",
              "      <th>2</th>\n",
              "      <td>share_RD</td>\n",
              "      <td>5.472914</td>\n",
              "    </tr>\n",
              "    <tr>\n",
              "      <th>3</th>\n",
              "      <td>share_equipments</td>\n",
              "      <td>4.401371</td>\n",
              "    </tr>\n",
              "    <tr>\n",
              "      <th>4</th>\n",
              "      <td>patents</td>\n",
              "      <td>1.221960</td>\n",
              "    </tr>\n",
              "    <tr>\n",
              "      <th>5</th>\n",
              "      <td>cooperation</td>\n",
              "      <td>1.579895</td>\n",
              "    </tr>\n",
              "    <tr>\n",
              "      <th>6</th>\n",
              "      <td>support</td>\n",
              "      <td>4.851672</td>\n",
              "    </tr>\n",
              "    <tr>\n",
              "      <th>7</th>\n",
              "      <td>lab</td>\n",
              "      <td>3.097288</td>\n",
              "    </tr>\n",
              "    <tr>\n",
              "      <th>8</th>\n",
              "      <td>joint</td>\n",
              "      <td>2.284768</td>\n",
              "    </tr>\n",
              "    <tr>\n",
              "      <th>9</th>\n",
              "      <td>climate</td>\n",
              "      <td>7.083696</td>\n",
              "    </tr>\n",
              "    <tr>\n",
              "      <th>10</th>\n",
              "      <td>share_technology</td>\n",
              "      <td>3.006767</td>\n",
              "    </tr>\n",
              "    <tr>\n",
              "      <th>11</th>\n",
              "      <td>emp</td>\n",
              "      <td>2.303272</td>\n",
              "    </tr>\n",
              "    <tr>\n",
              "      <th>12</th>\n",
              "      <td>growth_innovation</td>\n",
              "      <td>577.553330</td>\n",
              "    </tr>\n",
              "    <tr>\n",
              "      <th>13</th>\n",
              "      <td>fin_support</td>\n",
              "      <td>4.567868</td>\n",
              "    </tr>\n",
              "    <tr>\n",
              "      <th>14</th>\n",
              "      <td>age</td>\n",
              "      <td>13.160836</td>\n",
              "    </tr>\n",
              "    <tr>\n",
              "      <th>15</th>\n",
              "      <td>compet</td>\n",
              "      <td>1.892366</td>\n",
              "    </tr>\n",
              "  </tbody>\n",
              "</table>\n",
              "</div>\n",
              "    <div class=\"colab-df-buttons\">\n",
              "\n",
              "  <div class=\"colab-df-container\">\n",
              "    <button class=\"colab-df-convert\" onclick=\"convertToInteractive('df-8d65ab7f-9600-46db-a86b-b2f1b226d38f')\"\n",
              "            title=\"Convert this dataframe to an interactive table.\"\n",
              "            style=\"display:none;\">\n",
              "\n",
              "  <svg xmlns=\"http://www.w3.org/2000/svg\" height=\"24px\" viewBox=\"0 -960 960 960\">\n",
              "    <path d=\"M120-120v-720h720v720H120Zm60-500h600v-160H180v160Zm220 220h160v-160H400v160Zm0 220h160v-160H400v160ZM180-400h160v-160H180v160Zm440 0h160v-160H620v160ZM180-180h160v-160H180v160Zm440 0h160v-160H620v160Z\"/>\n",
              "  </svg>\n",
              "    </button>\n",
              "\n",
              "  <style>\n",
              "    .colab-df-container {\n",
              "      display:flex;\n",
              "      gap: 12px;\n",
              "    }\n",
              "\n",
              "    .colab-df-convert {\n",
              "      background-color: #E8F0FE;\n",
              "      border: none;\n",
              "      border-radius: 50%;\n",
              "      cursor: pointer;\n",
              "      display: none;\n",
              "      fill: #1967D2;\n",
              "      height: 32px;\n",
              "      padding: 0 0 0 0;\n",
              "      width: 32px;\n",
              "    }\n",
              "\n",
              "    .colab-df-convert:hover {\n",
              "      background-color: #E2EBFA;\n",
              "      box-shadow: 0px 1px 2px rgba(60, 64, 67, 0.3), 0px 1px 3px 1px rgba(60, 64, 67, 0.15);\n",
              "      fill: #174EA6;\n",
              "    }\n",
              "\n",
              "    .colab-df-buttons div {\n",
              "      margin-bottom: 4px;\n",
              "    }\n",
              "\n",
              "    [theme=dark] .colab-df-convert {\n",
              "      background-color: #3B4455;\n",
              "      fill: #D2E3FC;\n",
              "    }\n",
              "\n",
              "    [theme=dark] .colab-df-convert:hover {\n",
              "      background-color: #434B5C;\n",
              "      box-shadow: 0px 1px 3px 1px rgba(0, 0, 0, 0.15);\n",
              "      filter: drop-shadow(0px 1px 2px rgba(0, 0, 0, 0.3));\n",
              "      fill: #FFFFFF;\n",
              "    }\n",
              "  </style>\n",
              "\n",
              "    <script>\n",
              "      const buttonEl =\n",
              "        document.querySelector('#df-8d65ab7f-9600-46db-a86b-b2f1b226d38f button.colab-df-convert');\n",
              "      buttonEl.style.display =\n",
              "        google.colab.kernel.accessAllowed ? 'block' : 'none';\n",
              "\n",
              "      async function convertToInteractive(key) {\n",
              "        const element = document.querySelector('#df-8d65ab7f-9600-46db-a86b-b2f1b226d38f');\n",
              "        const dataTable =\n",
              "          await google.colab.kernel.invokeFunction('convertToInteractive',\n",
              "                                                    [key], {});\n",
              "        if (!dataTable) return;\n",
              "\n",
              "        const docLinkHtml = 'Like what you see? Visit the ' +\n",
              "          '<a target=\"_blank\" href=https://colab.research.google.com/notebooks/data_table.ipynb>data table notebook</a>'\n",
              "          + ' to learn more about interactive tables.';\n",
              "        element.innerHTML = '';\n",
              "        dataTable['output_type'] = 'display_data';\n",
              "        await google.colab.output.renderOutput(dataTable, element);\n",
              "        const docLink = document.createElement('div');\n",
              "        docLink.innerHTML = docLinkHtml;\n",
              "        element.appendChild(docLink);\n",
              "      }\n",
              "    </script>\n",
              "  </div>\n",
              "\n",
              "\n",
              "<div id=\"df-78b39475-dc3f-4532-acb4-52de82f7a677\">\n",
              "  <button class=\"colab-df-quickchart\" onclick=\"quickchart('df-78b39475-dc3f-4532-acb4-52de82f7a677')\"\n",
              "            title=\"Suggest charts\"\n",
              "            style=\"display:none;\">\n",
              "\n",
              "<svg xmlns=\"http://www.w3.org/2000/svg\" height=\"24px\"viewBox=\"0 0 24 24\"\n",
              "     width=\"24px\">\n",
              "    <g>\n",
              "        <path d=\"M19 3H5c-1.1 0-2 .9-2 2v14c0 1.1.9 2 2 2h14c1.1 0 2-.9 2-2V5c0-1.1-.9-2-2-2zM9 17H7v-7h2v7zm4 0h-2V7h2v10zm4 0h-2v-4h2v4z\"/>\n",
              "    </g>\n",
              "</svg>\n",
              "  </button>\n",
              "\n",
              "<style>\n",
              "  .colab-df-quickchart {\n",
              "      --bg-color: #E8F0FE;\n",
              "      --fill-color: #1967D2;\n",
              "      --hover-bg-color: #E2EBFA;\n",
              "      --hover-fill-color: #174EA6;\n",
              "      --disabled-fill-color: #AAA;\n",
              "      --disabled-bg-color: #DDD;\n",
              "  }\n",
              "\n",
              "  [theme=dark] .colab-df-quickchart {\n",
              "      --bg-color: #3B4455;\n",
              "      --fill-color: #D2E3FC;\n",
              "      --hover-bg-color: #434B5C;\n",
              "      --hover-fill-color: #FFFFFF;\n",
              "      --disabled-bg-color: #3B4455;\n",
              "      --disabled-fill-color: #666;\n",
              "  }\n",
              "\n",
              "  .colab-df-quickchart {\n",
              "    background-color: var(--bg-color);\n",
              "    border: none;\n",
              "    border-radius: 50%;\n",
              "    cursor: pointer;\n",
              "    display: none;\n",
              "    fill: var(--fill-color);\n",
              "    height: 32px;\n",
              "    padding: 0;\n",
              "    width: 32px;\n",
              "  }\n",
              "\n",
              "  .colab-df-quickchart:hover {\n",
              "    background-color: var(--hover-bg-color);\n",
              "    box-shadow: 0 1px 2px rgba(60, 64, 67, 0.3), 0 1px 3px 1px rgba(60, 64, 67, 0.15);\n",
              "    fill: var(--button-hover-fill-color);\n",
              "  }\n",
              "\n",
              "  .colab-df-quickchart-complete:disabled,\n",
              "  .colab-df-quickchart-complete:disabled:hover {\n",
              "    background-color: var(--disabled-bg-color);\n",
              "    fill: var(--disabled-fill-color);\n",
              "    box-shadow: none;\n",
              "  }\n",
              "\n",
              "  .colab-df-spinner {\n",
              "    border: 2px solid var(--fill-color);\n",
              "    border-color: transparent;\n",
              "    border-bottom-color: var(--fill-color);\n",
              "    animation:\n",
              "      spin 1s steps(1) infinite;\n",
              "  }\n",
              "\n",
              "  @keyframes spin {\n",
              "    0% {\n",
              "      border-color: transparent;\n",
              "      border-bottom-color: var(--fill-color);\n",
              "      border-left-color: var(--fill-color);\n",
              "    }\n",
              "    20% {\n",
              "      border-color: transparent;\n",
              "      border-left-color: var(--fill-color);\n",
              "      border-top-color: var(--fill-color);\n",
              "    }\n",
              "    30% {\n",
              "      border-color: transparent;\n",
              "      border-left-color: var(--fill-color);\n",
              "      border-top-color: var(--fill-color);\n",
              "      border-right-color: var(--fill-color);\n",
              "    }\n",
              "    40% {\n",
              "      border-color: transparent;\n",
              "      border-right-color: var(--fill-color);\n",
              "      border-top-color: var(--fill-color);\n",
              "    }\n",
              "    60% {\n",
              "      border-color: transparent;\n",
              "      border-right-color: var(--fill-color);\n",
              "    }\n",
              "    80% {\n",
              "      border-color: transparent;\n",
              "      border-right-color: var(--fill-color);\n",
              "      border-bottom-color: var(--fill-color);\n",
              "    }\n",
              "    90% {\n",
              "      border-color: transparent;\n",
              "      border-bottom-color: var(--fill-color);\n",
              "    }\n",
              "  }\n",
              "</style>\n",
              "\n",
              "  <script>\n",
              "    async function quickchart(key) {\n",
              "      const quickchartButtonEl =\n",
              "        document.querySelector('#' + key + ' button');\n",
              "      quickchartButtonEl.disabled = true;  // To prevent multiple clicks.\n",
              "      quickchartButtonEl.classList.add('colab-df-spinner');\n",
              "      try {\n",
              "        const charts = await google.colab.kernel.invokeFunction(\n",
              "            'suggestCharts', [key], {});\n",
              "      } catch (error) {\n",
              "        console.error('Error during call to suggestCharts:', error);\n",
              "      }\n",
              "      quickchartButtonEl.classList.remove('colab-df-spinner');\n",
              "      quickchartButtonEl.classList.add('colab-df-quickchart-complete');\n",
              "    }\n",
              "    (() => {\n",
              "      let quickchartButtonEl =\n",
              "        document.querySelector('#df-78b39475-dc3f-4532-acb4-52de82f7a677 button');\n",
              "      quickchartButtonEl.style.display =\n",
              "        google.colab.kernel.accessAllowed ? 'block' : 'none';\n",
              "    })();\n",
              "  </script>\n",
              "</div>\n",
              "\n",
              "  <div id=\"id_d2620760-6b73-4629-b7d0-e838f6ea0e06\">\n",
              "    <style>\n",
              "      .colab-df-generate {\n",
              "        background-color: #E8F0FE;\n",
              "        border: none;\n",
              "        border-radius: 50%;\n",
              "        cursor: pointer;\n",
              "        display: none;\n",
              "        fill: #1967D2;\n",
              "        height: 32px;\n",
              "        padding: 0 0 0 0;\n",
              "        width: 32px;\n",
              "      }\n",
              "\n",
              "      .colab-df-generate:hover {\n",
              "        background-color: #E2EBFA;\n",
              "        box-shadow: 0px 1px 2px rgba(60, 64, 67, 0.3), 0px 1px 3px 1px rgba(60, 64, 67, 0.15);\n",
              "        fill: #174EA6;\n",
              "      }\n",
              "\n",
              "      [theme=dark] .colab-df-generate {\n",
              "        background-color: #3B4455;\n",
              "        fill: #D2E3FC;\n",
              "      }\n",
              "\n",
              "      [theme=dark] .colab-df-generate:hover {\n",
              "        background-color: #434B5C;\n",
              "        box-shadow: 0px 1px 3px 1px rgba(0, 0, 0, 0.15);\n",
              "        filter: drop-shadow(0px 1px 2px rgba(0, 0, 0, 0.3));\n",
              "        fill: #FFFFFF;\n",
              "      }\n",
              "    </style>\n",
              "    <button class=\"colab-df-generate\" onclick=\"generateWithVariable('vif')\"\n",
              "            title=\"Generate code using this dataframe.\"\n",
              "            style=\"display:none;\">\n",
              "\n",
              "  <svg xmlns=\"http://www.w3.org/2000/svg\" height=\"24px\"viewBox=\"0 0 24 24\"\n",
              "       width=\"24px\">\n",
              "    <path d=\"M7,19H8.4L18.45,9,17,7.55,7,17.6ZM5,21V16.75L18.45,3.32a2,2,0,0,1,2.83,0l1.4,1.43a1.91,1.91,0,0,1,.58,1.4,1.91,1.91,0,0,1-.58,1.4L9.25,21ZM18.45,9,17,7.55Zm-12,3A5.31,5.31,0,0,0,4.9,8.1,5.31,5.31,0,0,0,1,6.5,5.31,5.31,0,0,0,4.9,4.9,5.31,5.31,0,0,0,6.5,1,5.31,5.31,0,0,0,8.1,4.9,5.31,5.31,0,0,0,12,6.5,5.46,5.46,0,0,0,6.5,12Z\"/>\n",
              "  </svg>\n",
              "    </button>\n",
              "    <script>\n",
              "      (() => {\n",
              "      const buttonEl =\n",
              "        document.querySelector('#id_d2620760-6b73-4629-b7d0-e838f6ea0e06 button.colab-df-generate');\n",
              "      buttonEl.style.display =\n",
              "        google.colab.kernel.accessAllowed ? 'block' : 'none';\n",
              "\n",
              "      buttonEl.onclick = () => {\n",
              "        google.colab.notebook.generateWithVariable('vif');\n",
              "      }\n",
              "      })();\n",
              "    </script>\n",
              "  </div>\n",
              "\n",
              "    </div>\n",
              "  </div>\n"
            ],
            "application/vnd.google.colaboratory.intrinsic+json": {
              "type": "dataframe",
              "variable_name": "vif",
              "summary": "{\n  \"name\": \"vif\",\n  \"rows\": 16,\n  \"fields\": [\n    {\n      \"column\": \"features\",\n      \"properties\": {\n        \"dtype\": \"string\",\n        \"num_unique_values\": 16,\n        \"samples\": [\n          \"growth_technological\",\n          \"growth_marketing\",\n          \"cooperation\"\n        ],\n        \"semantic_type\": \"\",\n        \"description\": \"\"\n      }\n    },\n    {\n      \"column\": \"VIF\",\n      \"properties\": {\n        \"dtype\": \"number\",\n        \"std\": 188.07234573070073,\n        \"min\": 1.2219595381705737,\n        \"max\": 577.5533296237866,\n        \"num_unique_values\": 16,\n        \"samples\": [\n          531.5607192308663,\n          8.923410318051392,\n          1.5798946145117765\n        ],\n        \"semantic_type\": \"\",\n        \"description\": \"\"\n      }\n    }\n  ]\n}"
            }
          },
          "metadata": {},
          "execution_count": 10
        }
      ],
      "source": [
        "vif"
      ]
    },
    {
      "cell_type": "code",
      "execution_count": null,
      "id": "c17dca71",
      "metadata": {
        "colab": {
          "base_uri": "https://localhost:8080/",
          "height": 565
        },
        "id": "c17dca71",
        "outputId": "f7eab16c-d5f8-488f-dcbf-08b76535a50a"
      },
      "outputs": [
        {
          "output_type": "execute_result",
          "data": {
            "text/plain": [
              "                      growth_technological  growth_marketing  share_RD  \\\n",
              "growth_technological              1.000000          0.020490  0.471702   \n",
              "growth_marketing                  0.020490          1.000000 -0.043417   \n",
              "share_RD                          0.471702         -0.043417  1.000000   \n",
              "share_equipments                  0.363850          0.007137  0.421134   \n",
              "patents                           0.012761         -0.053898  0.020085   \n",
              "cooperation                       0.106036         -0.005151  0.152637   \n",
              "support                           0.323722          0.008568  0.104852   \n",
              "lab                               0.553875         -0.016077  0.572160   \n",
              "joint                             0.566242         -0.011728  0.529473   \n",
              "climate                           0.327518          0.049099  0.387965   \n",
              "share_technology                  0.288318         -0.000167  0.311434   \n",
              "emp                               0.042204          0.015026  0.023890   \n",
              "growth_innovation                 0.997595          0.019302  0.473714   \n",
              "fin_support                       0.233671         -0.012012  0.080427   \n",
              "age                               0.127713         -0.006273  0.153706   \n",
              "compet                           -0.345805         -0.023797 -0.419024   \n",
              "\n",
              "                      share_equipments   patents  cooperation   support  \\\n",
              "growth_technological          0.363850  0.012761     0.106036  0.323722   \n",
              "growth_marketing              0.007137 -0.053898    -0.005151  0.008568   \n",
              "share_RD                      0.421134  0.020085     0.152637  0.104852   \n",
              "share_equipments              1.000000  0.033457     0.096407  0.039847   \n",
              "patents                       0.033457  1.000000    -0.047207 -0.016037   \n",
              "cooperation                   0.096407 -0.047207     1.000000  0.040812   \n",
              "support                       0.039847 -0.016037     0.040812  1.000000   \n",
              "lab                           0.483227  0.046348     0.184669  0.085473   \n",
              "joint                         0.414306  0.079765     0.084369  0.103841   \n",
              "climate                       0.282848  0.012738     0.103880  0.071036   \n",
              "share_technology              0.293439  0.008718     0.100563  0.037179   \n",
              "emp                           0.007624  0.029998     0.040116  0.014527   \n",
              "growth_innovation             0.366373  0.009442     0.108357  0.320115   \n",
              "fin_support                   0.006690 -0.006200     0.031046  0.879642   \n",
              "age                           0.130469 -0.004052    -0.005491  0.037046   \n",
              "compet                       -0.303338 -0.044716    -0.104002 -0.050217   \n",
              "\n",
              "                           lab     joint   climate  share_technology  \\\n",
              "growth_technological  0.553875  0.566242  0.327518          0.288318   \n",
              "growth_marketing     -0.016077 -0.011728  0.049099         -0.000167   \n",
              "share_RD              0.572160  0.529473  0.387965          0.311434   \n",
              "share_equipments      0.483227  0.414306  0.282848          0.293439   \n",
              "patents               0.046348  0.079765  0.012738          0.008718   \n",
              "cooperation           0.184669  0.084369  0.103880          0.100563   \n",
              "support               0.085473  0.103841  0.071036          0.037179   \n",
              "lab                   1.000000  0.616139  0.377323          0.447755   \n",
              "joint                 0.616139  1.000000  0.256352          0.306688   \n",
              "climate               0.377323  0.256352  1.000000          0.247696   \n",
              "share_technology      0.447755  0.306688  0.247696          1.000000   \n",
              "emp                   0.010149  0.029666  0.033056          0.039616   \n",
              "growth_innovation     0.554679  0.567725  0.327560          0.287954   \n",
              "fin_support           0.048052  0.085929  0.064648          0.009662   \n",
              "age                   0.219887  0.125799  0.135840          0.168157   \n",
              "compet               -0.359368 -0.242478 -0.586590         -0.224439   \n",
              "\n",
              "                           emp  growth_innovation  fin_support       age  \\\n",
              "growth_technological  0.042204           0.997595     0.233671  0.127713   \n",
              "growth_marketing      0.015026           0.019302    -0.012012 -0.006273   \n",
              "share_RD              0.023890           0.473714     0.080427  0.153706   \n",
              "share_equipments      0.007624           0.366373     0.006690  0.130469   \n",
              "patents               0.029998           0.009442    -0.006200 -0.004052   \n",
              "cooperation           0.040116           0.108357     0.031046 -0.005491   \n",
              "support               0.014527           0.320115     0.879642  0.037046   \n",
              "lab                   0.010149           0.554679     0.048052  0.219887   \n",
              "joint                 0.029666           0.567725     0.085929  0.125799   \n",
              "climate               0.033056           0.327560     0.064648  0.135840   \n",
              "share_technology      0.039616           0.287954     0.009662  0.168157   \n",
              "emp                   1.000000           0.041090     0.030503  0.023691   \n",
              "growth_innovation     0.041090           1.000000     0.231541  0.127505   \n",
              "fin_support           0.030503           0.231541     1.000000  0.041273   \n",
              "age                   0.023691           0.127505     0.041273  1.000000   \n",
              "compet               -0.018098          -0.347784    -0.044158 -0.136874   \n",
              "\n",
              "                        compet  \n",
              "growth_technological -0.345805  \n",
              "growth_marketing     -0.023797  \n",
              "share_RD             -0.419024  \n",
              "share_equipments     -0.303338  \n",
              "patents              -0.044716  \n",
              "cooperation          -0.104002  \n",
              "support              -0.050217  \n",
              "lab                  -0.359368  \n",
              "joint                -0.242478  \n",
              "climate              -0.586590  \n",
              "share_technology     -0.224439  \n",
              "emp                  -0.018098  \n",
              "growth_innovation    -0.347784  \n",
              "fin_support          -0.044158  \n",
              "age                  -0.136874  \n",
              "compet                1.000000  "
            ],
            "text/html": [
              "\n",
              "  <div id=\"df-1027741d-3a54-4d7b-9c88-fd3d2a91c200\" class=\"colab-df-container\">\n",
              "    <div>\n",
              "<style scoped>\n",
              "    .dataframe tbody tr th:only-of-type {\n",
              "        vertical-align: middle;\n",
              "    }\n",
              "\n",
              "    .dataframe tbody tr th {\n",
              "        vertical-align: top;\n",
              "    }\n",
              "\n",
              "    .dataframe thead th {\n",
              "        text-align: right;\n",
              "    }\n",
              "</style>\n",
              "<table border=\"1\" class=\"dataframe\">\n",
              "  <thead>\n",
              "    <tr style=\"text-align: right;\">\n",
              "      <th></th>\n",
              "      <th>growth_technological</th>\n",
              "      <th>growth_marketing</th>\n",
              "      <th>share_RD</th>\n",
              "      <th>share_equipments</th>\n",
              "      <th>patents</th>\n",
              "      <th>cooperation</th>\n",
              "      <th>support</th>\n",
              "      <th>lab</th>\n",
              "      <th>joint</th>\n",
              "      <th>climate</th>\n",
              "      <th>share_technology</th>\n",
              "      <th>emp</th>\n",
              "      <th>growth_innovation</th>\n",
              "      <th>fin_support</th>\n",
              "      <th>age</th>\n",
              "      <th>compet</th>\n",
              "    </tr>\n",
              "  </thead>\n",
              "  <tbody>\n",
              "    <tr>\n",
              "      <th>growth_technological</th>\n",
              "      <td>1.000000</td>\n",
              "      <td>0.020490</td>\n",
              "      <td>0.471702</td>\n",
              "      <td>0.363850</td>\n",
              "      <td>0.012761</td>\n",
              "      <td>0.106036</td>\n",
              "      <td>0.323722</td>\n",
              "      <td>0.553875</td>\n",
              "      <td>0.566242</td>\n",
              "      <td>0.327518</td>\n",
              "      <td>0.288318</td>\n",
              "      <td>0.042204</td>\n",
              "      <td>0.997595</td>\n",
              "      <td>0.233671</td>\n",
              "      <td>0.127713</td>\n",
              "      <td>-0.345805</td>\n",
              "    </tr>\n",
              "    <tr>\n",
              "      <th>growth_marketing</th>\n",
              "      <td>0.020490</td>\n",
              "      <td>1.000000</td>\n",
              "      <td>-0.043417</td>\n",
              "      <td>0.007137</td>\n",
              "      <td>-0.053898</td>\n",
              "      <td>-0.005151</td>\n",
              "      <td>0.008568</td>\n",
              "      <td>-0.016077</td>\n",
              "      <td>-0.011728</td>\n",
              "      <td>0.049099</td>\n",
              "      <td>-0.000167</td>\n",
              "      <td>0.015026</td>\n",
              "      <td>0.019302</td>\n",
              "      <td>-0.012012</td>\n",
              "      <td>-0.006273</td>\n",
              "      <td>-0.023797</td>\n",
              "    </tr>\n",
              "    <tr>\n",
              "      <th>share_RD</th>\n",
              "      <td>0.471702</td>\n",
              "      <td>-0.043417</td>\n",
              "      <td>1.000000</td>\n",
              "      <td>0.421134</td>\n",
              "      <td>0.020085</td>\n",
              "      <td>0.152637</td>\n",
              "      <td>0.104852</td>\n",
              "      <td>0.572160</td>\n",
              "      <td>0.529473</td>\n",
              "      <td>0.387965</td>\n",
              "      <td>0.311434</td>\n",
              "      <td>0.023890</td>\n",
              "      <td>0.473714</td>\n",
              "      <td>0.080427</td>\n",
              "      <td>0.153706</td>\n",
              "      <td>-0.419024</td>\n",
              "    </tr>\n",
              "    <tr>\n",
              "      <th>share_equipments</th>\n",
              "      <td>0.363850</td>\n",
              "      <td>0.007137</td>\n",
              "      <td>0.421134</td>\n",
              "      <td>1.000000</td>\n",
              "      <td>0.033457</td>\n",
              "      <td>0.096407</td>\n",
              "      <td>0.039847</td>\n",
              "      <td>0.483227</td>\n",
              "      <td>0.414306</td>\n",
              "      <td>0.282848</td>\n",
              "      <td>0.293439</td>\n",
              "      <td>0.007624</td>\n",
              "      <td>0.366373</td>\n",
              "      <td>0.006690</td>\n",
              "      <td>0.130469</td>\n",
              "      <td>-0.303338</td>\n",
              "    </tr>\n",
              "    <tr>\n",
              "      <th>patents</th>\n",
              "      <td>0.012761</td>\n",
              "      <td>-0.053898</td>\n",
              "      <td>0.020085</td>\n",
              "      <td>0.033457</td>\n",
              "      <td>1.000000</td>\n",
              "      <td>-0.047207</td>\n",
              "      <td>-0.016037</td>\n",
              "      <td>0.046348</td>\n",
              "      <td>0.079765</td>\n",
              "      <td>0.012738</td>\n",
              "      <td>0.008718</td>\n",
              "      <td>0.029998</td>\n",
              "      <td>0.009442</td>\n",
              "      <td>-0.006200</td>\n",
              "      <td>-0.004052</td>\n",
              "      <td>-0.044716</td>\n",
              "    </tr>\n",
              "    <tr>\n",
              "      <th>cooperation</th>\n",
              "      <td>0.106036</td>\n",
              "      <td>-0.005151</td>\n",
              "      <td>0.152637</td>\n",
              "      <td>0.096407</td>\n",
              "      <td>-0.047207</td>\n",
              "      <td>1.000000</td>\n",
              "      <td>0.040812</td>\n",
              "      <td>0.184669</td>\n",
              "      <td>0.084369</td>\n",
              "      <td>0.103880</td>\n",
              "      <td>0.100563</td>\n",
              "      <td>0.040116</td>\n",
              "      <td>0.108357</td>\n",
              "      <td>0.031046</td>\n",
              "      <td>-0.005491</td>\n",
              "      <td>-0.104002</td>\n",
              "    </tr>\n",
              "    <tr>\n",
              "      <th>support</th>\n",
              "      <td>0.323722</td>\n",
              "      <td>0.008568</td>\n",
              "      <td>0.104852</td>\n",
              "      <td>0.039847</td>\n",
              "      <td>-0.016037</td>\n",
              "      <td>0.040812</td>\n",
              "      <td>1.000000</td>\n",
              "      <td>0.085473</td>\n",
              "      <td>0.103841</td>\n",
              "      <td>0.071036</td>\n",
              "      <td>0.037179</td>\n",
              "      <td>0.014527</td>\n",
              "      <td>0.320115</td>\n",
              "      <td>0.879642</td>\n",
              "      <td>0.037046</td>\n",
              "      <td>-0.050217</td>\n",
              "    </tr>\n",
              "    <tr>\n",
              "      <th>lab</th>\n",
              "      <td>0.553875</td>\n",
              "      <td>-0.016077</td>\n",
              "      <td>0.572160</td>\n",
              "      <td>0.483227</td>\n",
              "      <td>0.046348</td>\n",
              "      <td>0.184669</td>\n",
              "      <td>0.085473</td>\n",
              "      <td>1.000000</td>\n",
              "      <td>0.616139</td>\n",
              "      <td>0.377323</td>\n",
              "      <td>0.447755</td>\n",
              "      <td>0.010149</td>\n",
              "      <td>0.554679</td>\n",
              "      <td>0.048052</td>\n",
              "      <td>0.219887</td>\n",
              "      <td>-0.359368</td>\n",
              "    </tr>\n",
              "    <tr>\n",
              "      <th>joint</th>\n",
              "      <td>0.566242</td>\n",
              "      <td>-0.011728</td>\n",
              "      <td>0.529473</td>\n",
              "      <td>0.414306</td>\n",
              "      <td>0.079765</td>\n",
              "      <td>0.084369</td>\n",
              "      <td>0.103841</td>\n",
              "      <td>0.616139</td>\n",
              "      <td>1.000000</td>\n",
              "      <td>0.256352</td>\n",
              "      <td>0.306688</td>\n",
              "      <td>0.029666</td>\n",
              "      <td>0.567725</td>\n",
              "      <td>0.085929</td>\n",
              "      <td>0.125799</td>\n",
              "      <td>-0.242478</td>\n",
              "    </tr>\n",
              "    <tr>\n",
              "      <th>climate</th>\n",
              "      <td>0.327518</td>\n",
              "      <td>0.049099</td>\n",
              "      <td>0.387965</td>\n",
              "      <td>0.282848</td>\n",
              "      <td>0.012738</td>\n",
              "      <td>0.103880</td>\n",
              "      <td>0.071036</td>\n",
              "      <td>0.377323</td>\n",
              "      <td>0.256352</td>\n",
              "      <td>1.000000</td>\n",
              "      <td>0.247696</td>\n",
              "      <td>0.033056</td>\n",
              "      <td>0.327560</td>\n",
              "      <td>0.064648</td>\n",
              "      <td>0.135840</td>\n",
              "      <td>-0.586590</td>\n",
              "    </tr>\n",
              "    <tr>\n",
              "      <th>share_technology</th>\n",
              "      <td>0.288318</td>\n",
              "      <td>-0.000167</td>\n",
              "      <td>0.311434</td>\n",
              "      <td>0.293439</td>\n",
              "      <td>0.008718</td>\n",
              "      <td>0.100563</td>\n",
              "      <td>0.037179</td>\n",
              "      <td>0.447755</td>\n",
              "      <td>0.306688</td>\n",
              "      <td>0.247696</td>\n",
              "      <td>1.000000</td>\n",
              "      <td>0.039616</td>\n",
              "      <td>0.287954</td>\n",
              "      <td>0.009662</td>\n",
              "      <td>0.168157</td>\n",
              "      <td>-0.224439</td>\n",
              "    </tr>\n",
              "    <tr>\n",
              "      <th>emp</th>\n",
              "      <td>0.042204</td>\n",
              "      <td>0.015026</td>\n",
              "      <td>0.023890</td>\n",
              "      <td>0.007624</td>\n",
              "      <td>0.029998</td>\n",
              "      <td>0.040116</td>\n",
              "      <td>0.014527</td>\n",
              "      <td>0.010149</td>\n",
              "      <td>0.029666</td>\n",
              "      <td>0.033056</td>\n",
              "      <td>0.039616</td>\n",
              "      <td>1.000000</td>\n",
              "      <td>0.041090</td>\n",
              "      <td>0.030503</td>\n",
              "      <td>0.023691</td>\n",
              "      <td>-0.018098</td>\n",
              "    </tr>\n",
              "    <tr>\n",
              "      <th>growth_innovation</th>\n",
              "      <td>0.997595</td>\n",
              "      <td>0.019302</td>\n",
              "      <td>0.473714</td>\n",
              "      <td>0.366373</td>\n",
              "      <td>0.009442</td>\n",
              "      <td>0.108357</td>\n",
              "      <td>0.320115</td>\n",
              "      <td>0.554679</td>\n",
              "      <td>0.567725</td>\n",
              "      <td>0.327560</td>\n",
              "      <td>0.287954</td>\n",
              "      <td>0.041090</td>\n",
              "      <td>1.000000</td>\n",
              "      <td>0.231541</td>\n",
              "      <td>0.127505</td>\n",
              "      <td>-0.347784</td>\n",
              "    </tr>\n",
              "    <tr>\n",
              "      <th>fin_support</th>\n",
              "      <td>0.233671</td>\n",
              "      <td>-0.012012</td>\n",
              "      <td>0.080427</td>\n",
              "      <td>0.006690</td>\n",
              "      <td>-0.006200</td>\n",
              "      <td>0.031046</td>\n",
              "      <td>0.879642</td>\n",
              "      <td>0.048052</td>\n",
              "      <td>0.085929</td>\n",
              "      <td>0.064648</td>\n",
              "      <td>0.009662</td>\n",
              "      <td>0.030503</td>\n",
              "      <td>0.231541</td>\n",
              "      <td>1.000000</td>\n",
              "      <td>0.041273</td>\n",
              "      <td>-0.044158</td>\n",
              "    </tr>\n",
              "    <tr>\n",
              "      <th>age</th>\n",
              "      <td>0.127713</td>\n",
              "      <td>-0.006273</td>\n",
              "      <td>0.153706</td>\n",
              "      <td>0.130469</td>\n",
              "      <td>-0.004052</td>\n",
              "      <td>-0.005491</td>\n",
              "      <td>0.037046</td>\n",
              "      <td>0.219887</td>\n",
              "      <td>0.125799</td>\n",
              "      <td>0.135840</td>\n",
              "      <td>0.168157</td>\n",
              "      <td>0.023691</td>\n",
              "      <td>0.127505</td>\n",
              "      <td>0.041273</td>\n",
              "      <td>1.000000</td>\n",
              "      <td>-0.136874</td>\n",
              "    </tr>\n",
              "    <tr>\n",
              "      <th>compet</th>\n",
              "      <td>-0.345805</td>\n",
              "      <td>-0.023797</td>\n",
              "      <td>-0.419024</td>\n",
              "      <td>-0.303338</td>\n",
              "      <td>-0.044716</td>\n",
              "      <td>-0.104002</td>\n",
              "      <td>-0.050217</td>\n",
              "      <td>-0.359368</td>\n",
              "      <td>-0.242478</td>\n",
              "      <td>-0.586590</td>\n",
              "      <td>-0.224439</td>\n",
              "      <td>-0.018098</td>\n",
              "      <td>-0.347784</td>\n",
              "      <td>-0.044158</td>\n",
              "      <td>-0.136874</td>\n",
              "      <td>1.000000</td>\n",
              "    </tr>\n",
              "  </tbody>\n",
              "</table>\n",
              "</div>\n",
              "    <div class=\"colab-df-buttons\">\n",
              "\n",
              "  <div class=\"colab-df-container\">\n",
              "    <button class=\"colab-df-convert\" onclick=\"convertToInteractive('df-1027741d-3a54-4d7b-9c88-fd3d2a91c200')\"\n",
              "            title=\"Convert this dataframe to an interactive table.\"\n",
              "            style=\"display:none;\">\n",
              "\n",
              "  <svg xmlns=\"http://www.w3.org/2000/svg\" height=\"24px\" viewBox=\"0 -960 960 960\">\n",
              "    <path d=\"M120-120v-720h720v720H120Zm60-500h600v-160H180v160Zm220 220h160v-160H400v160Zm0 220h160v-160H400v160ZM180-400h160v-160H180v160Zm440 0h160v-160H620v160ZM180-180h160v-160H180v160Zm440 0h160v-160H620v160Z\"/>\n",
              "  </svg>\n",
              "    </button>\n",
              "\n",
              "  <style>\n",
              "    .colab-df-container {\n",
              "      display:flex;\n",
              "      gap: 12px;\n",
              "    }\n",
              "\n",
              "    .colab-df-convert {\n",
              "      background-color: #E8F0FE;\n",
              "      border: none;\n",
              "      border-radius: 50%;\n",
              "      cursor: pointer;\n",
              "      display: none;\n",
              "      fill: #1967D2;\n",
              "      height: 32px;\n",
              "      padding: 0 0 0 0;\n",
              "      width: 32px;\n",
              "    }\n",
              "\n",
              "    .colab-df-convert:hover {\n",
              "      background-color: #E2EBFA;\n",
              "      box-shadow: 0px 1px 2px rgba(60, 64, 67, 0.3), 0px 1px 3px 1px rgba(60, 64, 67, 0.15);\n",
              "      fill: #174EA6;\n",
              "    }\n",
              "\n",
              "    .colab-df-buttons div {\n",
              "      margin-bottom: 4px;\n",
              "    }\n",
              "\n",
              "    [theme=dark] .colab-df-convert {\n",
              "      background-color: #3B4455;\n",
              "      fill: #D2E3FC;\n",
              "    }\n",
              "\n",
              "    [theme=dark] .colab-df-convert:hover {\n",
              "      background-color: #434B5C;\n",
              "      box-shadow: 0px 1px 3px 1px rgba(0, 0, 0, 0.15);\n",
              "      filter: drop-shadow(0px 1px 2px rgba(0, 0, 0, 0.3));\n",
              "      fill: #FFFFFF;\n",
              "    }\n",
              "  </style>\n",
              "\n",
              "    <script>\n",
              "      const buttonEl =\n",
              "        document.querySelector('#df-1027741d-3a54-4d7b-9c88-fd3d2a91c200 button.colab-df-convert');\n",
              "      buttonEl.style.display =\n",
              "        google.colab.kernel.accessAllowed ? 'block' : 'none';\n",
              "\n",
              "      async function convertToInteractive(key) {\n",
              "        const element = document.querySelector('#df-1027741d-3a54-4d7b-9c88-fd3d2a91c200');\n",
              "        const dataTable =\n",
              "          await google.colab.kernel.invokeFunction('convertToInteractive',\n",
              "                                                    [key], {});\n",
              "        if (!dataTable) return;\n",
              "\n",
              "        const docLinkHtml = 'Like what you see? Visit the ' +\n",
              "          '<a target=\"_blank\" href=https://colab.research.google.com/notebooks/data_table.ipynb>data table notebook</a>'\n",
              "          + ' to learn more about interactive tables.';\n",
              "        element.innerHTML = '';\n",
              "        dataTable['output_type'] = 'display_data';\n",
              "        await google.colab.output.renderOutput(dataTable, element);\n",
              "        const docLink = document.createElement('div');\n",
              "        docLink.innerHTML = docLinkHtml;\n",
              "        element.appendChild(docLink);\n",
              "      }\n",
              "    </script>\n",
              "  </div>\n",
              "\n",
              "\n",
              "<div id=\"df-a675c9a7-bbb8-412e-8ff3-601c06ab1c18\">\n",
              "  <button class=\"colab-df-quickchart\" onclick=\"quickchart('df-a675c9a7-bbb8-412e-8ff3-601c06ab1c18')\"\n",
              "            title=\"Suggest charts\"\n",
              "            style=\"display:none;\">\n",
              "\n",
              "<svg xmlns=\"http://www.w3.org/2000/svg\" height=\"24px\"viewBox=\"0 0 24 24\"\n",
              "     width=\"24px\">\n",
              "    <g>\n",
              "        <path d=\"M19 3H5c-1.1 0-2 .9-2 2v14c0 1.1.9 2 2 2h14c1.1 0 2-.9 2-2V5c0-1.1-.9-2-2-2zM9 17H7v-7h2v7zm4 0h-2V7h2v10zm4 0h-2v-4h2v4z\"/>\n",
              "    </g>\n",
              "</svg>\n",
              "  </button>\n",
              "\n",
              "<style>\n",
              "  .colab-df-quickchart {\n",
              "      --bg-color: #E8F0FE;\n",
              "      --fill-color: #1967D2;\n",
              "      --hover-bg-color: #E2EBFA;\n",
              "      --hover-fill-color: #174EA6;\n",
              "      --disabled-fill-color: #AAA;\n",
              "      --disabled-bg-color: #DDD;\n",
              "  }\n",
              "\n",
              "  [theme=dark] .colab-df-quickchart {\n",
              "      --bg-color: #3B4455;\n",
              "      --fill-color: #D2E3FC;\n",
              "      --hover-bg-color: #434B5C;\n",
              "      --hover-fill-color: #FFFFFF;\n",
              "      --disabled-bg-color: #3B4455;\n",
              "      --disabled-fill-color: #666;\n",
              "  }\n",
              "\n",
              "  .colab-df-quickchart {\n",
              "    background-color: var(--bg-color);\n",
              "    border: none;\n",
              "    border-radius: 50%;\n",
              "    cursor: pointer;\n",
              "    display: none;\n",
              "    fill: var(--fill-color);\n",
              "    height: 32px;\n",
              "    padding: 0;\n",
              "    width: 32px;\n",
              "  }\n",
              "\n",
              "  .colab-df-quickchart:hover {\n",
              "    background-color: var(--hover-bg-color);\n",
              "    box-shadow: 0 1px 2px rgba(60, 64, 67, 0.3), 0 1px 3px 1px rgba(60, 64, 67, 0.15);\n",
              "    fill: var(--button-hover-fill-color);\n",
              "  }\n",
              "\n",
              "  .colab-df-quickchart-complete:disabled,\n",
              "  .colab-df-quickchart-complete:disabled:hover {\n",
              "    background-color: var(--disabled-bg-color);\n",
              "    fill: var(--disabled-fill-color);\n",
              "    box-shadow: none;\n",
              "  }\n",
              "\n",
              "  .colab-df-spinner {\n",
              "    border: 2px solid var(--fill-color);\n",
              "    border-color: transparent;\n",
              "    border-bottom-color: var(--fill-color);\n",
              "    animation:\n",
              "      spin 1s steps(1) infinite;\n",
              "  }\n",
              "\n",
              "  @keyframes spin {\n",
              "    0% {\n",
              "      border-color: transparent;\n",
              "      border-bottom-color: var(--fill-color);\n",
              "      border-left-color: var(--fill-color);\n",
              "    }\n",
              "    20% {\n",
              "      border-color: transparent;\n",
              "      border-left-color: var(--fill-color);\n",
              "      border-top-color: var(--fill-color);\n",
              "    }\n",
              "    30% {\n",
              "      border-color: transparent;\n",
              "      border-left-color: var(--fill-color);\n",
              "      border-top-color: var(--fill-color);\n",
              "      border-right-color: var(--fill-color);\n",
              "    }\n",
              "    40% {\n",
              "      border-color: transparent;\n",
              "      border-right-color: var(--fill-color);\n",
              "      border-top-color: var(--fill-color);\n",
              "    }\n",
              "    60% {\n",
              "      border-color: transparent;\n",
              "      border-right-color: var(--fill-color);\n",
              "    }\n",
              "    80% {\n",
              "      border-color: transparent;\n",
              "      border-right-color: var(--fill-color);\n",
              "      border-bottom-color: var(--fill-color);\n",
              "    }\n",
              "    90% {\n",
              "      border-color: transparent;\n",
              "      border-bottom-color: var(--fill-color);\n",
              "    }\n",
              "  }\n",
              "</style>\n",
              "\n",
              "  <script>\n",
              "    async function quickchart(key) {\n",
              "      const quickchartButtonEl =\n",
              "        document.querySelector('#' + key + ' button');\n",
              "      quickchartButtonEl.disabled = true;  // To prevent multiple clicks.\n",
              "      quickchartButtonEl.classList.add('colab-df-spinner');\n",
              "      try {\n",
              "        const charts = await google.colab.kernel.invokeFunction(\n",
              "            'suggestCharts', [key], {});\n",
              "      } catch (error) {\n",
              "        console.error('Error during call to suggestCharts:', error);\n",
              "      }\n",
              "      quickchartButtonEl.classList.remove('colab-df-spinner');\n",
              "      quickchartButtonEl.classList.add('colab-df-quickchart-complete');\n",
              "    }\n",
              "    (() => {\n",
              "      let quickchartButtonEl =\n",
              "        document.querySelector('#df-a675c9a7-bbb8-412e-8ff3-601c06ab1c18 button');\n",
              "      quickchartButtonEl.style.display =\n",
              "        google.colab.kernel.accessAllowed ? 'block' : 'none';\n",
              "    })();\n",
              "  </script>\n",
              "</div>\n",
              "\n",
              "    </div>\n",
              "  </div>\n"
            ],
            "application/vnd.google.colaboratory.intrinsic+json": {
              "type": "dataframe",
              "summary": "{\n  \"name\": \"X\",\n  \"rows\": 16,\n  \"fields\": [\n    {\n      \"column\": \"growth_technological\",\n      \"properties\": {\n        \"dtype\": \"number\",\n        \"std\": 0.3519089994159074,\n        \"min\": -0.34580544578945077,\n        \"max\": 1.0,\n        \"num_unique_values\": 16,\n        \"samples\": [\n          1.0,\n          0.02048962440206734,\n          0.10603598692942942\n        ],\n        \"semantic_type\": \"\",\n        \"description\": \"\"\n      }\n    },\n    {\n      \"column\": \"growth_marketing\",\n      \"properties\": {\n        \"dtype\": \"number\",\n        \"std\": 0.2521181539318555,\n        \"min\": -0.053897953618358266,\n        \"max\": 1.0,\n        \"num_unique_values\": 16,\n        \"samples\": [\n          0.02048962440206734,\n          1.0,\n          -0.005151335370559535\n        ],\n        \"semantic_type\": \"\",\n        \"description\": \"\"\n      }\n    },\n    {\n      \"column\": \"share_RD\",\n      \"properties\": {\n        \"dtype\": \"number\",\n        \"std\": 0.32642651719663074,\n        \"min\": -0.4190243358941773,\n        \"max\": 1.0,\n        \"num_unique_values\": 16,\n        \"samples\": [\n          0.4717023108056083,\n          -0.04341743901116629,\n          0.15263667939040879\n        ],\n        \"semantic_type\": \"\",\n        \"description\": \"\"\n      }\n    },\n    {\n      \"column\": \"share_equipments\",\n      \"properties\": {\n        \"dtype\": \"number\",\n        \"std\": 0.29515518801111174,\n        \"min\": -0.30333781232113416,\n        \"max\": 1.0,\n        \"num_unique_values\": 16,\n        \"samples\": [\n          0.36384969287305957,\n          0.007137174932649966,\n          0.09640703742177527\n        ],\n        \"semantic_type\": \"\",\n        \"description\": \"\"\n      }\n    },\n    {\n      \"column\": \"patents\",\n      \"properties\": {\n        \"dtype\": \"number\",\n        \"std\": 0.2511050415838195,\n        \"min\": -0.053897953618358266,\n        \"max\": 1.0,\n        \"num_unique_values\": 16,\n        \"samples\": [\n          0.012760852419614171,\n          -0.053897953618358266,\n          -0.04720742620989764\n        ],\n        \"semantic_type\": \"\",\n        \"description\": \"\"\n      }\n    },\n    {\n      \"column\": \"cooperation\",\n      \"properties\": {\n        \"dtype\": \"number\",\n        \"std\": 0.24664208801244597,\n        \"min\": -0.10400198598206307,\n        \"max\": 1.0,\n        \"num_unique_values\": 16,\n        \"samples\": [\n          0.10603598692942942,\n          -0.005151335370559535,\n          1.0\n        ],\n        \"semantic_type\": \"\",\n        \"description\": \"\"\n      }\n    },\n    {\n      \"column\": \"support\",\n      \"properties\": {\n        \"dtype\": \"number\",\n        \"std\": 0.3121523611391169,\n        \"min\": -0.050217226653899445,\n        \"max\": 1.0,\n        \"num_unique_values\": 16,\n        \"samples\": [\n          0.3237223191149301,\n          0.008568368366007936,\n          0.040812277067528796\n        ],\n        \"semantic_type\": \"\",\n        \"description\": \"\"\n      }\n    },\n    {\n      \"column\": \"lab\",\n      \"properties\": {\n        \"dtype\": \"number\",\n        \"std\": 0.33335833366578144,\n        \"min\": -0.3593677816602676,\n        \"max\": 1.0,\n        \"num_unique_values\": 16,\n        \"samples\": [\n          0.5538751010278375,\n          -0.016077411936709182,\n          0.18466917681675007\n        ],\n        \"semantic_type\": \"\",\n        \"description\": \"\"\n      }\n    },\n    {\n      \"column\": \"joint\",\n      \"properties\": {\n        \"dtype\": \"number\",\n        \"std\": 0.3129628790675417,\n        \"min\": -0.24247828169477378,\n        \"max\": 1.0,\n        \"num_unique_values\": 16,\n        \"samples\": [\n          0.566241776344736,\n          -0.011727854334238959,\n          0.08436882481489225\n        ],\n        \"semantic_type\": \"\",\n        \"description\": \"\"\n      }\n    },\n    {\n      \"column\": \"climate\",\n      \"properties\": {\n        \"dtype\": \"number\",\n        \"std\": 0.31660887187829573,\n        \"min\": -0.5865898853944573,\n        \"max\": 1.0,\n        \"num_unique_values\": 16,\n        \"samples\": [\n          0.3275179900297898,\n          0.04909857377556754,\n          0.10387987463812047\n        ],\n        \"semantic_type\": \"\",\n        \"description\": \"\"\n      }\n    },\n    {\n      \"column\": \"share_technology\",\n      \"properties\": {\n        \"dtype\": \"number\",\n        \"std\": 0.2716557786299602,\n        \"min\": -0.22443897961440568,\n        \"max\": 1.0,\n        \"num_unique_values\": 16,\n        \"samples\": [\n          0.28831813518006,\n          -0.0001674173281929303,\n          0.10056319727042734\n        ],\n        \"semantic_type\": \"\",\n        \"description\": \"\"\n      }\n    },\n    {\n      \"column\": \"emp\",\n      \"properties\": {\n        \"dtype\": \"number\",\n        \"std\": 0.24445698630620988,\n        \"min\": -0.01809783475902141,\n        \"max\": 1.0,\n        \"num_unique_values\": 16,\n        \"samples\": [\n          0.042203618501637015,\n          0.01502605663040682,\n          0.04011595730443443\n        ],\n        \"semantic_type\": \"\",\n        \"description\": \"\"\n      }\n    },\n    {\n      \"column\": \"growth_innovation\",\n      \"properties\": {\n        \"dtype\": \"number\",\n        \"std\": 0.3526117947185164,\n        \"min\": -0.3477837015608039,\n        \"max\": 1.0,\n        \"num_unique_values\": 16,\n        \"samples\": [\n          0.9975949696448421,\n          0.01930247381986601,\n          0.10835731086801241\n        ],\n        \"semantic_type\": \"\",\n        \"description\": \"\"\n      }\n    },\n    {\n      \"column\": \"fin_support\",\n      \"properties\": {\n        \"dtype\": \"number\",\n        \"std\": 0.3118816893620171,\n        \"min\": -0.044157913152650885,\n        \"max\": 1.0,\n        \"num_unique_values\": 16,\n        \"samples\": [\n          0.23367078232609004,\n          -0.012012147834028224,\n          0.031046473724441973\n        ],\n        \"semantic_type\": \"\",\n        \"description\": \"\"\n      }\n    },\n    {\n      \"column\": \"age\",\n      \"properties\": {\n        \"dtype\": \"number\",\n        \"std\": 0.24776095202290524,\n        \"min\": -0.13687404277250523,\n        \"max\": 1.0,\n        \"num_unique_values\": 16,\n        \"samples\": [\n          0.1277127526974306,\n          -0.006273467386676306,\n          -0.0054913364061980365\n        ],\n        \"semantic_type\": \"\",\n        \"description\": \"\"\n      }\n    },\n    {\n      \"column\": \"compet\",\n      \"properties\": {\n        \"dtype\": \"number\",\n        \"std\": 0.3474524128889602,\n        \"min\": -0.5865898853944573,\n        \"max\": 1.0,\n        \"num_unique_values\": 16,\n        \"samples\": [\n          -0.34580544578945077,\n          -0.023797393435249507,\n          -0.10400198598206307\n        ],\n        \"semantic_type\": \"\",\n        \"description\": \"\"\n      }\n    }\n  ]\n}"
            }
          },
          "metadata": {},
          "execution_count": 11
        }
      ],
      "source": [
        "X.corr()"
      ]
    },
    {
      "cell_type": "code",
      "execution_count": null,
      "id": "55cd72a9",
      "metadata": {
        "colab": {
          "base_uri": "https://localhost:8080/"
        },
        "id": "55cd72a9",
        "outputId": "4dec55e6-ab7e-4cf6-bf0d-5aada900eddd"
      },
      "outputs": [
        {
          "output_type": "execute_result",
          "data": {
            "text/plain": [
              "Index(['growth_technological', 'growth_marketing', 'share_RD',\n",
              "       'share_equipments', 'patents', 'cooperation', 'support', 'lab', 'joint',\n",
              "       'climate', 'share_technology', 'emp', 'growth_innovation',\n",
              "       'fin_support', 'age', 'compet'],\n",
              "      dtype='object')"
            ]
          },
          "metadata": {},
          "execution_count": 12
        }
      ],
      "source": [
        "X.columns"
      ]
    },
    {
      "cell_type": "code",
      "execution_count": null,
      "id": "4a7e0a4f",
      "metadata": {
        "colab": {
          "base_uri": "https://localhost:8080/"
        },
        "id": "4a7e0a4f",
        "outputId": "78054d80-cefc-436a-df08-816eb0545084"
      },
      "outputs": [
        {
          "output_type": "stream",
          "name": "stdout",
          "text": [
            "                            OLS Regression Results                            \n",
            "==============================================================================\n",
            "Dep. Variable:                  Sales   R-squared:                       0.821\n",
            "Model:                            OLS   Adj. R-squared:                  0.818\n",
            "Method:                 Least Squares   F-statistic:                     281.8\n",
            "Date:                Thu, 07 Nov 2024   Prob (F-statistic):               0.00\n",
            "Time:                        17:10:14   Log-Likelihood:                -1241.8\n",
            "No. Observations:                1000   AIC:                             2518.\n",
            "Df Residuals:                     983   BIC:                             2601.\n",
            "Df Model:                          16                                         \n",
            "Covariance Type:            nonrobust                                         \n",
            "========================================================================================\n",
            "                           coef    std err          t      P>|t|      [0.025      0.975]\n",
            "----------------------------------------------------------------------------------------\n",
            "Intercept                0.0146      0.184      0.079      0.937      -0.347       0.377\n",
            "growth_technological     0.2158      0.073      2.970      0.003       0.073       0.358\n",
            "growth_marketing        -0.0025      0.019     -0.131      0.895      -0.041       0.035\n",
            "share_RD                 0.0073      0.002      3.460      0.001       0.003       0.011\n",
            "share_equipments         0.0062      0.002      3.597      0.000       0.003       0.010\n",
            "patents                 -0.0006      0.007     -0.085      0.932      -0.015       0.014\n",
            "cooperation             -0.1458      0.058     -2.521      0.012      -0.259      -0.032\n",
            "support                  5.9556      0.704      8.456      0.000       4.574       7.338\n",
            "lab                      0.7567      0.093      8.128      0.000       0.574       0.939\n",
            "joint                    1.5821      0.108     14.593      0.000       1.369       1.795\n",
            "climate                  0.0469      0.013      3.719      0.000       0.022       0.072\n",
            "share_technology         0.1930      0.110      1.760      0.079      -0.022       0.408\n",
            "emp                     -0.0897      0.090     -1.001      0.317      -0.265       0.086\n",
            "growth_innovation       -0.0695      0.072     -0.962      0.336      -0.211       0.072\n",
            "fin_support             -3.3821      1.073     -3.152      0.002      -5.488      -1.276\n",
            "age                     -0.0002      0.003     -0.044      0.965      -0.007       0.007\n",
            "compet                  -0.0003   9.42e-05     -3.577      0.000      -0.001      -0.000\n",
            "==============================================================================\n",
            "Omnibus:                      289.914   Durbin-Watson:                   2.033\n",
            "Prob(Omnibus):                  0.000   Jarque-Bera (JB):            12583.294\n",
            "Skew:                           0.546   Prob(JB):                         0.00\n",
            "Kurtosis:                      20.344   Cond. No.                     2.01e+04\n",
            "==============================================================================\n",
            "\n",
            "Notes:\n",
            "[1] Standard Errors assume that the covariance matrix of the errors is correctly specified.\n",
            "[2] The condition number is large, 2.01e+04. This might indicate that there are\n",
            "strong multicollinearity or other numerical problems.\n"
          ]
        }
      ],
      "source": [
        "m1=smf.ols('Sales ~ growth_technological+growth_marketing+share_RD+share_equipments+patents+cooperation+'\\\n",
        "          'support+lab+joint+climate+share_technology+emp+growth_innovation+fin_support+age+compet', data=data)\n",
        "fitted=m1.fit()\n",
        "print(fitted.summary())"
      ]
    },
    {
      "cell_type": "code",
      "execution_count": null,
      "id": "1bbed492",
      "metadata": {
        "id": "1bbed492"
      },
      "outputs": [],
      "source": [
        "# Удалим поочередно growth_innovation и growth_technological"
      ]
    },
    {
      "cell_type": "code",
      "execution_count": null,
      "id": "2e1bdb25",
      "metadata": {
        "colab": {
          "base_uri": "https://localhost:8080/"
        },
        "id": "2e1bdb25",
        "outputId": "c2a1a532-e157-4746-b35f-bcf1444f3595"
      },
      "outputs": [
        {
          "output_type": "stream",
          "name": "stdout",
          "text": [
            "                            OLS Regression Results                            \n",
            "==============================================================================\n",
            "Dep. Variable:                  Sales   R-squared:                       0.821\n",
            "Model:                            OLS   Adj. R-squared:                  0.818\n",
            "Method:                 Least Squares   F-statistic:                     300.5\n",
            "Date:                Thu, 07 Nov 2024   Prob (F-statistic):               0.00\n",
            "Time:                        17:13:51   Log-Likelihood:                -1242.3\n",
            "No. Observations:                1000   AIC:                             2517.\n",
            "Df Residuals:                     984   BIC:                             2595.\n",
            "Df Model:                          15                                         \n",
            "Covariance Type:            nonrobust                                         \n",
            "========================================================================================\n",
            "                           coef    std err          t      P>|t|      [0.025      0.975]\n",
            "----------------------------------------------------------------------------------------\n",
            "Intercept               -0.0249      0.180     -0.139      0.890      -0.378       0.328\n",
            "growth_technological     0.1462      0.007     20.815      0.000       0.132       0.160\n",
            "growth_marketing        -0.0023      0.019     -0.117      0.907      -0.040       0.036\n",
            "share_RD                 0.0072      0.002      3.444      0.001       0.003       0.011\n",
            "share_equipments         0.0062      0.002      3.569      0.000       0.003       0.010\n",
            "patents                 -0.0003      0.007     -0.034      0.973      -0.015       0.014\n",
            "cooperation             -0.1474      0.058     -2.550      0.011      -0.261      -0.034\n",
            "support                  5.9838      0.704      8.504      0.000       4.603       7.365\n",
            "lab                      0.7569      0.093      8.131      0.000       0.574       0.940\n",
            "joint                    1.5790      0.108     14.571      0.000       1.366       1.792\n",
            "climate                  0.0472      0.013      3.739      0.000       0.022       0.072\n",
            "share_technology         0.1946      0.110      1.775      0.076      -0.021       0.410\n",
            "emp                     -0.0884      0.090     -0.987      0.324      -0.264       0.087\n",
            "fin_support             -3.4106      1.073     -3.180      0.002      -5.516      -1.306\n",
            "age                     -0.0001      0.003     -0.039      0.969      -0.007       0.007\n",
            "compet                  -0.0003   9.42e-05     -3.547      0.000      -0.001      -0.000\n",
            "==============================================================================\n",
            "Omnibus:                      290.497   Durbin-Watson:                   2.035\n",
            "Prob(Omnibus):                  0.000   Jarque-Bera (JB):            12751.481\n",
            "Skew:                           0.545   Prob(JB):                         0.00\n",
            "Kurtosis:                      20.460   Cond. No.                     2.01e+04\n",
            "==============================================================================\n",
            "\n",
            "Notes:\n",
            "[1] Standard Errors assume that the covariance matrix of the errors is correctly specified.\n",
            "[2] The condition number is large, 2.01e+04. This might indicate that there are\n",
            "strong multicollinearity or other numerical problems.\n"
          ]
        }
      ],
      "source": [
        "# Удалим growth_innovation\n",
        "m1=smf.ols('Sales ~ growth_technological+growth_marketing+share_RD+share_equipments+patents+cooperation+'\\\n",
        "          'support+lab+joint+climate+share_technology+emp+fin_support+age+compet', data=data)\n",
        "fitted=m1.fit()\n",
        "print(fitted.summary())"
      ]
    },
    {
      "cell_type": "code",
      "execution_count": null,
      "id": "872661a5",
      "metadata": {
        "colab": {
          "base_uri": "https://localhost:8080/"
        },
        "id": "872661a5",
        "outputId": "77b72547-ef29-43b7-b921-8ca67eb20db3"
      },
      "outputs": [
        {
          "output_type": "execute_result",
          "data": {
            "text/plain": [
              "702.3735130322776"
            ]
          },
          "metadata": {},
          "execution_count": 15
        }
      ],
      "source": [
        "e1=np.sum((fitted.resid)**2)\n",
        "e1"
      ]
    },
    {
      "cell_type": "code",
      "execution_count": null,
      "id": "888126d0",
      "metadata": {
        "colab": {
          "base_uri": "https://localhost:8080/"
        },
        "id": "888126d0",
        "outputId": "ceb5af08-844d-4623-859a-6b6e661c0207"
      },
      "outputs": [
        {
          "output_type": "stream",
          "name": "stdout",
          "text": [
            "                            OLS Regression Results                            \n",
            "==============================================================================\n",
            "Dep. Variable:                  Sales   R-squared:                       0.819\n",
            "Model:                            OLS   Adj. R-squared:                  0.817\n",
            "Method:                 Least Squares   F-statistic:                     297.6\n",
            "Date:                Thu, 07 Nov 2024   Prob (F-statistic):               0.00\n",
            "Time:                        17:15:16   Log-Likelihood:                -1246.3\n",
            "No. Observations:                1000   AIC:                             2525.\n",
            "Df Residuals:                     984   BIC:                             2603.\n",
            "Df Model:                          15                                         \n",
            "Covariance Type:            nonrobust                                         \n",
            "=====================================================================================\n",
            "                        coef    std err          t      P>|t|      [0.025      0.975]\n",
            "-------------------------------------------------------------------------------------\n",
            "Intercept            -0.0984      0.181     -0.543      0.587      -0.454       0.257\n",
            "growth_marketing     -0.0015      0.019     -0.078      0.938      -0.040       0.037\n",
            "share_RD              0.0072      0.002      3.416      0.001       0.003       0.011\n",
            "share_equipments      0.0061      0.002      3.503      0.000       0.003       0.009\n",
            "patents               0.0005      0.008      0.062      0.950      -0.014       0.015\n",
            "cooperation          -0.1510      0.058     -2.602      0.009      -0.265      -0.037\n",
            "support               6.0957      0.705      8.640      0.000       4.711       7.480\n",
            "lab                   0.7627      0.093      8.162      0.000       0.579       0.946\n",
            "joint                 1.5820      0.109     14.535      0.000       1.368       1.796\n",
            "climate               0.0478      0.013      3.776      0.000       0.023       0.073\n",
            "share_technology      0.1984      0.110      1.803      0.072      -0.018       0.414\n",
            "emp                  -0.0850      0.090     -0.945      0.345      -0.261       0.092\n",
            "growth_innovation     0.1440      0.007     20.543      0.000       0.130       0.158\n",
            "fin_support          -3.5068      1.077     -3.257      0.001      -5.619      -1.394\n",
            "age                  -0.0001      0.003     -0.030      0.976      -0.007       0.007\n",
            "compet               -0.0003   9.46e-05     -3.501      0.000      -0.001      -0.000\n",
            "==============================================================================\n",
            "Omnibus:                      296.422   Durbin-Watson:                   2.041\n",
            "Prob(Omnibus):                  0.000   Jarque-Bera (JB):            13252.050\n",
            "Skew:                           0.572   Prob(JB):                         0.00\n",
            "Kurtosis:                      20.797   Cond. No.                     2.01e+04\n",
            "==============================================================================\n",
            "\n",
            "Notes:\n",
            "[1] Standard Errors assume that the covariance matrix of the errors is correctly specified.\n",
            "[2] The condition number is large, 2.01e+04. This might indicate that there are\n",
            "strong multicollinearity or other numerical problems.\n"
          ]
        }
      ],
      "source": [
        "#growth_technology\n",
        "m1=smf.ols('Sales ~ growth_marketing+share_RD+share_equipments+patents+cooperation+'\\\n",
        "          'support+lab+joint+climate+share_technology+emp+growth_innovation+fin_support+age+compet', data=data)\n",
        "fitted=m1.fit()\n",
        "print(fitted.summary())"
      ]
    },
    {
      "cell_type": "code",
      "execution_count": null,
      "id": "b7378a52",
      "metadata": {
        "colab": {
          "base_uri": "https://localhost:8080/"
        },
        "id": "b7378a52",
        "outputId": "05d19ec9-7564-49fa-ba75-28e87fd58922"
      },
      "outputs": [
        {
          "output_type": "execute_result",
          "data": {
            "text/plain": [
              "708.0091695252702"
            ]
          },
          "metadata": {},
          "execution_count": 17
        }
      ],
      "source": [
        "e2=np.sum((fitted.resid)**2)\n",
        "e2"
      ]
    },
    {
      "cell_type": "code",
      "execution_count": null,
      "id": "a8ef193a",
      "metadata": {
        "id": "a8ef193a"
      },
      "outputs": [],
      "source": [
        "# будем убирать growth_innovation"
      ]
    },
    {
      "cell_type": "code",
      "execution_count": null,
      "id": "67a45965",
      "metadata": {
        "colab": {
          "base_uri": "https://localhost:8080/"
        },
        "id": "67a45965",
        "outputId": "cf9fc62d-bea6-4f10-91b7-f1a52429a239"
      },
      "outputs": [
        {
          "output_type": "stream",
          "name": "stdout",
          "text": [
            "                            OLS Regression Results                            \n",
            "==============================================================================\n",
            "Dep. Variable:                  Sales   R-squared:                       0.821\n",
            "Model:                            OLS   Adj. R-squared:                  0.818\n",
            "Method:                 Least Squares   F-statistic:                     300.5\n",
            "Date:                Thu, 07 Nov 2024   Prob (F-statistic):               0.00\n",
            "Time:                        17:16:29   Log-Likelihood:                -1242.3\n",
            "No. Observations:                1000   AIC:                             2517.\n",
            "Df Residuals:                     984   BIC:                             2595.\n",
            "Df Model:                          15                                         \n",
            "Covariance Type:            nonrobust                                         \n",
            "========================================================================================\n",
            "                           coef    std err          t      P>|t|      [0.025      0.975]\n",
            "----------------------------------------------------------------------------------------\n",
            "Intercept               -0.0249      0.180     -0.139      0.890      -0.378       0.328\n",
            "growth_technological     0.1462      0.007     20.815      0.000       0.132       0.160\n",
            "growth_marketing        -0.0023      0.019     -0.117      0.907      -0.040       0.036\n",
            "share_RD                 0.0072      0.002      3.444      0.001       0.003       0.011\n",
            "share_equipments         0.0062      0.002      3.569      0.000       0.003       0.010\n",
            "patents                 -0.0003      0.007     -0.034      0.973      -0.015       0.014\n",
            "cooperation             -0.1474      0.058     -2.550      0.011      -0.261      -0.034\n",
            "support                  5.9838      0.704      8.504      0.000       4.603       7.365\n",
            "lab                      0.7569      0.093      8.131      0.000       0.574       0.940\n",
            "joint                    1.5790      0.108     14.571      0.000       1.366       1.792\n",
            "climate                  0.0472      0.013      3.739      0.000       0.022       0.072\n",
            "share_technology         0.1946      0.110      1.775      0.076      -0.021       0.410\n",
            "emp                     -0.0884      0.090     -0.987      0.324      -0.264       0.087\n",
            "fin_support             -3.4106      1.073     -3.180      0.002      -5.516      -1.306\n",
            "age                     -0.0001      0.003     -0.039      0.969      -0.007       0.007\n",
            "compet                  -0.0003   9.42e-05     -3.547      0.000      -0.001      -0.000\n",
            "==============================================================================\n",
            "Omnibus:                      290.497   Durbin-Watson:                   2.035\n",
            "Prob(Omnibus):                  0.000   Jarque-Bera (JB):            12751.481\n",
            "Skew:                           0.545   Prob(JB):                         0.00\n",
            "Kurtosis:                      20.460   Cond. No.                     2.01e+04\n",
            "==============================================================================\n",
            "\n",
            "Notes:\n",
            "[1] Standard Errors assume that the covariance matrix of the errors is correctly specified.\n",
            "[2] The condition number is large, 2.01e+04. This might indicate that there are\n",
            "strong multicollinearity or other numerical problems.\n"
          ]
        }
      ],
      "source": [
        "m1=smf.ols('Sales ~ growth_technological+growth_marketing+share_RD+share_equipments+patents+cooperation+'\\\n",
        "          'support+lab+joint+climate+share_technology+emp+fin_support+age+compet', data=data)\n",
        "fitted=m1.fit()\n",
        "print(fitted.summary())"
      ]
    },
    {
      "cell_type": "code",
      "execution_count": null,
      "id": "81b35c9b",
      "metadata": {
        "colab": {
          "base_uri": "https://localhost:8080/"
        },
        "id": "81b35c9b",
        "outputId": "59f9ecf3-6394-4861-cae6-3b63100131cb"
      },
      "outputs": [
        {
          "output_type": "stream",
          "name": "stdout",
          "text": [
            "                            OLS Regression Results                            \n",
            "==============================================================================\n",
            "Dep. Variable:                  Sales   R-squared:                       0.819\n",
            "Model:                            OLS   Adj. R-squared:                  0.816\n",
            "Method:                 Least Squares   F-statistic:                     318.3\n",
            "Date:                Thu, 07 Nov 2024   Prob (F-statistic):               0.00\n",
            "Time:                        17:16:45   Log-Likelihood:                -1247.4\n",
            "No. Observations:                1000   AIC:                             2525.\n",
            "Df Residuals:                     985   BIC:                             2598.\n",
            "Df Model:                          14                                         \n",
            "Covariance Type:            nonrobust                                         \n",
            "========================================================================================\n",
            "                           coef    std err          t      P>|t|      [0.025      0.975]\n",
            "----------------------------------------------------------------------------------------\n",
            "Intercept               -0.0391      0.181     -0.216      0.829      -0.394       0.315\n",
            "growth_technological     0.1489      0.007     21.253      0.000       0.135       0.163\n",
            "growth_marketing         0.0002      0.019      0.009      0.993      -0.038       0.038\n",
            "share_RD                 0.0072      0.002      3.409      0.001       0.003       0.011\n",
            "share_equipments         0.0064      0.002      3.678      0.000       0.003       0.010\n",
            "patents                 -0.0005      0.008     -0.064      0.949      -0.015       0.014\n",
            "cooperation             -0.1476      0.058     -2.542      0.011      -0.262      -0.034\n",
            "support                  4.0296      0.344     11.708      0.000       3.354       4.705\n",
            "lab                      0.7633      0.093      8.164      0.000       0.580       0.947\n",
            "joint                    1.5546      0.109     14.316      0.000       1.342       1.768\n",
            "climate                  0.0460      0.013      3.633      0.000       0.021       0.071\n",
            "share_technology         0.2041      0.110      1.854      0.064      -0.012       0.420\n",
            "emp                     -0.1000      0.090     -1.112      0.267      -0.276       0.077\n",
            "age                     -0.0005      0.003     -0.137      0.891      -0.007       0.006\n",
            "compet                  -0.0003   9.46e-05     -3.447      0.001      -0.001      -0.000\n",
            "==============================================================================\n",
            "Omnibus:                      365.671   Durbin-Watson:                   2.026\n",
            "Prob(Omnibus):                  0.000   Jarque-Bera (JB):            13101.018\n",
            "Skew:                           0.988   Prob(JB):                         0.00\n",
            "Kurtosis:                      20.622   Cond. No.                     5.52e+03\n",
            "==============================================================================\n",
            "\n",
            "Notes:\n",
            "[1] Standard Errors assume that the covariance matrix of the errors is correctly specified.\n",
            "[2] The condition number is large, 5.52e+03. This might indicate that there are\n",
            "strong multicollinearity or other numerical problems.\n"
          ]
        }
      ],
      "source": [
        "# уберем fin_support\n",
        "m1=smf.ols('Sales ~ growth_technological+growth_marketing+share_RD+share_equipments+patents+cooperation+'\\\n",
        "          'support+lab+joint+climate+share_technology+emp+age+compet', data=data)\n",
        "fitted=m1.fit()\n",
        "print(fitted.summary())"
      ]
    },
    {
      "cell_type": "code",
      "execution_count": null,
      "id": "48bb2a8d",
      "metadata": {
        "colab": {
          "base_uri": "https://localhost:8080/"
        },
        "id": "48bb2a8d",
        "outputId": "101eda49-fbd9-4a41-e414-f70cf25e4661"
      },
      "outputs": [
        {
          "output_type": "execute_result",
          "data": {
            "text/plain": [
              "709.590015681908"
            ]
          },
          "metadata": {},
          "execution_count": 20
        }
      ],
      "source": [
        "e2=np.sum((fitted.resid)**2)\n",
        "e2"
      ]
    },
    {
      "cell_type": "code",
      "execution_count": null,
      "id": "48b3b967",
      "metadata": {
        "colab": {
          "base_uri": "https://localhost:8080/"
        },
        "id": "48b3b967",
        "outputId": "1e6f64f8-dc54-4173-e0d0-addfc0a06b6e"
      },
      "outputs": [
        {
          "output_type": "stream",
          "name": "stdout",
          "text": [
            "                            OLS Regression Results                            \n",
            "==============================================================================\n",
            "Dep. Variable:                  Sales   R-squared:                       0.808\n",
            "Model:                            OLS   Adj. R-squared:                  0.805\n",
            "Method:                 Least Squares   F-statistic:                     295.4\n",
            "Date:                Thu, 07 Nov 2024   Prob (F-statistic):               0.00\n",
            "Time:                        17:16:50   Log-Likelihood:                -1277.8\n",
            "No. Observations:                1000   AIC:                             2586.\n",
            "Df Residuals:                     985   BIC:                             2659.\n",
            "Df Model:                          14                                         \n",
            "Covariance Type:            nonrobust                                         \n",
            "========================================================================================\n",
            "                           coef    std err          t      P>|t|      [0.025      0.975]\n",
            "----------------------------------------------------------------------------------------\n",
            "Intercept               -0.1183      0.186     -0.636      0.525      -0.483       0.247\n",
            "growth_technological     0.1620      0.007     23.101      0.000       0.148       0.176\n",
            "growth_marketing         0.0034      0.020      0.167      0.867      -0.036       0.043\n",
            "share_RD                 0.0073      0.002      3.357      0.001       0.003       0.012\n",
            "share_equipments         0.0064      0.002      3.575      0.000       0.003       0.010\n",
            "patents                 -0.0010      0.008     -0.132      0.895      -0.016       0.014\n",
            "cooperation             -0.1419      0.060     -2.371      0.018      -0.259      -0.024\n",
            "lab                      0.7475      0.096      7.755      0.000       0.558       0.937\n",
            "joint                    1.4988      0.112     13.407      0.000       1.279       1.718\n",
            "climate                  0.0452      0.013      3.465      0.001       0.020       0.071\n",
            "share_technology         0.2093      0.114      1.844      0.066      -0.013       0.432\n",
            "emp                     -0.1158      0.093     -1.249      0.212      -0.298       0.066\n",
            "fin_support              4.5569      0.541      8.426      0.000       3.496       5.618\n",
            "age                     -0.0006      0.004     -0.174      0.862      -0.008       0.006\n",
            "compet                  -0.0003   9.74e-05     -3.043      0.002      -0.000      -0.000\n",
            "==============================================================================\n",
            "Omnibus:                      592.465   Durbin-Watson:                   2.021\n",
            "Prob(Omnibus):                  0.000   Jarque-Bera (JB):            33351.314\n",
            "Skew:                           1.965   Prob(JB):                         0.00\n",
            "Kurtosis:                      31.018   Cond. No.                     8.40e+03\n",
            "==============================================================================\n",
            "\n",
            "Notes:\n",
            "[1] Standard Errors assume that the covariance matrix of the errors is correctly specified.\n",
            "[2] The condition number is large, 8.4e+03. This might indicate that there are\n",
            "strong multicollinearity or other numerical problems.\n"
          ]
        }
      ],
      "source": [
        "# уберем support\n",
        "m1=smf.ols('Sales ~ growth_technological+growth_marketing+share_RD+share_equipments+patents+cooperation+'\\\n",
        "          'lab+joint+climate+share_technology+emp+fin_support+age+compet', data=data)\n",
        "fitted=m1.fit()\n",
        "print(fitted.summary())"
      ]
    },
    {
      "cell_type": "code",
      "execution_count": null,
      "id": "9b7979c0",
      "metadata": {
        "colab": {
          "base_uri": "https://localhost:8080/"
        },
        "id": "9b7979c0",
        "outputId": "6f1a4980-8c75-4afd-e3a4-f1a829a6d758"
      },
      "outputs": [
        {
          "output_type": "execute_result",
          "data": {
            "text/plain": [
              "753.9932983469085"
            ]
          },
          "metadata": {},
          "execution_count": 22
        }
      ],
      "source": [
        "e2=np.sum((fitted.resid)**2)\n",
        "e2"
      ]
    },
    {
      "cell_type": "code",
      "execution_count": null,
      "id": "006bd16b",
      "metadata": {
        "colab": {
          "base_uri": "https://localhost:8080/"
        },
        "id": "006bd16b",
        "outputId": "3e2e2019-aeac-4880-cf75-29494061ed48"
      },
      "outputs": [
        {
          "output_type": "stream",
          "name": "stdout",
          "text": [
            "                            OLS Regression Results                            \n",
            "==============================================================================\n",
            "Dep. Variable:                  Sales   R-squared:                       0.819\n",
            "Model:                            OLS   Adj. R-squared:                  0.816\n",
            "Method:                 Least Squares   F-statistic:                     318.3\n",
            "Date:                Thu, 07 Nov 2024   Prob (F-statistic):               0.00\n",
            "Time:                        17:16:57   Log-Likelihood:                -1247.4\n",
            "No. Observations:                1000   AIC:                             2525.\n",
            "Df Residuals:                     985   BIC:                             2598.\n",
            "Df Model:                          14                                         \n",
            "Covariance Type:            nonrobust                                         \n",
            "========================================================================================\n",
            "                           coef    std err          t      P>|t|      [0.025      0.975]\n",
            "----------------------------------------------------------------------------------------\n",
            "Intercept               -0.0391      0.181     -0.216      0.829      -0.394       0.315\n",
            "growth_technological     0.1489      0.007     21.253      0.000       0.135       0.163\n",
            "growth_marketing         0.0002      0.019      0.009      0.993      -0.038       0.038\n",
            "share_RD                 0.0072      0.002      3.409      0.001       0.003       0.011\n",
            "share_equipments         0.0064      0.002      3.678      0.000       0.003       0.010\n",
            "patents                 -0.0005      0.008     -0.064      0.949      -0.015       0.014\n",
            "cooperation             -0.1476      0.058     -2.542      0.011      -0.262      -0.034\n",
            "support                  4.0296      0.344     11.708      0.000       3.354       4.705\n",
            "lab                      0.7633      0.093      8.164      0.000       0.580       0.947\n",
            "joint                    1.5546      0.109     14.316      0.000       1.342       1.768\n",
            "climate                  0.0460      0.013      3.633      0.000       0.021       0.071\n",
            "share_technology         0.2041      0.110      1.854      0.064      -0.012       0.420\n",
            "emp                     -0.1000      0.090     -1.112      0.267      -0.276       0.077\n",
            "age                     -0.0005      0.003     -0.137      0.891      -0.007       0.006\n",
            "compet                  -0.0003   9.46e-05     -3.447      0.001      -0.001      -0.000\n",
            "==============================================================================\n",
            "Omnibus:                      365.671   Durbin-Watson:                   2.026\n",
            "Prob(Omnibus):                  0.000   Jarque-Bera (JB):            13101.018\n",
            "Skew:                           0.988   Prob(JB):                         0.00\n",
            "Kurtosis:                      20.622   Cond. No.                     5.52e+03\n",
            "==============================================================================\n",
            "\n",
            "Notes:\n",
            "[1] Standard Errors assume that the covariance matrix of the errors is correctly specified.\n",
            "[2] The condition number is large, 5.52e+03. This might indicate that there are\n",
            "strong multicollinearity or other numerical problems.\n"
          ]
        }
      ],
      "source": [
        "# убирать будем fin_support\n",
        "\n",
        "m1=smf.ols('Sales ~ growth_technological+growth_marketing+share_RD+share_equipments+patents+cooperation+'\\\n",
        "          'support+lab+joint+climate+share_technology+emp+age+compet', data=data)\n",
        "fitted=m1.fit()\n",
        "print(fitted.summary())"
      ]
    },
    {
      "cell_type": "code",
      "execution_count": null,
      "id": "cea1b346",
      "metadata": {
        "colab": {
          "base_uri": "https://localhost:8080/"
        },
        "id": "cea1b346",
        "outputId": "dead4da9-0577-4009-b439-376355d8f9f7"
      },
      "outputs": [
        {
          "output_type": "stream",
          "name": "stdout",
          "text": [
            "                            OLS Regression Results                            \n",
            "==============================================================================\n",
            "Dep. Variable:                  Sales   R-squared:                       0.819\n",
            "Model:                            OLS   Adj. R-squared:                  0.817\n",
            "Method:                 Least Squares   F-statistic:                     343.2\n",
            "Date:                Thu, 07 Nov 2024   Prob (F-statistic):               0.00\n",
            "Time:                        17:17:31   Log-Likelihood:                -1247.4\n",
            "No. Observations:                1000   AIC:                             2523.\n",
            "Df Residuals:                     986   BIC:                             2592.\n",
            "Df Model:                          13                                         \n",
            "Covariance Type:            nonrobust                                         \n",
            "========================================================================================\n",
            "                           coef    std err          t      P>|t|      [0.025      0.975]\n",
            "----------------------------------------------------------------------------------------\n",
            "Intercept               -0.0550      0.138     -0.398      0.691      -0.326       0.216\n",
            "growth_technological     0.1489      0.007     21.268      0.000       0.135       0.163\n",
            "growth_marketing         0.0002      0.019      0.010      0.992      -0.038       0.038\n",
            "share_RD                 0.0072      0.002      3.409      0.001       0.003       0.011\n",
            "share_equipments         0.0064      0.002      3.678      0.000       0.003       0.010\n",
            "patents                 -0.0005      0.008     -0.062      0.951      -0.015       0.014\n",
            "cooperation             -0.1472      0.058     -2.540      0.011      -0.261      -0.033\n",
            "support                  4.0285      0.344     11.713      0.000       3.354       4.703\n",
            "lab                      0.7618      0.093      8.208      0.000       0.580       0.944\n",
            "joint                    1.5550      0.109     14.330      0.000       1.342       1.768\n",
            "climate                  0.0460      0.013      3.632      0.000       0.021       0.071\n",
            "share_technology         0.2030      0.110      1.850      0.065      -0.012       0.418\n",
            "emp                     -0.1002      0.090     -1.115      0.265      -0.277       0.076\n",
            "compet                  -0.0003   9.45e-05     -3.446      0.001      -0.001      -0.000\n",
            "==============================================================================\n",
            "Omnibus:                      365.979   Durbin-Watson:                   2.027\n",
            "Prob(Omnibus):                  0.000   Jarque-Bera (JB):            13111.488\n",
            "Skew:                           0.989   Prob(JB):                         0.00\n",
            "Kurtosis:                      20.628   Cond. No.                     5.51e+03\n",
            "==============================================================================\n",
            "\n",
            "Notes:\n",
            "[1] Standard Errors assume that the covariance matrix of the errors is correctly specified.\n",
            "[2] The condition number is large, 5.51e+03. This might indicate that there are\n",
            "strong multicollinearity or other numerical problems.\n"
          ]
        }
      ],
      "source": [
        "# уберем age\n",
        "m1=smf.ols('Sales ~ growth_technological+growth_marketing+share_RD+share_equipments+patents+cooperation+'\\\n",
        "          'support+lab+joint+climate+share_technology+emp+compet', data=data)\n",
        "fitted=m1.fit()\n",
        "print(fitted.summary())"
      ]
    },
    {
      "cell_type": "code",
      "execution_count": null,
      "id": "5d7e3656",
      "metadata": {
        "colab": {
          "base_uri": "https://localhost:8080/"
        },
        "id": "5d7e3656",
        "outputId": "a060c3ab-1756-4f00-a321-61145cb97adc"
      },
      "outputs": [
        {
          "output_type": "execute_result",
          "data": {
            "text/plain": [
              "709.6035935446257"
            ]
          },
          "metadata": {},
          "execution_count": 25
        }
      ],
      "source": [
        "e2=np.sum((fitted.resid)**2)\n",
        "e2"
      ]
    },
    {
      "cell_type": "code",
      "execution_count": null,
      "id": "8fe33d61",
      "metadata": {
        "colab": {
          "base_uri": "https://localhost:8080/"
        },
        "id": "8fe33d61",
        "outputId": "dfdd634e-3689-433f-ea75-1fa23a513e3b"
      },
      "outputs": [
        {
          "output_type": "stream",
          "name": "stdout",
          "text": [
            "                            OLS Regression Results                            \n",
            "==============================================================================\n",
            "Dep. Variable:                  Sales   R-squared:                       0.807\n",
            "Model:                            OLS   Adj. R-squared:                  0.804\n",
            "Method:                 Least Squares   F-statistic:                     343.1\n",
            "Date:                Thu, 07 Nov 2024   Prob (F-statistic):               0.00\n",
            "Time:                        17:17:37   Log-Likelihood:                -1280.5\n",
            "No. Observations:                1000   AIC:                             2587.\n",
            "Df Residuals:                     987   BIC:                             2651.\n",
            "Df Model:                          12                                         \n",
            "Covariance Type:            nonrobust                                         \n",
            "========================================================================================\n",
            "                           coef    std err          t      P>|t|      [0.025      0.975]\n",
            "----------------------------------------------------------------------------------------\n",
            "Intercept               -0.2406      0.141     -1.706      0.088      -0.517       0.036\n",
            "growth_technological     0.1605      0.007     22.666      0.000       0.147       0.174\n",
            "growth_marketing        -0.0028      0.020     -0.139      0.889      -0.042       0.037\n",
            "share_RD                 0.0106      0.002      4.991      0.000       0.006       0.015\n",
            "share_equipments         0.0089      0.002      5.061      0.000       0.005       0.012\n",
            "patents                  0.0008      0.008      0.099      0.921      -0.014       0.016\n",
            "cooperation             -0.0933      0.059     -1.569      0.117      -0.210       0.023\n",
            "support                  3.8554      0.355     10.872      0.000       3.160       4.551\n",
            "joint                    1.8221      0.107     17.038      0.000       1.612       2.032\n",
            "climate                  0.0555      0.013      4.262      0.000       0.030       0.081\n",
            "share_technology         0.4283      0.110      3.901      0.000       0.213       0.644\n",
            "emp                     -0.1272      0.093     -1.371      0.171      -0.309       0.055\n",
            "compet                  -0.0003   9.76e-05     -3.522      0.000      -0.001      -0.000\n",
            "==============================================================================\n",
            "Omnibus:                      296.176   Durbin-Watson:                   2.015\n",
            "Prob(Omnibus):                  0.000   Jarque-Bera (JB):             7465.284\n",
            "Skew:                           0.767   Prob(JB):                         0.00\n",
            "Kurtosis:                      16.297   Cond. No.                     5.50e+03\n",
            "==============================================================================\n",
            "\n",
            "Notes:\n",
            "[1] Standard Errors assume that the covariance matrix of the errors is correctly specified.\n",
            "[2] The condition number is large, 5.5e+03. This might indicate that there are\n",
            "strong multicollinearity or other numerical problems.\n"
          ]
        }
      ],
      "source": [
        "# убираем lab\n",
        "\n",
        "m1=smf.ols('Sales ~ growth_technological+growth_marketing+share_RD+share_equipments+patents+cooperation+'\\\n",
        "          'support+joint+climate+share_technology+emp+compet', data=data)\n",
        "fitted=m1.fit()\n",
        "print(fitted.summary())\n"
      ]
    },
    {
      "cell_type": "code",
      "execution_count": null,
      "id": "f6631ad5",
      "metadata": {
        "colab": {
          "base_uri": "https://localhost:8080/"
        },
        "id": "f6631ad5",
        "outputId": "cc6d4658-a540-42fc-d4b9-2615ab49ca31"
      },
      "outputs": [
        {
          "output_type": "execute_result",
          "data": {
            "text/plain": [
              "758.0929751158086"
            ]
          },
          "metadata": {},
          "execution_count": 27
        }
      ],
      "source": [
        "e2=np.sum((fitted.resid)**2)\n",
        "e2"
      ]
    },
    {
      "cell_type": "code",
      "execution_count": null,
      "id": "eb478c5f",
      "metadata": {
        "colab": {
          "base_uri": "https://localhost:8080/"
        },
        "id": "eb478c5f",
        "outputId": "a4c72ec2-8666-4fdd-94c8-aa5aeaea4b13"
      },
      "outputs": [
        {
          "output_type": "stream",
          "name": "stdout",
          "text": [
            "                            OLS Regression Results                            \n",
            "==============================================================================\n",
            "Dep. Variable:                  Sales   R-squared:                       0.781\n",
            "Model:                            OLS   Adj. R-squared:                  0.779\n",
            "Method:                 Least Squares   F-statistic:                     293.8\n",
            "Date:                Thu, 07 Nov 2024   Prob (F-statistic):          1.25e-315\n",
            "Time:                        17:17:45   Log-Likelihood:                -1342.0\n",
            "No. Observations:                1000   AIC:                             2710.\n",
            "Df Residuals:                     987   BIC:                             2774.\n",
            "Df Model:                          12                                         \n",
            "Covariance Type:            nonrobust                                         \n",
            "========================================================================================\n",
            "                           coef    std err          t      P>|t|      [0.025      0.975]\n",
            "----------------------------------------------------------------------------------------\n",
            "Intercept               -0.4038      0.150     -2.699      0.007      -0.697      -0.110\n",
            "growth_technological     0.1795      0.007     24.504      0.000       0.165       0.194\n",
            "growth_marketing         0.0009      0.021      0.042      0.966      -0.041       0.043\n",
            "share_RD                 0.0138      0.002      6.122      0.000       0.009       0.018\n",
            "share_equipments         0.0090      0.002      4.754      0.000       0.005       0.013\n",
            "patents                  0.0078      0.008      0.946      0.345      -0.008       0.024\n",
            "cooperation             -0.1871      0.064     -2.943      0.003      -0.312      -0.062\n",
            "support                  3.7692      0.377      9.989      0.000       3.029       4.510\n",
            "lab                      1.1607      0.097     11.932      0.000       0.970       1.352\n",
            "climate                  0.0415      0.014      2.988      0.003       0.014       0.069\n",
            "share_technology         0.2222      0.121      1.843      0.066      -0.014       0.459\n",
            "emp                     -0.0821      0.099     -0.832      0.406      -0.276       0.112\n",
            "compet                  -0.0002      0.000     -2.005      0.045      -0.000   -4.38e-06\n",
            "==============================================================================\n",
            "Omnibus:                      264.427   Durbin-Watson:                   2.007\n",
            "Prob(Omnibus):                  0.000   Jarque-Bera (JB):             7206.612\n",
            "Skew:                           0.579   Prob(JB):                         0.00\n",
            "Kurtosis:                      16.100   Cond. No.                     5.50e+03\n",
            "==============================================================================\n",
            "\n",
            "Notes:\n",
            "[1] Standard Errors assume that the covariance matrix of the errors is correctly specified.\n",
            "[2] The condition number is large, 5.5e+03. This might indicate that there are\n",
            "strong multicollinearity or other numerical problems.\n"
          ]
        }
      ],
      "source": [
        "# убираем joint\n",
        "\n",
        "m1=smf.ols('Sales ~ growth_technological+growth_marketing+share_RD+share_equipments+patents+cooperation+'\\\n",
        "          'support+lab+climate+share_technology+emp+compet', data=data)\n",
        "fitted=m1.fit()\n",
        "print(fitted.summary())"
      ]
    },
    {
      "cell_type": "code",
      "execution_count": null,
      "id": "87d8a861",
      "metadata": {
        "colab": {
          "base_uri": "https://localhost:8080/"
        },
        "id": "87d8a861",
        "outputId": "1f5e81ad-4a2a-41a4-8608-7018aa7b6882"
      },
      "outputs": [
        {
          "output_type": "execute_result",
          "data": {
            "text/plain": [
              "857.3852189973836"
            ]
          },
          "metadata": {},
          "execution_count": 29
        }
      ],
      "source": [
        "e2=np.sum((fitted.resid)**2)\n",
        "e2"
      ]
    },
    {
      "cell_type": "code",
      "execution_count": null,
      "id": "e7a1ea4f",
      "metadata": {
        "colab": {
          "base_uri": "https://localhost:8080/"
        },
        "id": "e7a1ea4f",
        "outputId": "62622fdc-afd4-4ecf-adde-135c6a5b4f98"
      },
      "outputs": [
        {
          "output_type": "stream",
          "name": "stdout",
          "text": [
            "                            OLS Regression Results                            \n",
            "==============================================================================\n",
            "Dep. Variable:                  Sales   R-squared:                       0.807\n",
            "Model:                            OLS   Adj. R-squared:                  0.804\n",
            "Method:                 Least Squares   F-statistic:                     343.1\n",
            "Date:                Thu, 07 Nov 2024   Prob (F-statistic):               0.00\n",
            "Time:                        17:17:54   Log-Likelihood:                -1280.5\n",
            "No. Observations:                1000   AIC:                             2587.\n",
            "Df Residuals:                     987   BIC:                             2651.\n",
            "Df Model:                          12                                         \n",
            "Covariance Type:            nonrobust                                         \n",
            "========================================================================================\n",
            "                           coef    std err          t      P>|t|      [0.025      0.975]\n",
            "----------------------------------------------------------------------------------------\n",
            "Intercept               -0.2406      0.141     -1.706      0.088      -0.517       0.036\n",
            "growth_technological     0.1605      0.007     22.666      0.000       0.147       0.174\n",
            "growth_marketing        -0.0028      0.020     -0.139      0.889      -0.042       0.037\n",
            "share_RD                 0.0106      0.002      4.991      0.000       0.006       0.015\n",
            "share_equipments         0.0089      0.002      5.061      0.000       0.005       0.012\n",
            "patents                  0.0008      0.008      0.099      0.921      -0.014       0.016\n",
            "cooperation             -0.0933      0.059     -1.569      0.117      -0.210       0.023\n",
            "support                  3.8554      0.355     10.872      0.000       3.160       4.551\n",
            "joint                    1.8221      0.107     17.038      0.000       1.612       2.032\n",
            "climate                  0.0555      0.013      4.262      0.000       0.030       0.081\n",
            "share_technology         0.4283      0.110      3.901      0.000       0.213       0.644\n",
            "emp                     -0.1272      0.093     -1.371      0.171      -0.309       0.055\n",
            "compet                  -0.0003   9.76e-05     -3.522      0.000      -0.001      -0.000\n",
            "==============================================================================\n",
            "Omnibus:                      296.176   Durbin-Watson:                   2.015\n",
            "Prob(Omnibus):                  0.000   Jarque-Bera (JB):             7465.284\n",
            "Skew:                           0.767   Prob(JB):                         0.00\n",
            "Kurtosis:                      16.297   Cond. No.                     5.50e+03\n",
            "==============================================================================\n",
            "\n",
            "Notes:\n",
            "[1] Standard Errors assume that the covariance matrix of the errors is correctly specified.\n",
            "[2] The condition number is large, 5.5e+03. This might indicate that there are\n",
            "strong multicollinearity or other numerical problems.\n"
          ]
        }
      ],
      "source": [
        "# следовательно убираем lab\n",
        "\n",
        "m1=smf.ols('Sales ~ growth_technological+growth_marketing+share_RD+share_equipments+patents+cooperation+'\\\n",
        "          'support+joint+climate+share_technology+emp+compet', data=data)\n",
        "fitted=m1.fit()\n",
        "print(fitted.summary())"
      ]
    },
    {
      "cell_type": "code",
      "execution_count": null,
      "id": "ff56ccf5",
      "metadata": {
        "colab": {
          "base_uri": "https://localhost:8080/"
        },
        "id": "ff56ccf5",
        "outputId": "2baa8d2e-2fbc-45be-dab7-a593cfc076a5"
      },
      "outputs": [
        {
          "output_type": "stream",
          "name": "stdout",
          "text": [
            "                            OLS Regression Results                            \n",
            "==============================================================================\n",
            "Dep. Variable:                  Sales   R-squared:                       0.807\n",
            "Model:                            OLS   Adj. R-squared:                  0.804\n",
            "Method:                 Least Squares   F-statistic:                     374.6\n",
            "Date:                Thu, 07 Nov 2024   Prob (F-statistic):               0.00\n",
            "Time:                        17:18:02   Log-Likelihood:                -1280.5\n",
            "No. Observations:                1000   AIC:                             2585.\n",
            "Df Residuals:                     988   BIC:                             2644.\n",
            "Df Model:                          11                                         \n",
            "Covariance Type:            nonrobust                                         \n",
            "========================================================================================\n",
            "                           coef    std err          t      P>|t|      [0.025      0.975]\n",
            "----------------------------------------------------------------------------------------\n",
            "Intercept               -0.2529      0.110     -2.301      0.022      -0.469      -0.037\n",
            "growth_technological     0.1605      0.007     22.682      0.000       0.147       0.174\n",
            "share_RD                 0.0107      0.002      5.016      0.000       0.006       0.015\n",
            "share_equipments         0.0089      0.002      5.062      0.000       0.005       0.012\n",
            "patents                  0.0008      0.008      0.107      0.915      -0.014       0.016\n",
            "cooperation             -0.0932      0.059     -1.569      0.117      -0.210       0.023\n",
            "support                  3.8554      0.354     10.877      0.000       3.160       4.551\n",
            "joint                    1.8221      0.107     17.047      0.000       1.612       2.032\n",
            "climate                  0.0554      0.013      4.263      0.000       0.030       0.081\n",
            "share_technology         0.4283      0.110      3.903      0.000       0.213       0.644\n",
            "emp                     -0.1274      0.093     -1.374      0.170      -0.309       0.055\n",
            "compet                  -0.0003   9.75e-05     -3.523      0.000      -0.001      -0.000\n",
            "==============================================================================\n",
            "Omnibus:                      296.238   Durbin-Watson:                   2.015\n",
            "Prob(Omnibus):                  0.000   Jarque-Bera (JB):             7471.045\n",
            "Skew:                           0.767   Prob(JB):                         0.00\n",
            "Kurtosis:                      16.302   Cond. No.                     5.50e+03\n",
            "==============================================================================\n",
            "\n",
            "Notes:\n",
            "[1] Standard Errors assume that the covariance matrix of the errors is correctly specified.\n",
            "[2] The condition number is large, 5.5e+03. This might indicate that there are\n",
            "strong multicollinearity or other numerical problems.\n"
          ]
        }
      ],
      "source": [
        "# уберем growth_marketing\n",
        "\n",
        "m1=smf.ols('Sales ~ growth_technological+share_RD+share_equipments+patents+cooperation+'\\\n",
        "          'support+joint+climate+share_technology+emp+compet', data=data)\n",
        "fitted=m1.fit()\n",
        "print(fitted.summary())\n"
      ]
    },
    {
      "cell_type": "code",
      "execution_count": null,
      "id": "5e71ce80",
      "metadata": {
        "colab": {
          "base_uri": "https://localhost:8080/"
        },
        "id": "5e71ce80",
        "outputId": "97ede5d9-9cb1-4e88-caaa-d16856c8a9de"
      },
      "outputs": [
        {
          "output_type": "stream",
          "name": "stdout",
          "text": [
            "                            OLS Regression Results                            \n",
            "==============================================================================\n",
            "Dep. Variable:                  Sales   R-squared:                       0.803\n",
            "Model:                            OLS   Adj. R-squared:                  0.801\n",
            "Method:                 Least Squares   F-statistic:                     403.3\n",
            "Date:                Thu, 07 Nov 2024   Prob (F-statistic):               0.00\n",
            "Time:                        17:18:08   Log-Likelihood:                -1289.6\n",
            "No. Observations:                1000   AIC:                             2601.\n",
            "Df Residuals:                     989   BIC:                             2655.\n",
            "Df Model:                          10                                         \n",
            "Covariance Type:            nonrobust                                         \n",
            "========================================================================================\n",
            "                           coef    std err          t      P>|t|      [0.025      0.975]\n",
            "----------------------------------------------------------------------------------------\n",
            "Intercept                0.0219      0.090      0.243      0.808      -0.154       0.198\n",
            "growth_technological     0.1624      0.007     22.790      0.000       0.148       0.176\n",
            "share_RD                 0.0116      0.002      5.442      0.000       0.007       0.016\n",
            "share_equipments         0.0093      0.002      5.218      0.000       0.006       0.013\n",
            "patents                  0.0002      0.008      0.032      0.975      -0.015       0.016\n",
            "cooperation             -0.0879      0.060     -1.467      0.143      -0.206       0.030\n",
            "support                  3.8702      0.358     10.826      0.000       3.169       4.572\n",
            "joint                    1.8235      0.108     16.914      0.000       1.612       2.035\n",
            "share_technology         0.4663      0.110      4.227      0.000       0.250       0.683\n",
            "emp                     -0.1197      0.094     -1.280      0.201      -0.303       0.064\n",
            "compet                  -0.0005   8.64e-05     -6.280      0.000      -0.001      -0.000\n",
            "==============================================================================\n",
            "Omnibus:                      289.926   Durbin-Watson:                   2.019\n",
            "Prob(Omnibus):                  0.000   Jarque-Bera (JB):             7201.354\n",
            "Skew:                           0.741   Prob(JB):                         0.00\n",
            "Kurtosis:                      16.063   Cond. No.                     5.50e+03\n",
            "==============================================================================\n",
            "\n",
            "Notes:\n",
            "[1] Standard Errors assume that the covariance matrix of the errors is correctly specified.\n",
            "[2] The condition number is large, 5.5e+03. This might indicate that there are\n",
            "strong multicollinearity or other numerical problems.\n"
          ]
        }
      ],
      "source": [
        "# уберем climate\n",
        "\n",
        "m1=smf.ols('Sales ~ growth_technological+share_RD+share_equipments+patents+cooperation+'\\\n",
        "          'support+joint+share_technology+emp+compet', data=data)\n",
        "fitted=m1.fit()\n",
        "print(fitted.summary())"
      ]
    },
    {
      "cell_type": "code",
      "execution_count": null,
      "id": "3278d5e8",
      "metadata": {
        "colab": {
          "base_uri": "https://localhost:8080/"
        },
        "id": "3278d5e8",
        "outputId": "112e6775-09b5-47fa-9dba-fb68ca830256"
      },
      "outputs": [
        {
          "output_type": "stream",
          "name": "stdout",
          "text": [
            "                            OLS Regression Results                            \n",
            "==============================================================================\n",
            "Dep. Variable:                  Sales   R-squared:                       0.804\n",
            "Model:                            OLS   Adj. R-squared:                  0.802\n",
            "Method:                 Least Squares   F-statistic:                     406.2\n",
            "Date:                Thu, 07 Nov 2024   Prob (F-statistic):               0.00\n",
            "Time:                        17:18:12   Log-Likelihood:                -1286.7\n",
            "No. Observations:                1000   AIC:                             2595.\n",
            "Df Residuals:                     989   BIC:                             2649.\n",
            "Df Model:                          10                                         \n",
            "Covariance Type:            nonrobust                                         \n",
            "========================================================================================\n",
            "                           coef    std err          t      P>|t|      [0.025      0.975]\n",
            "----------------------------------------------------------------------------------------\n",
            "Intercept               -0.5137      0.082     -6.291      0.000      -0.674      -0.353\n",
            "growth_technological     0.1637      0.007     23.185      0.000       0.150       0.178\n",
            "share_RD                 0.0120      0.002      5.719      0.000       0.008       0.016\n",
            "share_equipments         0.0094      0.002      5.340      0.000       0.006       0.013\n",
            "patents                  0.0022      0.008      0.277      0.781      -0.013       0.017\n",
            "cooperation             -0.0892      0.060     -1.493      0.136      -0.207       0.028\n",
            "support                  3.7944      0.356     10.656      0.000       3.096       4.493\n",
            "joint                    1.7904      0.107     16.714      0.000       1.580       2.001\n",
            "climate                  0.0773      0.011      6.735      0.000       0.055       0.100\n",
            "share_technology         0.4361      0.110      3.952      0.000       0.220       0.653\n",
            "emp                     -0.1304      0.093     -1.399      0.162      -0.313       0.053\n",
            "==============================================================================\n",
            "Omnibus:                      272.877   Durbin-Watson:                   2.011\n",
            "Prob(Omnibus):                  0.000   Jarque-Bera (JB):             6240.915\n",
            "Skew:                           0.684   Prob(JB):                         0.00\n",
            "Kurtosis:                      15.162   Cond. No.                         555.\n",
            "==============================================================================\n",
            "\n",
            "Notes:\n",
            "[1] Standard Errors assume that the covariance matrix of the errors is correctly specified.\n"
          ]
        }
      ],
      "source": [
        "# уберем compet\n",
        "m1=smf.ols('Sales ~ growth_technological+share_RD+share_equipments+patents+cooperation+'\\\n",
        "          'support+joint+climate+share_technology+emp', data=data)\n",
        "fitted=m1.fit()\n",
        "print(fitted.summary())"
      ]
    },
    {
      "cell_type": "code",
      "execution_count": null,
      "id": "c4f4f1b8",
      "metadata": {
        "colab": {
          "base_uri": "https://localhost:8080/"
        },
        "id": "c4f4f1b8",
        "outputId": "78a87c56-a169-4d0f-d540-2f02dd4ddff1"
      },
      "outputs": [
        {
          "output_type": "stream",
          "name": "stdout",
          "text": [
            "                            OLS Regression Results                            \n",
            "==============================================================================\n",
            "Dep. Variable:                  Sales   R-squared:                       0.804\n",
            "Model:                            OLS   Adj. R-squared:                  0.802\n",
            "Method:                 Least Squares   F-statistic:                     368.9\n",
            "Date:                Thu, 07 Nov 2024   Prob (F-statistic):               0.00\n",
            "Time:                        17:18:15   Log-Likelihood:                -1286.7\n",
            "No. Observations:                1000   AIC:                             2597.\n",
            "Df Residuals:                     988   BIC:                             2656.\n",
            "Df Model:                          11                                         \n",
            "Covariance Type:            nonrobust                                         \n",
            "========================================================================================\n",
            "                           coef    std err          t      P>|t|      [0.025      0.975]\n",
            "----------------------------------------------------------------------------------------\n",
            "Intercept               -0.5044      0.120     -4.198      0.000      -0.740      -0.269\n",
            "growth_technological     0.1637      0.007     23.167      0.000       0.150       0.178\n",
            "share_RD                 0.0120      0.002      5.695      0.000       0.008       0.016\n",
            "share_equipments         0.0094      0.002      5.338      0.000       0.006       0.013\n",
            "patents                  0.0021      0.008      0.271      0.786      -0.013       0.017\n",
            "cooperation             -0.0893      0.060     -1.492      0.136      -0.207       0.028\n",
            "support                  3.7944      0.356     10.651      0.000       3.095       4.493\n",
            "joint                    1.7903      0.107     16.705      0.000       1.580       2.001\n",
            "climate                  0.0774      0.012      6.725      0.000       0.055       0.100\n",
            "share_technology         0.4361      0.110      3.950      0.000       0.219       0.653\n",
            "emp                     -0.1303      0.093     -1.396      0.163      -0.313       0.053\n",
            "growth_marketing        -0.0021      0.020     -0.106      0.916      -0.042       0.037\n",
            "==============================================================================\n",
            "Omnibus:                      272.820   Durbin-Watson:                   2.011\n",
            "Prob(Omnibus):                  0.000   Jarque-Bera (JB):             6236.828\n",
            "Skew:                           0.684   Prob(JB):                         0.00\n",
            "Kurtosis:                      15.158   Cond. No.                         558.\n",
            "==============================================================================\n",
            "\n",
            "Notes:\n",
            "[1] Standard Errors assume that the covariance matrix of the errors is correctly specified.\n"
          ]
        }
      ],
      "source": [
        "# добавим growth_marketing\n",
        "\n",
        "m1=smf.ols('Sales ~ growth_technological+share_RD+share_equipments+patents+cooperation+'\\\n",
        "          'support+joint+climate+share_technology+emp+growth_marketing', data=data)\n",
        "fitted=m1.fit()\n",
        "print(fitted.summary())"
      ]
    },
    {
      "cell_type": "code",
      "execution_count": null,
      "id": "970f3dbc",
      "metadata": {
        "colab": {
          "base_uri": "https://localhost:8080/"
        },
        "id": "970f3dbc",
        "outputId": "df4d2fa5-7fc2-4160-ba90-3eb243453db3"
      },
      "outputs": [
        {
          "output_type": "stream",
          "name": "stdout",
          "text": [
            "                            OLS Regression Results                            \n",
            "==============================================================================\n",
            "Dep. Variable:                  Sales   R-squared:                       0.804\n",
            "Model:                            OLS   Adj. R-squared:                  0.802\n",
            "Method:                 Least Squares   F-statistic:                     338.1\n",
            "Date:                Thu, 07 Nov 2024   Prob (F-statistic):               0.00\n",
            "Time:                        17:18:24   Log-Likelihood:                -1286.3\n",
            "No. Observations:                1000   AIC:                             2599.\n",
            "Df Residuals:                     987   BIC:                             2662.\n",
            "Df Model:                          12                                         \n",
            "Covariance Type:            nonrobust                                         \n",
            "========================================================================================\n",
            "                           coef    std err          t      P>|t|      [0.025      0.975]\n",
            "----------------------------------------------------------------------------------------\n",
            "Intercept               -0.6094      0.166     -3.677      0.000      -0.935      -0.284\n",
            "growth_technological     0.1636      0.007     23.148      0.000       0.150       0.177\n",
            "share_RD                 0.0119      0.002      5.642      0.000       0.008       0.016\n",
            "share_equipments         0.0094      0.002      5.299      0.000       0.006       0.013\n",
            "patents                  0.0022      0.008      0.283      0.777      -0.013       0.018\n",
            "cooperation             -0.0869      0.060     -1.452      0.147      -0.204       0.031\n",
            "support                  3.7902      0.356     10.638      0.000       3.091       4.489\n",
            "joint                    1.7892      0.107     16.692      0.000       1.579       2.000\n",
            "climate                  0.0767      0.012      6.658      0.000       0.054       0.099\n",
            "share_technology         0.4253      0.111      3.831      0.000       0.207       0.643\n",
            "emp                     -0.1317      0.093     -1.411      0.159      -0.315       0.051\n",
            "growth_marketing        -0.0020      0.020     -0.098      0.922      -0.042       0.038\n",
            "age                      0.0033      0.004      0.920      0.358      -0.004       0.010\n",
            "==============================================================================\n",
            "Omnibus:                      275.064   Durbin-Watson:                   2.012\n",
            "Prob(Omnibus):                  0.000   Jarque-Bera (JB):             6334.004\n",
            "Skew:                           0.693   Prob(JB):                         0.00\n",
            "Kurtosis:                      15.251   Cond. No.                         700.\n",
            "==============================================================================\n",
            "\n",
            "Notes:\n",
            "[1] Standard Errors assume that the covariance matrix of the errors is correctly specified.\n"
          ]
        }
      ],
      "source": [
        "# добавим age\n",
        "m1=smf.ols('Sales ~ growth_technological+share_RD+share_equipments+patents+cooperation+'\\\n",
        "          'support+joint+climate+share_technology+emp+growth_marketing+age', data=data)\n",
        "fitted=m1.fit()\n",
        "print(fitted.summary())"
      ]
    },
    {
      "cell_type": "code",
      "execution_count": null,
      "id": "2018bcc1",
      "metadata": {
        "colab": {
          "base_uri": "https://localhost:8080/"
        },
        "id": "2018bcc1",
        "outputId": "fc89a780-2b8a-419f-8d1b-94e2e8ff9f5c"
      },
      "outputs": [
        {
          "output_type": "stream",
          "name": "stdout",
          "text": [
            "                            OLS Regression Results                            \n",
            "==============================================================================\n",
            "Dep. Variable:                  Sales   R-squared:                       0.817\n",
            "Model:                            OLS   Adj. R-squared:                  0.814\n",
            "Method:                 Least Squares   F-statistic:                     338.2\n",
            "Date:                Thu, 07 Nov 2024   Prob (F-statistic):               0.00\n",
            "Time:                        17:18:28   Log-Likelihood:                -1253.4\n",
            "No. Observations:                1000   AIC:                             2535.\n",
            "Df Residuals:                     986   BIC:                             2604.\n",
            "Df Model:                          13                                         \n",
            "Covariance Type:            nonrobust                                         \n",
            "========================================================================================\n",
            "                           coef    std err          t      P>|t|      [0.025      0.975]\n",
            "----------------------------------------------------------------------------------------\n",
            "Intercept               -0.3009      0.165     -1.826      0.068      -0.624       0.022\n",
            "growth_technological     0.1518      0.007     21.704      0.000       0.138       0.166\n",
            "share_RD                 0.0084      0.002      4.043      0.000       0.004       0.013\n",
            "share_equipments         0.0068      0.002      3.930      0.000       0.003       0.010\n",
            "patents                  0.0008      0.008      0.105      0.916      -0.014       0.016\n",
            "cooperation             -0.1439      0.058     -2.466      0.014      -0.258      -0.029\n",
            "support                  3.9726      0.346     11.492      0.000       3.294       4.651\n",
            "joint                    1.5223      0.109     13.994      0.000       1.309       1.736\n",
            "climate                  0.0666      0.011      5.931      0.000       0.045       0.089\n",
            "share_technology         0.2084      0.111      1.882      0.060      -0.009       0.426\n",
            "emp                     -0.1029      0.090     -1.138      0.255      -0.280       0.075\n",
            "growth_marketing         0.0008      0.020      0.043      0.966      -0.037       0.039\n",
            "age                  -6.057e-05      0.003     -0.017      0.986      -0.007       0.007\n",
            "lab                      0.7695      0.094      8.187      0.000       0.585       0.954\n",
            "==============================================================================\n",
            "Omnibus:                      339.965   Durbin-Watson:                   2.019\n",
            "Prob(Omnibus):                  0.000   Jarque-Bera (JB):            11041.569\n",
            "Skew:                           0.896   Prob(JB):                         0.00\n",
            "Kurtosis:                      19.180   Cond. No.                         702.\n",
            "==============================================================================\n",
            "\n",
            "Notes:\n",
            "[1] Standard Errors assume that the covariance matrix of the errors is correctly specified.\n"
          ]
        }
      ],
      "source": [
        "# добавим lab\n",
        "\n",
        "m1=smf.ols('Sales ~ growth_technological+share_RD+share_equipments+patents+cooperation+'\\\n",
        "          'support+joint+climate+share_technology+emp+growth_marketing+age+lab', data=data)\n",
        "fitted=m1.fit()\n",
        "print(fitted.summary())"
      ]
    },
    {
      "cell_type": "code",
      "execution_count": null,
      "id": "bfff5f18",
      "metadata": {
        "colab": {
          "base_uri": "https://localhost:8080/"
        },
        "id": "bfff5f18",
        "outputId": "a5f746a2-860c-49cb-c0b2-9ee44f96535f"
      },
      "outputs": [
        {
          "output_type": "stream",
          "name": "stdout",
          "text": [
            "                            OLS Regression Results                            \n",
            "==============================================================================\n",
            "Dep. Variable:                  Sales   R-squared:                       0.817\n",
            "Model:                            OLS   Adj. R-squared:                  0.815\n",
            "Method:                 Least Squares   F-statistic:                     366.7\n",
            "Date:                Thu, 07 Nov 2024   Prob (F-statistic):               0.00\n",
            "Time:                        17:18:39   Log-Likelihood:                -1253.4\n",
            "No. Observations:                1000   AIC:                             2533.\n",
            "Df Residuals:                     987   BIC:                             2597.\n",
            "Df Model:                          12                                         \n",
            "Covariance Type:            nonrobust                                         \n",
            "========================================================================================\n",
            "                           coef    std err          t      P>|t|      [0.025      0.975]\n",
            "----------------------------------------------------------------------------------------\n",
            "Intercept               -0.3029      0.119     -2.550      0.011      -0.536      -0.070\n",
            "growth_technological     0.1518      0.007     21.716      0.000       0.138       0.166\n",
            "share_RD                 0.0084      0.002      4.046      0.000       0.004       0.013\n",
            "share_equipments         0.0068      0.002      3.932      0.000       0.003       0.010\n",
            "patents                  0.0008      0.008      0.106      0.916      -0.014       0.016\n",
            "cooperation             -0.1439      0.058     -2.470      0.014      -0.258      -0.030\n",
            "support                  3.9725      0.345     11.500      0.000       3.295       4.650\n",
            "joint                    1.5223      0.109     14.006      0.000       1.309       1.736\n",
            "climate                  0.0666      0.011      5.939      0.000       0.045       0.089\n",
            "share_technology         0.2082      0.110      1.887      0.059      -0.008       0.425\n",
            "emp                     -0.1029      0.090     -1.139      0.255      -0.280       0.074\n",
            "growth_marketing         0.0008      0.020      0.043      0.966      -0.037       0.039\n",
            "lab                      0.7693      0.093      8.246      0.000       0.586       0.952\n",
            "==============================================================================\n",
            "Omnibus:                      340.004   Durbin-Watson:                   2.019\n",
            "Prob(Omnibus):                  0.000   Jarque-Bera (JB):            11043.046\n",
            "Skew:                           0.897   Prob(JB):                         0.00\n",
            "Kurtosis:                      19.181   Cond. No.                         559.\n",
            "==============================================================================\n",
            "\n",
            "Notes:\n",
            "[1] Standard Errors assume that the covariance matrix of the errors is correctly specified.\n"
          ]
        }
      ],
      "source": [
        "m1=smf.ols('Sales ~ growth_technological+share_RD+share_equipments+patents+cooperation+'\\\n",
        "          'support+joint+climate+share_technology+emp+growth_marketing+lab', data=data)\n",
        "fitted=m1.fit()\n",
        "print(fitted.summary())"
      ]
    },
    {
      "cell_type": "code",
      "execution_count": null,
      "id": "915d858c",
      "metadata": {
        "colab": {
          "base_uri": "https://localhost:8080/"
        },
        "id": "915d858c",
        "outputId": "dd1f2d56-5e81-49a3-e1be-bafa9f3c9219"
      },
      "outputs": [
        {
          "output_type": "stream",
          "name": "stdout",
          "text": [
            "                            OLS Regression Results                            \n",
            "==============================================================================\n",
            "Dep. Variable:                  Sales   R-squared:                       0.817\n",
            "Model:                            OLS   Adj. R-squared:                  0.815\n",
            "Method:                 Least Squares   F-statistic:                     400.5\n",
            "Date:                Thu, 07 Nov 2024   Prob (F-statistic):               0.00\n",
            "Time:                        17:18:44   Log-Likelihood:                -1253.4\n",
            "No. Observations:                1000   AIC:                             2531.\n",
            "Df Residuals:                     988   BIC:                             2590.\n",
            "Df Model:                          11                                         \n",
            "Covariance Type:            nonrobust                                         \n",
            "========================================================================================\n",
            "                           coef    std err          t      P>|t|      [0.025      0.975]\n",
            "----------------------------------------------------------------------------------------\n",
            "Intercept               -0.2993      0.083     -3.598      0.000      -0.463      -0.136\n",
            "growth_technological     0.1518      0.007     21.739      0.000       0.138       0.165\n",
            "share_RD                 0.0084      0.002      4.054      0.000       0.004       0.013\n",
            "share_equipments         0.0068      0.002      3.935      0.000       0.003       0.010\n",
            "patents                  0.0008      0.008      0.104      0.917      -0.014       0.016\n",
            "cooperation             -0.1439      0.058     -2.471      0.014      -0.258      -0.030\n",
            "support                  3.9724      0.345     11.506      0.000       3.295       4.650\n",
            "joint                    1.5223      0.109     14.013      0.000       1.309       1.735\n",
            "climate                  0.0666      0.011      5.958      0.000       0.045       0.089\n",
            "share_technology         0.2082      0.110      1.888      0.059      -0.008       0.425\n",
            "emp                     -0.1029      0.090     -1.139      0.255      -0.280       0.074\n",
            "lab                      0.7693      0.093      8.251      0.000       0.586       0.952\n",
            "==============================================================================\n",
            "Omnibus:                      339.985   Durbin-Watson:                   2.019\n",
            "Prob(Omnibus):                  0.000   Jarque-Bera (JB):            11039.277\n",
            "Skew:                           0.897   Prob(JB):                         0.00\n",
            "Kurtosis:                      19.178   Cond. No.                         557.\n",
            "==============================================================================\n",
            "\n",
            "Notes:\n",
            "[1] Standard Errors assume that the covariance matrix of the errors is correctly specified.\n"
          ]
        }
      ],
      "source": [
        "m1=smf.ols('Sales ~ growth_technological+share_RD+share_equipments+patents+cooperation+'\\\n",
        "          'support+joint+climate+share_technology+emp+lab', data=data)\n",
        "fitted=m1.fit()\n",
        "print(fitted.summary())"
      ]
    },
    {
      "cell_type": "code",
      "execution_count": null,
      "id": "d2e6aafa",
      "metadata": {
        "colab": {
          "base_uri": "https://localhost:8080/"
        },
        "id": "d2e6aafa",
        "outputId": "7a60c540-fb76-462b-b872-0c9dc541afc9"
      },
      "outputs": [
        {
          "output_type": "stream",
          "name": "stdout",
          "text": [
            "                            OLS Regression Results                            \n",
            "==============================================================================\n",
            "Dep. Variable:                  Sales   R-squared:                       0.817\n",
            "Model:                            OLS   Adj. R-squared:                  0.815\n",
            "Method:                 Least Squares   F-statistic:                     440.9\n",
            "Date:                Thu, 07 Nov 2024   Prob (F-statistic):               0.00\n",
            "Time:                        17:18:48   Log-Likelihood:                -1253.4\n",
            "No. Observations:                1000   AIC:                             2529.\n",
            "Df Residuals:                     989   BIC:                             2583.\n",
            "Df Model:                          10                                         \n",
            "Covariance Type:            nonrobust                                         \n",
            "========================================================================================\n",
            "                           coef    std err          t      P>|t|      [0.025      0.975]\n",
            "----------------------------------------------------------------------------------------\n",
            "Intercept               -0.2979      0.082     -3.631      0.000      -0.459      -0.137\n",
            "growth_technological     0.1518      0.007     21.758      0.000       0.138       0.165\n",
            "share_RD                 0.0084      0.002      4.055      0.000       0.004       0.013\n",
            "share_equipments         0.0068      0.002      3.938      0.000       0.003       0.010\n",
            "cooperation             -0.1442      0.058     -2.481      0.013      -0.258      -0.030\n",
            "support                  3.9721      0.345     11.511      0.000       3.295       4.649\n",
            "joint                    1.5231      0.108     14.065      0.000       1.311       1.736\n",
            "climate                  0.0666      0.011      5.961      0.000       0.045       0.089\n",
            "share_technology         0.2080      0.110      1.887      0.059      -0.008       0.424\n",
            "emp                     -0.1026      0.090     -1.137      0.256      -0.280       0.074\n",
            "lab                      0.7695      0.093      8.259      0.000       0.587       0.952\n",
            "==============================================================================\n",
            "Omnibus:                      339.780   Durbin-Watson:                   2.019\n",
            "Prob(Omnibus):                  0.000   Jarque-Bera (JB):            11033.710\n",
            "Skew:                           0.896   Prob(JB):                         0.00\n",
            "Kurtosis:                      19.174   Cond. No.                         556.\n",
            "==============================================================================\n",
            "\n",
            "Notes:\n",
            "[1] Standard Errors assume that the covariance matrix of the errors is correctly specified.\n"
          ]
        }
      ],
      "source": [
        "m1=smf.ols('Sales ~ growth_technological+share_RD+share_equipments+cooperation+'\\\n",
        "          'support+joint+climate+share_technology+emp+lab', data=data)\n",
        "fitted=m1.fit()\n",
        "print(fitted.summary())"
      ]
    },
    {
      "cell_type": "code",
      "execution_count": null,
      "id": "99a552d6",
      "metadata": {
        "colab": {
          "base_uri": "https://localhost:8080/"
        },
        "id": "99a552d6",
        "outputId": "70e471da-0bb8-4978-d53c-cddfe5466fb0"
      },
      "outputs": [
        {
          "output_type": "stream",
          "name": "stdout",
          "text": [
            "                            OLS Regression Results                            \n",
            "==============================================================================\n",
            "Dep. Variable:                  Sales   R-squared:                       0.816\n",
            "Model:                            OLS   Adj. R-squared:                  0.814\n",
            "Method:                 Least Squares   F-statistic:                     549.1\n",
            "Date:                Thu, 07 Nov 2024   Prob (F-statistic):               0.00\n",
            "Time:                        17:18:52   Log-Likelihood:                -1255.8\n",
            "No. Observations:                1000   AIC:                             2530.\n",
            "Df Residuals:                     991   BIC:                             2574.\n",
            "Df Model:                           8                                         \n",
            "Covariance Type:            nonrobust                                         \n",
            "========================================================================================\n",
            "                           coef    std err          t      P>|t|      [0.025      0.975]\n",
            "----------------------------------------------------------------------------------------\n",
            "Intercept               -0.2954      0.075     -3.927      0.000      -0.443      -0.148\n",
            "growth_technological     0.1518      0.007     21.753      0.000       0.138       0.166\n",
            "share_RD                 0.0086      0.002      4.108      0.000       0.004       0.013\n",
            "share_equipments         0.0071      0.002      4.095      0.000       0.004       0.011\n",
            "cooperation             -0.1450      0.058     -2.494      0.013      -0.259      -0.031\n",
            "support                  3.9623      0.345     11.469      0.000       3.284       4.640\n",
            "joint                    1.5231      0.108     14.048      0.000       1.310       1.736\n",
            "climate                  0.0678      0.011      6.077      0.000       0.046       0.090\n",
            "lab                      0.8162      0.090      9.040      0.000       0.639       0.993\n",
            "==============================================================================\n",
            "Omnibus:                      346.721   Durbin-Watson:                   2.017\n",
            "Prob(Omnibus):                  0.000   Jarque-Bera (JB):            11205.838\n",
            "Skew:                           0.930   Prob(JB):                         0.00\n",
            "Kurtosis:                      19.294   Cond. No.                         556.\n",
            "==============================================================================\n",
            "\n",
            "Notes:\n",
            "[1] Standard Errors assume that the covariance matrix of the errors is correctly specified.\n"
          ]
        }
      ],
      "source": [
        "m1=smf.ols('Sales ~ growth_technological+share_RD+share_equipments+cooperation+'\\\n",
        "          'support+joint+climate+lab', data=data)\n",
        "fitted=m1.fit()\n",
        "print(fitted.summary())"
      ]
    },
    {
      "cell_type": "markdown",
      "id": "9c700f15",
      "metadata": {
        "id": "9c700f15"
      },
      "source": [
        "# анализ ошибок"
      ]
    },
    {
      "cell_type": "code",
      "execution_count": null,
      "id": "460ccd13",
      "metadata": {
        "id": "460ccd13",
        "outputId": "69c97de5-9b28-4666-ad4c-588cc64677b7"
      },
      "outputs": [
        {
          "data": {
            "text/plain": [
              "3198.5119254097854"
            ]
          },
          "execution_count": 47,
          "metadata": {},
          "output_type": "execute_result"
        }
      ],
      "source": [
        "fitted.ess"
      ]
    },
    {
      "cell_type": "code",
      "execution_count": null,
      "id": "3ce930f4",
      "metadata": {
        "id": "3ce930f4",
        "outputId": "44404e2f-cf57-4258-c5e2-9fd2aa7c3219"
      },
      "outputs": [
        {
          "data": {
            "text/plain": [
              "3920.0916683999994"
            ]
          },
          "execution_count": 49,
          "metadata": {},
          "output_type": "execute_result"
        }
      ],
      "source": [
        "fitted.centered_tss"
      ]
    },
    {
      "cell_type": "code",
      "execution_count": null,
      "id": "6b4d7055",
      "metadata": {
        "id": "6b4d7055",
        "outputId": "5f05b9c9-a731-4e24-ea67-163e2f03b5c8"
      },
      "outputs": [
        {
          "data": {
            "text/plain": [
              "0.8159278394413849"
            ]
          },
          "execution_count": 52,
          "metadata": {},
          "output_type": "execute_result"
        }
      ],
      "source": [
        "R_sqd=fitted.ess/fitted.centered_tss\n",
        "R_sqd"
      ]
    },
    {
      "cell_type": "code",
      "execution_count": null,
      "id": "9f39215f",
      "metadata": {
        "id": "9f39215f",
        "outputId": "a4a6cad0-8bd7-4cb1-824f-518f1c1db966"
      },
      "outputs": [
        {
          "data": {
            "text/plain": [
              "0       3.59\n",
              "1       1.28\n",
              "2       0.48\n",
              "3       0.86\n",
              "4       2.24\n",
              "       ...  \n",
              "995     1.09\n",
              "996     1.48\n",
              "997     1.03\n",
              "998    11.71\n",
              "999     0.20\n",
              "Name: Sales, Length: 1000, dtype: float64"
            ]
          },
          "execution_count": 53,
          "metadata": {},
          "output_type": "execute_result"
        }
      ],
      "source": [
        "data.Sales"
      ]
    },
    {
      "cell_type": "code",
      "execution_count": null,
      "id": "95cdf9d6",
      "metadata": {
        "id": "95cdf9d6",
        "outputId": "334a562e-e80a-48d1-f427-a96299a0dc01"
      },
      "outputs": [
        {
          "data": {
            "text/plain": [
              "0      3.108636\n",
              "1      1.087598\n",
              "2      2.115000\n",
              "3      1.690091\n",
              "4      5.917530\n",
              "         ...   \n",
              "995    1.550058\n",
              "996    1.565624\n",
              "997    2.063633\n",
              "998    7.514647\n",
              "999    0.396019\n",
              "Length: 1000, dtype: float64"
            ]
          },
          "execution_count": 55,
          "metadata": {},
          "output_type": "execute_result"
        }
      ],
      "source": [
        "fitted.fittedvalues"
      ]
    },
    {
      "cell_type": "code",
      "execution_count": null,
      "id": "e1d92326",
      "metadata": {
        "id": "e1d92326",
        "outputId": "01fe3699-0411-4699-d088-6102524afa6b"
      },
      "outputs": [
        {
          "data": {
            "text/plain": [
              "0      0.481364\n",
              "1      0.192402\n",
              "2     -1.635000\n",
              "3     -0.830091\n",
              "4     -3.677530\n",
              "         ...   \n",
              "995   -0.460058\n",
              "996   -0.085624\n",
              "997   -1.033633\n",
              "998    4.195353\n",
              "999   -0.196019\n",
              "Length: 1000, dtype: float64"
            ]
          },
          "execution_count": 56,
          "metadata": {},
          "output_type": "execute_result"
        }
      ],
      "source": [
        "data.Sales-fitted.fittedvalues"
      ]
    },
    {
      "cell_type": "code",
      "execution_count": null,
      "id": "9fbab80c",
      "metadata": {
        "id": "9fbab80c",
        "outputId": "74b85b9a-d313-4808-b432-33bf131c2a50"
      },
      "outputs": [
        {
          "data": {
            "text/plain": [
              "0      0.481364\n",
              "1      0.192402\n",
              "2     -1.635000\n",
              "3     -0.830091\n",
              "4     -3.677530\n",
              "         ...   \n",
              "995   -0.460058\n",
              "996   -0.085624\n",
              "997   -1.033633\n",
              "998    4.195353\n",
              "999   -0.196019\n",
              "Length: 1000, dtype: float64"
            ]
          },
          "execution_count": 57,
          "metadata": {},
          "output_type": "execute_result"
        }
      ],
      "source": [
        "fitted.resid"
      ]
    },
    {
      "cell_type": "code",
      "execution_count": null,
      "id": "23f2acf8",
      "metadata": {
        "id": "23f2acf8",
        "outputId": "de8f24f1-b768-49b7-88ce-4d2e30608f5f"
      },
      "outputs": [
        {
          "data": {
            "text/plain": [
              "<AxesSubplot:ylabel='Count'>"
            ]
          },
          "execution_count": 66,
          "metadata": {},
          "output_type": "execute_result"
        },
        {
          "data": {
            "image/png": "[encoded data removed]",
            "text/plain": [
              "<Figure size 432x288 with 1 Axes>"
            ]
          },
          "metadata": {
            "needs_background": "light"
          },
          "output_type": "display_data"
        }
      ],
      "source": [
        "import seaborn as sns\n",
        "sns.histplot(fitted.resid, bins=100)"
      ]
    },
    {
      "cell_type": "code",
      "execution_count": null,
      "id": "ed53df9b",
      "metadata": {
        "id": "ed53df9b",
        "outputId": "59591cc5-69df-40c6-86c1-707d7afaccef"
      },
      "outputs": [
        {
          "data": {
            "image/png": "[encoded data removed]",
            "text/plain": [
              "<Figure size 432x288 with 1 Axes>"
            ]
          },
          "metadata": {
            "needs_background": "light"
          },
          "output_type": "display_data"
        }
      ],
      "source": [
        "plt.scatter(data.Sales, fitted.fittedvalues, color='darkblue', s=50, alpha=0.4)\n",
        "plt.title('Предсказанные значения/истинные')\n",
        "plt.xlabel('Input')\n",
        "plt.ylabel('predicted values')\n",
        "plt.show()"
      ]
    },
    {
      "cell_type": "code",
      "execution_count": null,
      "id": "65cc0530",
      "metadata": {
        "id": "65cc0530",
        "outputId": "7cc82a89-1e70-4c96-df28-4f0655331d5e"
      },
      "outputs": [
        {
          "data": {
            "text/plain": [
              "<matplotlib.collections.PathCollection at 0x7fba5bfe5880>"
            ]
          },
          "execution_count": 71,
          "metadata": {},
          "output_type": "execute_result"
        },
        {
          "data": {
            "image/png": "[encoded data removed]",
            "text/plain": [
              "<Figure size 432x288 with 1 Axes>"
            ]
          },
          "metadata": {
            "needs_background": "light"
          },
          "output_type": "display_data"
        }
      ],
      "source": [
        "plt.scatter(fitted.fittedvalues, fitted.resid, color='darkred', s=50, alpha=0.5)"
      ]
    },
    {
      "cell_type": "code",
      "execution_count": null,
      "id": "f8af9c3b",
      "metadata": {
        "id": "f8af9c3b",
        "outputId": "75bf1cd8-0dc1-428c-e72b-dcddb41b8b7b"
      },
      "outputs": [
        {
          "data": {
            "image/png": "[encoded data removed]",
            "text/plain": [
              "<Figure size 432x288 with 1 Axes>"
            ]
          },
          "metadata": {
            "needs_background": "light"
          },
          "output_type": "display_data"
        }
      ],
      "source": [
        "sc.stats.probplot(fitted.resid, dist='norm', plot=pyplot)\n",
        "plt.show()"
      ]
    },
    {
      "cell_type": "markdown",
      "id": "535a7429",
      "metadata": {
        "id": "535a7429"
      },
      "source": [
        "### Избавляемся от выбросов"
      ]
    },
    {
      "cell_type": "code",
      "execution_count": null,
      "id": "18444d67",
      "metadata": {
        "id": "18444d67",
        "outputId": "2b912803-1488-45b1-833a-a61c23decfb8"
      },
      "outputs": [
        {
          "data": {
            "text/plain": [
              "<AxesSubplot:xlabel='Sales'>"
            ]
          },
          "execution_count": 73,
          "metadata": {},
          "output_type": "execute_result"
        },
        {
          "data": {
            "image/png": "[encoded data removed]",
            "text/plain": [
              "<Figure size 432x288 with 1 Axes>"
            ]
          },
          "metadata": {
            "needs_background": "light"
          },
          "output_type": "display_data"
        }
      ],
      "source": [
        "sns.boxplot(data.Sales)"
      ]
    },
    {
      "cell_type": "code",
      "execution_count": null,
      "id": "b85b47d5",
      "metadata": {
        "id": "b85b47d5"
      },
      "outputs": [],
      "source": [
        "data=data[data.Sales<5]"
      ]
    },
    {
      "cell_type": "code",
      "execution_count": null,
      "id": "762afe40",
      "metadata": {
        "id": "762afe40",
        "outputId": "5a00e833-18ca-470b-f627-793a98d8120b"
      },
      "outputs": [
        {
          "data": {
            "text/html": [
              "<div>\n",
              "<style scoped>\n",
              "    .dataframe tbody tr th:only-of-type {\n",
              "        vertical-align: middle;\n",
              "    }\n",
              "\n",
              "    .dataframe tbody tr th {\n",
              "        vertical-align: top;\n",
              "    }\n",
              "\n",
              "    .dataframe thead th {\n",
              "        text-align: right;\n",
              "    }\n",
              "</style>\n",
              "<table border=\"1\" class=\"dataframe\">\n",
              "  <thead>\n",
              "    <tr style=\"text-align: right;\">\n",
              "      <th></th>\n",
              "      <th>Sales</th>\n",
              "      <th>growth_technological</th>\n",
              "      <th>growth_marketing</th>\n",
              "      <th>share_RD</th>\n",
              "      <th>share_equipments</th>\n",
              "      <th>patents</th>\n",
              "      <th>cooperation</th>\n",
              "      <th>support</th>\n",
              "      <th>lab</th>\n",
              "      <th>joint</th>\n",
              "      <th>climate</th>\n",
              "      <th>share_technology</th>\n",
              "      <th>emp</th>\n",
              "      <th>growth_innovation</th>\n",
              "      <th>fin_support</th>\n",
              "      <th>age</th>\n",
              "      <th>compet</th>\n",
              "    </tr>\n",
              "  </thead>\n",
              "  <tbody>\n",
              "    <tr>\n",
              "      <th>0</th>\n",
              "      <td>3.59</td>\n",
              "      <td>11.67</td>\n",
              "      <td>7.82</td>\n",
              "      <td>34.1</td>\n",
              "      <td>36.90</td>\n",
              "      <td>10</td>\n",
              "      <td>1</td>\n",
              "      <td>0</td>\n",
              "      <td>1</td>\n",
              "      <td>0</td>\n",
              "      <td>6</td>\n",
              "      <td>0.80</td>\n",
              "      <td>0.48</td>\n",
              "      <td>12.86</td>\n",
              "      <td>0.000000</td>\n",
              "      <td>43.000000</td>\n",
              "      <td>0</td>\n",
              "    </tr>\n",
              "    <tr>\n",
              "      <th>1</th>\n",
              "      <td>1.28</td>\n",
              "      <td>2.34</td>\n",
              "      <td>4.70</td>\n",
              "      <td>27.1</td>\n",
              "      <td>16.56</td>\n",
              "      <td>1</td>\n",
              "      <td>0</td>\n",
              "      <td>0</td>\n",
              "      <td>0</td>\n",
              "      <td>0</td>\n",
              "      <td>10</td>\n",
              "      <td>0.02</td>\n",
              "      <td>0.46</td>\n",
              "      <td>2.29</td>\n",
              "      <td>0.000000</td>\n",
              "      <td>43.000000</td>\n",
              "      <td>1</td>\n",
              "    </tr>\n",
              "    <tr>\n",
              "      <th>2</th>\n",
              "      <td>0.48</td>\n",
              "      <td>11.73</td>\n",
              "      <td>7.07</td>\n",
              "      <td>7.9</td>\n",
              "      <td>31.32</td>\n",
              "      <td>0</td>\n",
              "      <td>0</td>\n",
              "      <td>0</td>\n",
              "      <td>0</td>\n",
              "      <td>0</td>\n",
              "      <td>5</td>\n",
              "      <td>0.06</td>\n",
              "      <td>0.38</td>\n",
              "      <td>11.79</td>\n",
              "      <td>0.000000</td>\n",
              "      <td>35.000000</td>\n",
              "      <td>837</td>\n",
              "    </tr>\n",
              "    <tr>\n",
              "      <th>3</th>\n",
              "      <td>0.86</td>\n",
              "      <td>9.01</td>\n",
              "      <td>3.91</td>\n",
              "      <td>19.0</td>\n",
              "      <td>16.29</td>\n",
              "      <td>3</td>\n",
              "      <td>0</td>\n",
              "      <td>0</td>\n",
              "      <td>0</td>\n",
              "      <td>0</td>\n",
              "      <td>5</td>\n",
              "      <td>0.31</td>\n",
              "      <td>0.10</td>\n",
              "      <td>8.95</td>\n",
              "      <td>0.000000</td>\n",
              "      <td>24.000000</td>\n",
              "      <td>1</td>\n",
              "    </tr>\n",
              "    <tr>\n",
              "      <th>4</th>\n",
              "      <td>2.24</td>\n",
              "      <td>8.93</td>\n",
              "      <td>4.20</td>\n",
              "      <td>31.2</td>\n",
              "      <td>32.40</td>\n",
              "      <td>3</td>\n",
              "      <td>1</td>\n",
              "      <td>1</td>\n",
              "      <td>0</td>\n",
              "      <td>0</td>\n",
              "      <td>8</td>\n",
              "      <td>0.07</td>\n",
              "      <td>0.36</td>\n",
              "      <td>9.94</td>\n",
              "      <td>0.897416</td>\n",
              "      <td>39.000000</td>\n",
              "      <td>0</td>\n",
              "    </tr>\n",
              "    <tr>\n",
              "      <th>...</th>\n",
              "      <td>...</td>\n",
              "      <td>...</td>\n",
              "      <td>...</td>\n",
              "      <td>...</td>\n",
              "      <td>...</td>\n",
              "      <td>...</td>\n",
              "      <td>...</td>\n",
              "      <td>...</td>\n",
              "      <td>...</td>\n",
              "      <td>...</td>\n",
              "      <td>...</td>\n",
              "      <td>...</td>\n",
              "      <td>...</td>\n",
              "      <td>...</td>\n",
              "      <td>...</td>\n",
              "      <td>...</td>\n",
              "      <td>...</td>\n",
              "    </tr>\n",
              "    <tr>\n",
              "      <th>994</th>\n",
              "      <td>4.92</td>\n",
              "      <td>9.88</td>\n",
              "      <td>3.96</td>\n",
              "      <td>83.5</td>\n",
              "      <td>26.10</td>\n",
              "      <td>0</td>\n",
              "      <td>1</td>\n",
              "      <td>0</td>\n",
              "      <td>1</td>\n",
              "      <td>1</td>\n",
              "      <td>9</td>\n",
              "      <td>0.86</td>\n",
              "      <td>0.30</td>\n",
              "      <td>10.59</td>\n",
              "      <td>0.000000</td>\n",
              "      <td>26.108592</td>\n",
              "      <td>0</td>\n",
              "    </tr>\n",
              "    <tr>\n",
              "      <th>995</th>\n",
              "      <td>1.09</td>\n",
              "      <td>6.81</td>\n",
              "      <td>3.84</td>\n",
              "      <td>19.1</td>\n",
              "      <td>43.47</td>\n",
              "      <td>0</td>\n",
              "      <td>0</td>\n",
              "      <td>0</td>\n",
              "      <td>0</td>\n",
              "      <td>0</td>\n",
              "      <td>5</td>\n",
              "      <td>0.32</td>\n",
              "      <td>0.12</td>\n",
              "      <td>6.79</td>\n",
              "      <td>0.000000</td>\n",
              "      <td>43.000000</td>\n",
              "      <td>1</td>\n",
              "    </tr>\n",
              "    <tr>\n",
              "      <th>996</th>\n",
              "      <td>1.48</td>\n",
              "      <td>5.89</td>\n",
              "      <td>4.03</td>\n",
              "      <td>26.4</td>\n",
              "      <td>18.36</td>\n",
              "      <td>0</td>\n",
              "      <td>0</td>\n",
              "      <td>0</td>\n",
              "      <td>0</td>\n",
              "      <td>0</td>\n",
              "      <td>9</td>\n",
              "      <td>0.03</td>\n",
              "      <td>0.26</td>\n",
              "      <td>6.90</td>\n",
              "      <td>0.000000</td>\n",
              "      <td>36.000000</td>\n",
              "      <td>0</td>\n",
              "    </tr>\n",
              "    <tr>\n",
              "      <th>997</th>\n",
              "      <td>1.03</td>\n",
              "      <td>12.61</td>\n",
              "      <td>3.96</td>\n",
              "      <td>13.4</td>\n",
              "      <td>28.62</td>\n",
              "      <td>0</td>\n",
              "      <td>1</td>\n",
              "      <td>0</td>\n",
              "      <td>0</td>\n",
              "      <td>0</td>\n",
              "      <td>4</td>\n",
              "      <td>0.01</td>\n",
              "      <td>0.11</td>\n",
              "      <td>13.56</td>\n",
              "      <td>0.000000</td>\n",
              "      <td>24.000000</td>\n",
              "      <td>1</td>\n",
              "    </tr>\n",
              "    <tr>\n",
              "      <th>999</th>\n",
              "      <td>0.20</td>\n",
              "      <td>1.61</td>\n",
              "      <td>3.70</td>\n",
              "      <td>12.3</td>\n",
              "      <td>68.49</td>\n",
              "      <td>0</td>\n",
              "      <td>1</td>\n",
              "      <td>0</td>\n",
              "      <td>0</td>\n",
              "      <td>0</td>\n",
              "      <td>0</td>\n",
              "      <td>0.05</td>\n",
              "      <td>0.39</td>\n",
              "      <td>2.58</td>\n",
              "      <td>0.000000</td>\n",
              "      <td>22.000000</td>\n",
              "      <td>837</td>\n",
              "    </tr>\n",
              "  </tbody>\n",
              "</table>\n",
              "<p>937 rows × 17 columns</p>\n",
              "</div>"
            ],
            "text/plain": [
              "     Sales  growth_technological  growth_marketing  share_RD  \\\n",
              "0     3.59                 11.67              7.82      34.1   \n",
              "1     1.28                  2.34              4.70      27.1   \n",
              "2     0.48                 11.73              7.07       7.9   \n",
              "3     0.86                  9.01              3.91      19.0   \n",
              "4     2.24                  8.93              4.20      31.2   \n",
              "..     ...                   ...               ...       ...   \n",
              "994   4.92                  9.88              3.96      83.5   \n",
              "995   1.09                  6.81              3.84      19.1   \n",
              "996   1.48                  5.89              4.03      26.4   \n",
              "997   1.03                 12.61              3.96      13.4   \n",
              "999   0.20                  1.61              3.70      12.3   \n",
              "\n",
              "     share_equipments  patents  cooperation  support  lab  joint  climate  \\\n",
              "0               36.90       10            1        0    1      0        6   \n",
              "1               16.56        1            0        0    0      0       10   \n",
              "2               31.32        0            0        0    0      0        5   \n",
              "3               16.29        3            0        0    0      0        5   \n",
              "4               32.40        3            1        1    0      0        8   \n",
              "..                ...      ...          ...      ...  ...    ...      ...   \n",
              "994             26.10        0            1        0    1      1        9   \n",
              "995             43.47        0            0        0    0      0        5   \n",
              "996             18.36        0            0        0    0      0        9   \n",
              "997             28.62        0            1        0    0      0        4   \n",
              "999             68.49        0            1        0    0      0        0   \n",
              "\n",
              "     share_technology   emp  growth_innovation  fin_support        age  compet  \n",
              "0                0.80  0.48              12.86     0.000000  43.000000       0  \n",
              "1                0.02  0.46               2.29     0.000000  43.000000       1  \n",
              "2                0.06  0.38              11.79     0.000000  35.000000     837  \n",
              "3                0.31  0.10               8.95     0.000000  24.000000       1  \n",
              "4                0.07  0.36               9.94     0.897416  39.000000       0  \n",
              "..                ...   ...                ...          ...        ...     ...  \n",
              "994              0.86  0.30              10.59     0.000000  26.108592       0  \n",
              "995              0.32  0.12               6.79     0.000000  43.000000       1  \n",
              "996              0.03  0.26               6.90     0.000000  36.000000       0  \n",
              "997              0.01  0.11              13.56     0.000000  24.000000       1  \n",
              "999              0.05  0.39               2.58     0.000000  22.000000     837  \n",
              "\n",
              "[937 rows x 17 columns]"
            ]
          },
          "execution_count": 75,
          "metadata": {},
          "output_type": "execute_result"
        }
      ],
      "source": [
        "data"
      ]
    },
    {
      "cell_type": "code",
      "execution_count": null,
      "id": "ae62e5b2",
      "metadata": {
        "id": "ae62e5b2",
        "outputId": "72c92a62-f3bf-450c-843e-64584c649dd3"
      },
      "outputs": [
        {
          "name": "stdout",
          "output_type": "stream",
          "text": [
            "                            OLS Regression Results                            \n",
            "==============================================================================\n",
            "Dep. Variable:                  Sales   R-squared:                       0.835\n",
            "Model:                            OLS   Adj. R-squared:                  0.833\n",
            "Method:                 Least Squares   F-statistic:                     585.5\n",
            "Date:                Thu, 10 Oct 2024   Prob (F-statistic):               0.00\n",
            "Time:                        13:00:11   Log-Likelihood:                -550.23\n",
            "No. Observations:                 937   AIC:                             1118.\n",
            "Df Residuals:                     928   BIC:                             1162.\n",
            "Df Model:                           8                                         \n",
            "Covariance Type:            nonrobust                                         \n",
            "========================================================================================\n",
            "                           coef    std err          t      P>|t|      [0.025      0.975]\n",
            "----------------------------------------------------------------------------------------\n",
            "Intercept               -0.3244      0.072     -4.486      0.000      -0.466      -0.182\n",
            "growth_technological     0.0387      0.004      9.105      0.000       0.030       0.047\n",
            "share_RD                 0.0139      0.001     11.478      0.000       0.012       0.016\n",
            "share_equipments         0.0098      0.001      9.961      0.000       0.008       0.012\n",
            "lab                      0.8628      0.049     17.718      0.000       0.767       0.958\n",
            "joint                    0.8005      0.061     13.054      0.000       0.680       0.921\n",
            "climate                  0.0800      0.006     13.558      0.000       0.068       0.092\n",
            "share_technology         0.1724      0.059      2.903      0.004       0.056       0.289\n",
            "age                      0.0094      0.002      4.988      0.000       0.006       0.013\n",
            "==============================================================================\n",
            "Omnibus:                       69.925   Durbin-Watson:                   2.026\n",
            "Prob(Omnibus):                  0.000   Jarque-Bera (JB):              155.973\n",
            "Skew:                           0.444   Prob(JB):                     1.35e-34\n",
            "Kurtosis:                       4.791   Cond. No.                         276.\n",
            "==============================================================================\n",
            "\n",
            "Notes:\n",
            "[1] Standard Errors assume that the covariance matrix of the errors is correctly specified.\n"
          ]
        }
      ],
      "source": [
        "m1=smf.ols('Sales ~ growth_technological+share_RD+share_equipments+'\\\n",
        "          'lab+joint+climate+share_technology+age', data=data)\n",
        "fitted=m1.fit()\n",
        "print(fitted.summary())"
      ]
    },
    {
      "cell_type": "code",
      "execution_count": null,
      "id": "f6b45fd4",
      "metadata": {
        "id": "f6b45fd4",
        "outputId": "920a3175-48d7-4928-9a33-71447b480529"
      },
      "outputs": [
        {
          "data": {
            "text/plain": [
              "<AxesSubplot:ylabel='Count'>"
            ]
          },
          "execution_count": 85,
          "metadata": {},
          "output_type": "execute_result"
        },
        {
          "data": {
            "image/png": "[encoded data removed]",
            "text/plain": [
              "<Figure size 432x288 with 1 Axes>"
            ]
          },
          "metadata": {
            "needs_background": "light"
          },
          "output_type": "display_data"
        }
      ],
      "source": [
        "import seaborn as sns\n",
        "sns.histplot(fitted.resid, bins=100)"
      ]
    },
    {
      "cell_type": "code",
      "execution_count": null,
      "id": "3deee52c",
      "metadata": {
        "id": "3deee52c",
        "outputId": "7fd33334-92dd-4e18-d96a-1ff599f0f613"
      },
      "outputs": [
        {
          "data": {
            "image/png": "[encoded data removed]",
            "text/plain": [
              "<Figure size 432x288 with 1 Axes>"
            ]
          },
          "metadata": {
            "needs_background": "light"
          },
          "output_type": "display_data"
        }
      ],
      "source": [
        "plt.scatter(data.Sales, fitted.fittedvalues, color='darkblue', s=50, alpha=0.4)\n",
        "plt.title('Предсказанные значения/истинные')\n",
        "plt.xlabel('Input')\n",
        "plt.ylabel('predicted values')\n",
        "plt.show()"
      ]
    },
    {
      "cell_type": "code",
      "execution_count": null,
      "id": "ecd6310a",
      "metadata": {
        "id": "ecd6310a",
        "outputId": "419515b4-001c-4969-b220-5142a64a6266"
      },
      "outputs": [
        {
          "data": {
            "text/plain": [
              "<matplotlib.collections.PathCollection at 0x7fba5cf98d90>"
            ]
          },
          "execution_count": 87,
          "metadata": {},
          "output_type": "execute_result"
        },
        {
          "data": {
            "image/png": "[encoded data removed]",
            "text/plain": [
              "<Figure size 432x288 with 1 Axes>"
            ]
          },
          "metadata": {
            "needs_background": "light"
          },
          "output_type": "display_data"
        }
      ],
      "source": [
        "plt.scatter(fitted.fittedvalues, fitted.resid, color='darkred', s=50, alpha=0.5)"
      ]
    },
    {
      "cell_type": "code",
      "execution_count": null,
      "id": "9a6aaec9",
      "metadata": {
        "id": "9a6aaec9",
        "outputId": "022ddb2a-1e88-4243-a1a8-c1b57482a09f"
      },
      "outputs": [
        {
          "data": {
            "image/png": "[encoded data removed]",
            "text/plain": [
              "<Figure size 432x288 with 1 Axes>"
            ]
          },
          "metadata": {
            "needs_background": "light"
          },
          "output_type": "display_data"
        }
      ],
      "source": [
        "sc.stats.probplot(fitted.resid, dist='norm', plot=pyplot)\n",
        "plt.show()"
      ]
    },
    {
      "cell_type": "code",
      "execution_count": null,
      "id": "4d770124",
      "metadata": {
        "id": "4d770124",
        "outputId": "33d66a08-662a-4680-b65b-4c1337fb1162"
      },
      "outputs": [
        {
          "data": {
            "text/plain": [
              "2.648167820096688e-32"
            ]
          },
          "execution_count": 99,
          "metadata": {},
          "output_type": "execute_result"
        }
      ],
      "source": [
        "sms.het_breuschpagan(fitted.resid, fitted.model.exog)[1]"
      ]
    },
    {
      "cell_type": "code",
      "execution_count": null,
      "id": "3b9a8b22",
      "metadata": {
        "id": "3b9a8b22",
        "outputId": "60ef3bb7-9055-460a-dc4e-1630c034f2ea"
      },
      "outputs": [
        {
          "data": {
            "text/plain": [
              "6.848898265056599e-29"
            ]
          },
          "execution_count": 100,
          "metadata": {},
          "output_type": "execute_result"
        }
      ],
      "source": [
        "sms.diagnostic.het_white(fitted.resid, fitted.model.exog)[1]"
      ]
    },
    {
      "cell_type": "code",
      "execution_count": null,
      "id": "0c1ef367",
      "metadata": {
        "id": "0c1ef367",
        "outputId": "aace1187-18c5-4873-cedb-3f38b4265e23"
      },
      "outputs": [
        {
          "name": "stdout",
          "output_type": "stream",
          "text": [
            "                            OLS Regression Results                            \n",
            "==============================================================================\n",
            "Dep. Variable:                  Sales   R-squared:                       0.835\n",
            "Model:                            OLS   Adj. R-squared:                  0.833\n",
            "Method:                 Least Squares   F-statistic:                     382.5\n",
            "Date:                Thu, 10 Oct 2024   Prob (F-statistic):          1.18e-287\n",
            "Time:                        13:05:06   Log-Likelihood:                -550.23\n",
            "No. Observations:                 937   AIC:                             1118.\n",
            "Df Residuals:                     928   BIC:                             1162.\n",
            "Df Model:                           8                                         \n",
            "Covariance Type:                  HC1                                         \n",
            "========================================================================================\n",
            "                           coef    std err          z      P>|z|      [0.025      0.975]\n",
            "----------------------------------------------------------------------------------------\n",
            "Intercept               -0.3244      0.070     -4.627      0.000      -0.462      -0.187\n",
            "growth_technological     0.0387      0.005      7.231      0.000       0.028       0.049\n",
            "share_RD                 0.0139      0.002      7.991      0.000       0.010       0.017\n",
            "share_equipments         0.0098      0.001      8.251      0.000       0.007       0.012\n",
            "lab                      0.8628      0.060     14.336      0.000       0.745       0.981\n",
            "joint                    0.8005      0.095      8.396      0.000       0.614       0.987\n",
            "climate                  0.0800      0.005     15.098      0.000       0.070       0.090\n",
            "share_technology         0.1724      0.065      2.634      0.008       0.044       0.301\n",
            "age                      0.0094      0.002      5.066      0.000       0.006       0.013\n",
            "==============================================================================\n",
            "Omnibus:                       69.925   Durbin-Watson:                   2.026\n",
            "Prob(Omnibus):                  0.000   Jarque-Bera (JB):              155.973\n",
            "Skew:                           0.444   Prob(JB):                     1.35e-34\n",
            "Kurtosis:                       4.791   Cond. No.                         276.\n",
            "==============================================================================\n",
            "\n",
            "Notes:\n",
            "[1] Standard Errors are heteroscedasticity robust (HC1)\n"
          ]
        }
      ],
      "source": [
        "m1=smf.ols('Sales ~ growth_technological+share_RD+share_equipments+'\\\n",
        "          'lab+joint+climate+share_technology+age', data=data)\n",
        "fitted=m1.fit(cov_type='HC1')\n",
        "print(fitted.summary())"
      ]
    },
    {
      "cell_type": "code",
      "execution_count": null,
      "id": "3d8264be",
      "metadata": {
        "id": "3d8264be"
      },
      "outputs": [],
      "source": [
        "from sklearn.preprocessing import MinMaxScaler\n",
        "\n",
        "\n",
        "scaler=MinMaxScaler()\n",
        "scaler.fit(data)\n",
        "data_std=scaler.transform(data)"
      ]
    },
    {
      "cell_type": "code",
      "execution_count": null,
      "id": "3a6c22a2",
      "metadata": {
        "id": "3a6c22a2"
      },
      "outputs": [],
      "source": [
        "data_norm=pd.DataFrame(columns=data.columns)"
      ]
    },
    {
      "cell_type": "code",
      "execution_count": null,
      "id": "e31c0b6f",
      "metadata": {
        "id": "e31c0b6f",
        "outputId": "7a2d8c42-e410-48a1-9cb1-94147d9a60a1"
      },
      "outputs": [
        {
          "data": {
            "text/html": [
              "<div>\n",
              "<style scoped>\n",
              "    .dataframe tbody tr th:only-of-type {\n",
              "        vertical-align: middle;\n",
              "    }\n",
              "\n",
              "    .dataframe tbody tr th {\n",
              "        vertical-align: top;\n",
              "    }\n",
              "\n",
              "    .dataframe thead th {\n",
              "        text-align: right;\n",
              "    }\n",
              "</style>\n",
              "<table border=\"1\" class=\"dataframe\">\n",
              "  <thead>\n",
              "    <tr style=\"text-align: right;\">\n",
              "      <th></th>\n",
              "      <th>Sales</th>\n",
              "      <th>growth_technological</th>\n",
              "      <th>growth_marketing</th>\n",
              "      <th>share_RD</th>\n",
              "      <th>share_equipments</th>\n",
              "      <th>patents</th>\n",
              "      <th>cooperation</th>\n",
              "      <th>support</th>\n",
              "      <th>lab</th>\n",
              "      <th>joint</th>\n",
              "      <th>climate</th>\n",
              "      <th>share_technology</th>\n",
              "      <th>emp</th>\n",
              "      <th>growth_innovation</th>\n",
              "      <th>fin_support</th>\n",
              "      <th>age</th>\n",
              "      <th>compet</th>\n",
              "    </tr>\n",
              "  </thead>\n",
              "  <tbody>\n",
              "  </tbody>\n",
              "</table>\n",
              "</div>"
            ],
            "text/plain": [
              "Empty DataFrame\n",
              "Columns: [Sales, growth_technological, growth_marketing, share_RD, share_equipments, patents, cooperation, support, lab, joint, climate, share_technology, emp, growth_innovation, fin_support, age, compet]\n",
              "Index: []"
            ]
          },
          "execution_count": 107,
          "metadata": {},
          "output_type": "execute_result"
        }
      ],
      "source": [
        "data_norm"
      ]
    },
    {
      "cell_type": "code",
      "execution_count": null,
      "id": "74e16300",
      "metadata": {
        "id": "74e16300"
      },
      "outputs": [],
      "source": [
        "data_norm=pd.DataFrame(data_std)\n",
        "data_norm.columns=data.columns"
      ]
    },
    {
      "cell_type": "code",
      "execution_count": null,
      "id": "16ee4262",
      "metadata": {
        "id": "16ee4262",
        "outputId": "9447361d-faee-42dd-9b9b-52e1f93087db"
      },
      "outputs": [
        {
          "data": {
            "text/html": [
              "<div>\n",
              "<style scoped>\n",
              "    .dataframe tbody tr th:only-of-type {\n",
              "        vertical-align: middle;\n",
              "    }\n",
              "\n",
              "    .dataframe tbody tr th {\n",
              "        vertical-align: top;\n",
              "    }\n",
              "\n",
              "    .dataframe thead th {\n",
              "        text-align: right;\n",
              "    }\n",
              "</style>\n",
              "<table border=\"1\" class=\"dataframe\">\n",
              "  <thead>\n",
              "    <tr style=\"text-align: right;\">\n",
              "      <th></th>\n",
              "      <th>Sales</th>\n",
              "      <th>growth_technological</th>\n",
              "      <th>growth_marketing</th>\n",
              "      <th>share_RD</th>\n",
              "      <th>share_equipments</th>\n",
              "      <th>patents</th>\n",
              "      <th>cooperation</th>\n",
              "      <th>support</th>\n",
              "      <th>lab</th>\n",
              "      <th>joint</th>\n",
              "      <th>climate</th>\n",
              "      <th>share_technology</th>\n",
              "      <th>emp</th>\n",
              "      <th>growth_innovation</th>\n",
              "      <th>fin_support</th>\n",
              "      <th>age</th>\n",
              "      <th>compet</th>\n",
              "    </tr>\n",
              "  </thead>\n",
              "  <tbody>\n",
              "    <tr>\n",
              "      <th>0</th>\n",
              "      <td>0.713402</td>\n",
              "      <td>0.410493</td>\n",
              "      <td>0.422535</td>\n",
              "      <td>0.389011</td>\n",
              "      <td>0.410861</td>\n",
              "      <td>0.526316</td>\n",
              "      <td>1.0</td>\n",
              "      <td>0.0</td>\n",
              "      <td>1.0</td>\n",
              "      <td>0.0</td>\n",
              "      <td>0.6</td>\n",
              "      <td>0.80</td>\n",
              "      <td>0.335664</td>\n",
              "      <td>0.451875</td>\n",
              "      <td>0.0</td>\n",
              "      <td>0.766667</td>\n",
              "      <td>0.000000</td>\n",
              "    </tr>\n",
              "    <tr>\n",
              "      <th>1</th>\n",
              "      <td>0.237113</td>\n",
              "      <td>0.079759</td>\n",
              "      <td>0.147887</td>\n",
              "      <td>0.312088</td>\n",
              "      <td>0.179303</td>\n",
              "      <td>0.052632</td>\n",
              "      <td>0.0</td>\n",
              "      <td>0.0</td>\n",
              "      <td>0.0</td>\n",
              "      <td>0.0</td>\n",
              "      <td>1.0</td>\n",
              "      <td>0.02</td>\n",
              "      <td>0.321678</td>\n",
              "      <td>0.077849</td>\n",
              "      <td>0.0</td>\n",
              "      <td>0.766667</td>\n",
              "      <td>0.001195</td>\n",
              "    </tr>\n",
              "    <tr>\n",
              "      <th>2</th>\n",
              "      <td>0.072165</td>\n",
              "      <td>0.412620</td>\n",
              "      <td>0.356514</td>\n",
              "      <td>0.101099</td>\n",
              "      <td>0.347336</td>\n",
              "      <td>0.000000</td>\n",
              "      <td>0.0</td>\n",
              "      <td>0.0</td>\n",
              "      <td>0.0</td>\n",
              "      <td>0.0</td>\n",
              "      <td>0.5</td>\n",
              "      <td>0.06</td>\n",
              "      <td>0.265734</td>\n",
              "      <td>0.414013</td>\n",
              "      <td>0.0</td>\n",
              "      <td>0.500000</td>\n",
              "      <td>1.000000</td>\n",
              "    </tr>\n",
              "    <tr>\n",
              "      <th>3</th>\n",
              "      <td>0.150515</td>\n",
              "      <td>0.316200</td>\n",
              "      <td>0.078345</td>\n",
              "      <td>0.223077</td>\n",
              "      <td>0.176230</td>\n",
              "      <td>0.157895</td>\n",
              "      <td>0.0</td>\n",
              "      <td>0.0</td>\n",
              "      <td>0.0</td>\n",
              "      <td>0.0</td>\n",
              "      <td>0.5</td>\n",
              "      <td>0.31</td>\n",
              "      <td>0.069930</td>\n",
              "      <td>0.313517</td>\n",
              "      <td>0.0</td>\n",
              "      <td>0.133333</td>\n",
              "      <td>0.001195</td>\n",
              "    </tr>\n",
              "    <tr>\n",
              "      <th>4</th>\n",
              "      <td>0.435052</td>\n",
              "      <td>0.313364</td>\n",
              "      <td>0.103873</td>\n",
              "      <td>0.357143</td>\n",
              "      <td>0.359631</td>\n",
              "      <td>0.157895</td>\n",
              "      <td>1.0</td>\n",
              "      <td>1.0</td>\n",
              "      <td>0.0</td>\n",
              "      <td>0.0</td>\n",
              "      <td>0.8</td>\n",
              "      <td>0.07</td>\n",
              "      <td>0.251748</td>\n",
              "      <td>0.348549</td>\n",
              "      <td>1.0</td>\n",
              "      <td>0.633333</td>\n",
              "      <td>0.000000</td>\n",
              "    </tr>\n",
              "    <tr>\n",
              "      <th>...</th>\n",
              "      <td>...</td>\n",
              "      <td>...</td>\n",
              "      <td>...</td>\n",
              "      <td>...</td>\n",
              "      <td>...</td>\n",
              "      <td>...</td>\n",
              "      <td>...</td>\n",
              "      <td>...</td>\n",
              "      <td>...</td>\n",
              "      <td>...</td>\n",
              "      <td>...</td>\n",
              "      <td>...</td>\n",
              "      <td>...</td>\n",
              "      <td>...</td>\n",
              "      <td>...</td>\n",
              "      <td>...</td>\n",
              "      <td>...</td>\n",
              "    </tr>\n",
              "    <tr>\n",
              "      <th>932</th>\n",
              "      <td>0.987629</td>\n",
              "      <td>0.347040</td>\n",
              "      <td>0.082746</td>\n",
              "      <td>0.931868</td>\n",
              "      <td>0.287910</td>\n",
              "      <td>0.000000</td>\n",
              "      <td>1.0</td>\n",
              "      <td>0.0</td>\n",
              "      <td>1.0</td>\n",
              "      <td>1.0</td>\n",
              "      <td>0.9</td>\n",
              "      <td>0.86</td>\n",
              "      <td>0.209790</td>\n",
              "      <td>0.371550</td>\n",
              "      <td>0.0</td>\n",
              "      <td>0.203620</td>\n",
              "      <td>0.000000</td>\n",
              "    </tr>\n",
              "    <tr>\n",
              "      <th>933</th>\n",
              "      <td>0.197938</td>\n",
              "      <td>0.238213</td>\n",
              "      <td>0.072183</td>\n",
              "      <td>0.224176</td>\n",
              "      <td>0.485656</td>\n",
              "      <td>0.000000</td>\n",
              "      <td>0.0</td>\n",
              "      <td>0.0</td>\n",
              "      <td>0.0</td>\n",
              "      <td>0.0</td>\n",
              "      <td>0.5</td>\n",
              "      <td>0.32</td>\n",
              "      <td>0.083916</td>\n",
              "      <td>0.237084</td>\n",
              "      <td>0.0</td>\n",
              "      <td>0.766667</td>\n",
              "      <td>0.001195</td>\n",
              "    </tr>\n",
              "    <tr>\n",
              "      <th>934</th>\n",
              "      <td>0.278351</td>\n",
              "      <td>0.205601</td>\n",
              "      <td>0.088908</td>\n",
              "      <td>0.304396</td>\n",
              "      <td>0.199795</td>\n",
              "      <td>0.000000</td>\n",
              "      <td>0.0</td>\n",
              "      <td>0.0</td>\n",
              "      <td>0.0</td>\n",
              "      <td>0.0</td>\n",
              "      <td>0.9</td>\n",
              "      <td>0.03</td>\n",
              "      <td>0.181818</td>\n",
              "      <td>0.240977</td>\n",
              "      <td>0.0</td>\n",
              "      <td>0.533333</td>\n",
              "      <td>0.000000</td>\n",
              "    </tr>\n",
              "    <tr>\n",
              "      <th>935</th>\n",
              "      <td>0.185567</td>\n",
              "      <td>0.443814</td>\n",
              "      <td>0.082746</td>\n",
              "      <td>0.161538</td>\n",
              "      <td>0.316598</td>\n",
              "      <td>0.000000</td>\n",
              "      <td>1.0</td>\n",
              "      <td>0.0</td>\n",
              "      <td>0.0</td>\n",
              "      <td>0.0</td>\n",
              "      <td>0.4</td>\n",
              "      <td>0.01</td>\n",
              "      <td>0.076923</td>\n",
              "      <td>0.476645</td>\n",
              "      <td>0.0</td>\n",
              "      <td>0.133333</td>\n",
              "      <td>0.001195</td>\n",
              "    </tr>\n",
              "    <tr>\n",
              "      <th>936</th>\n",
              "      <td>0.014433</td>\n",
              "      <td>0.053882</td>\n",
              "      <td>0.059859</td>\n",
              "      <td>0.149451</td>\n",
              "      <td>0.770492</td>\n",
              "      <td>0.000000</td>\n",
              "      <td>1.0</td>\n",
              "      <td>0.0</td>\n",
              "      <td>0.0</td>\n",
              "      <td>0.0</td>\n",
              "      <td>0.0</td>\n",
              "      <td>0.05</td>\n",
              "      <td>0.272727</td>\n",
              "      <td>0.088110</td>\n",
              "      <td>0.0</td>\n",
              "      <td>0.066667</td>\n",
              "      <td>1.000000</td>\n",
              "    </tr>\n",
              "  </tbody>\n",
              "</table>\n",
              "<p>937 rows × 17 columns</p>\n",
              "</div>"
            ],
            "text/plain": [
              "        Sales  growth_technological  growth_marketing  share_RD  \\\n",
              "0    0.713402              0.410493          0.422535  0.389011   \n",
              "1    0.237113              0.079759          0.147887  0.312088   \n",
              "2    0.072165              0.412620          0.356514  0.101099   \n",
              "3    0.150515              0.316200          0.078345  0.223077   \n",
              "4    0.435052              0.313364          0.103873  0.357143   \n",
              "..        ...                   ...               ...       ...   \n",
              "932  0.987629              0.347040          0.082746  0.931868   \n",
              "933  0.197938              0.238213          0.072183  0.224176   \n",
              "934  0.278351              0.205601          0.088908  0.304396   \n",
              "935  0.185567              0.443814          0.082746  0.161538   \n",
              "936  0.014433              0.053882          0.059859  0.149451   \n",
              "\n",
              "     share_equipments   patents  cooperation  support  lab  joint  climate  \\\n",
              "0            0.410861  0.526316          1.0      0.0  1.0    0.0      0.6   \n",
              "1            0.179303  0.052632          0.0      0.0  0.0    0.0      1.0   \n",
              "2            0.347336  0.000000          0.0      0.0  0.0    0.0      0.5   \n",
              "3            0.176230  0.157895          0.0      0.0  0.0    0.0      0.5   \n",
              "4            0.359631  0.157895          1.0      1.0  0.0    0.0      0.8   \n",
              "..                ...       ...          ...      ...  ...    ...      ...   \n",
              "932          0.287910  0.000000          1.0      0.0  1.0    1.0      0.9   \n",
              "933          0.485656  0.000000          0.0      0.0  0.0    0.0      0.5   \n",
              "934          0.199795  0.000000          0.0      0.0  0.0    0.0      0.9   \n",
              "935          0.316598  0.000000          1.0      0.0  0.0    0.0      0.4   \n",
              "936          0.770492  0.000000          1.0      0.0  0.0    0.0      0.0   \n",
              "\n",
              "     share_technology       emp  growth_innovation  fin_support       age  \\\n",
              "0                0.80  0.335664           0.451875          0.0  0.766667   \n",
              "1                0.02  0.321678           0.077849          0.0  0.766667   \n",
              "2                0.06  0.265734           0.414013          0.0  0.500000   \n",
              "3                0.31  0.069930           0.313517          0.0  0.133333   \n",
              "4                0.07  0.251748           0.348549          1.0  0.633333   \n",
              "..                ...       ...                ...          ...       ...   \n",
              "932              0.86  0.209790           0.371550          0.0  0.203620   \n",
              "933              0.32  0.083916           0.237084          0.0  0.766667   \n",
              "934              0.03  0.181818           0.240977          0.0  0.533333   \n",
              "935              0.01  0.076923           0.476645          0.0  0.133333   \n",
              "936              0.05  0.272727           0.088110          0.0  0.066667   \n",
              "\n",
              "       compet  \n",
              "0    0.000000  \n",
              "1    0.001195  \n",
              "2    1.000000  \n",
              "3    0.001195  \n",
              "4    0.000000  \n",
              "..        ...  \n",
              "932  0.000000  \n",
              "933  0.001195  \n",
              "934  0.000000  \n",
              "935  0.001195  \n",
              "936  1.000000  \n",
              "\n",
              "[937 rows x 17 columns]"
            ]
          },
          "execution_count": 109,
          "metadata": {},
          "output_type": "execute_result"
        }
      ],
      "source": [
        "data_norm"
      ]
    },
    {
      "cell_type": "code",
      "execution_count": null,
      "id": "79741dc6",
      "metadata": {
        "id": "79741dc6",
        "outputId": "682df67b-a309-4050-d517-bb3673c48c07"
      },
      "outputs": [
        {
          "name": "stdout",
          "output_type": "stream",
          "text": [
            "                            OLS Regression Results                            \n",
            "==============================================================================\n",
            "Dep. Variable:                  Sales   R-squared:                       0.835\n",
            "Model:                            OLS   Adj. R-squared:                  0.833\n",
            "Method:                 Least Squares   F-statistic:                     382.5\n",
            "Date:                Thu, 10 Oct 2024   Prob (F-statistic):          1.18e-287\n",
            "Time:                        13:13:45   Log-Likelihood:                 929.27\n",
            "No. Observations:                 937   AIC:                            -1841.\n",
            "Df Residuals:                     928   BIC:                            -1797.\n",
            "Df Model:                           8                                         \n",
            "Covariance Type:                  HC1                                         \n",
            "========================================================================================\n",
            "                           coef    std err          z      P>|z|      [0.025      0.975]\n",
            "----------------------------------------------------------------------------------------\n",
            "Intercept               -0.0563      0.009     -6.272      0.000      -0.074      -0.039\n",
            "growth_technological     0.2248      0.031      7.231      0.000       0.164       0.286\n",
            "share_RD                 0.2606      0.033      7.991      0.000       0.197       0.324\n",
            "share_equipments         0.1772      0.021      8.251      0.000       0.135       0.219\n",
            "lab                      0.1779      0.012     14.336      0.000       0.154       0.202\n",
            "joint                    0.1651      0.020      8.396      0.000       0.127       0.204\n",
            "climate                  0.1650      0.011     15.098      0.000       0.144       0.186\n",
            "share_technology         0.0356      0.013      2.634      0.008       0.009       0.062\n",
            "age                      0.0581      0.011      5.066      0.000       0.036       0.081\n",
            "==============================================================================\n",
            "Omnibus:                       69.925   Durbin-Watson:                   2.026\n",
            "Prob(Omnibus):                  0.000   Jarque-Bera (JB):              155.973\n",
            "Skew:                           0.444   Prob(JB):                     1.35e-34\n",
            "Kurtosis:                       4.791   Cond. No.                         12.1\n",
            "==============================================================================\n",
            "\n",
            "Notes:\n",
            "[1] Standard Errors are heteroscedasticity robust (HC1)\n"
          ]
        }
      ],
      "source": [
        "m1=smf.ols('Sales ~ growth_technological+share_RD+share_equipments+'\\\n",
        "          'lab+joint+climate+share_technology+age', data=data_norm)\n",
        "fitted=m1.fit(cov_type='HC1')\n",
        "print(fitted.summary())"
      ]
    },
    {
      "cell_type": "code",
      "execution_count": null,
      "id": "30902edf",
      "metadata": {
        "id": "30902edf"
      },
      "outputs": [],
      "source": [
        "# логарифмируем"
      ]
    },
    {
      "cell_type": "code",
      "execution_count": null,
      "id": "7c7bb006",
      "metadata": {
        "id": "7c7bb006",
        "outputId": "6e132d95-123f-4127-a0d1-928fd39d05fe"
      },
      "outputs": [
        {
          "name": "stdout",
          "output_type": "stream",
          "text": [
            "                            OLS Regression Results                            \n",
            "==============================================================================\n",
            "Dep. Variable:          np.log(Sales)   R-squared:                       0.871\n",
            "Model:                            OLS   Adj. R-squared:                  0.868\n",
            "Method:                 Least Squares   F-statistic:                     386.5\n",
            "Date:                Thu, 10 Oct 2024   Prob (F-statistic):               0.00\n",
            "Time:                        13:18:00   Log-Likelihood:                -52.613\n",
            "No. Observations:                 937   AIC:                             139.2\n",
            "Df Residuals:                     920   BIC:                             221.6\n",
            "Df Model:                          16                                         \n",
            "Covariance Type:            nonrobust                                         \n",
            "========================================================================================\n",
            "                           coef    std err          t      P>|t|      [0.025      0.975]\n",
            "----------------------------------------------------------------------------------------\n",
            "Intercept               -0.5562      0.059     -9.416      0.000      -0.672      -0.440\n",
            "growth_technological    -0.0446      0.023     -1.928      0.054      -0.090       0.001\n",
            "growth_marketing         0.0011      0.006      0.169      0.866      -0.011       0.013\n",
            "share_RD                 0.0068      0.001      9.261      0.000       0.005       0.008\n",
            "share_equipments         0.0048      0.001      8.227      0.000       0.004       0.006\n",
            "patents                  0.0006      0.002      0.268      0.789      -0.004       0.005\n",
            "cooperation             -0.0106      0.018     -0.579      0.563      -0.047       0.025\n",
            "support                 -0.0059      0.269     -0.022      0.982      -0.534       0.522\n",
            "lab                      0.4082      0.029     14.042      0.000       0.351       0.465\n",
            "joint                    0.2306      0.037      6.311      0.000       0.159       0.302\n",
            "climate                  0.0423      0.004     10.682      0.000       0.035       0.050\n",
            "share_technology         0.1196      0.035      3.404      0.001       0.051       0.189\n",
            "emp                     -0.0108      0.028     -0.383      0.701      -0.066       0.045\n",
            "growth_innovation        0.0590      0.023      2.577      0.010       0.014       0.104\n",
            "fin_support             -0.1165      0.374     -0.311      0.756      -0.851       0.618\n",
            "age                      0.0050      0.001      4.479      0.000       0.003       0.007\n",
            "compet                  -0.0008   2.93e-05    -28.200      0.000      -0.001      -0.001\n",
            "==============================================================================\n",
            "Omnibus:                       27.079   Durbin-Watson:                   1.980\n",
            "Prob(Omnibus):                  0.000   Jarque-Bera (JB):               37.645\n",
            "Skew:                          -0.289   Prob(JB):                     6.69e-09\n",
            "Kurtosis:                       3.793   Cond. No.                     2.33e+04\n",
            "==============================================================================\n",
            "\n",
            "Notes:\n",
            "[1] Standard Errors assume that the covariance matrix of the errors is correctly specified.\n",
            "[2] The condition number is large, 2.33e+04. This might indicate that there are\n",
            "strong multicollinearity or other numerical problems.\n"
          ]
        }
      ],
      "source": [
        "m1=smf.ols('np.log(Sales) ~ growth_technological+growth_marketing+share_RD+share_equipments+patents+cooperation+'\\\n",
        "          'support+lab+joint+climate+share_technology+emp+growth_innovation+fin_support+age+compet', data=data)\n",
        "fitted=m1.fit()\n",
        "print(fitted.summary())"
      ]
    },
    {
      "cell_type": "code",
      "execution_count": null,
      "id": "65b96a33",
      "metadata": {
        "id": "65b96a33",
        "outputId": "417c07dd-e1f9-471d-d776-0f9483db8803"
      },
      "outputs": [
        {
          "name": "stdout",
          "output_type": "stream",
          "text": [
            "                            OLS Regression Results                            \n",
            "==============================================================================\n",
            "Dep. Variable:          np.log(Sales)   R-squared:                       0.757\n",
            "Model:                            OLS   Adj. R-squared:                  0.754\n",
            "Method:                 Least Squares   F-statistic:                     221.2\n",
            "Date:                Thu, 10 Oct 2024   Prob (F-statistic):          9.49e-273\n",
            "Time:                        13:20:11   Log-Likelihood:                -347.42\n",
            "No. Observations:                 937   AIC:                             722.8\n",
            "Df Residuals:                     923   BIC:                             790.6\n",
            "Df Model:                          13                                         \n",
            "Covariance Type:            nonrobust                                         \n",
            "========================================================================================\n",
            "                           coef    std err          t      P>|t|      [0.025      0.975]\n",
            "----------------------------------------------------------------------------------------\n",
            "Intercept               -1.2129      0.071    -16.982      0.000      -1.353      -1.073\n",
            "growth_technological     0.0252      0.003      7.335      0.000       0.018       0.032\n",
            "growth_marketing         0.0043      0.009      0.503      0.615      -0.012       0.021\n",
            "share_RD                 0.0106      0.001     10.781      0.000       0.009       0.013\n",
            "share_equipments         0.0064      0.001      8.033      0.000       0.005       0.008\n",
            "patents                  0.0033      0.003      1.032      0.302      -0.003       0.010\n",
            "cooperation             -0.0037      0.025     -0.149      0.881      -0.053       0.045\n",
            "lab                      0.4060      0.040     10.225      0.000       0.328       0.484\n",
            "joint                    0.1667      0.050      3.352      0.001       0.069       0.264\n",
            "climate                  0.0946      0.005     19.769      0.000       0.085       0.104\n",
            "share_technology         0.1325      0.048      2.759      0.006       0.038       0.227\n",
            "emp                     -0.0221      0.039     -0.571      0.568      -0.098       0.054\n",
            "fin_support             -0.2289      0.287     -0.799      0.425      -0.791       0.334\n",
            "age                      0.0055      0.002      3.589      0.000       0.002       0.008\n",
            "==============================================================================\n",
            "Omnibus:                       72.146   Durbin-Watson:                   1.905\n",
            "Prob(Omnibus):                  0.000   Jarque-Bera (JB):               94.098\n",
            "Skew:                          -0.648   Prob(JB):                     3.69e-21\n",
            "Kurtosis:                       3.853   Cond. No.                     1.30e+03\n",
            "==============================================================================\n",
            "\n",
            "Notes:\n",
            "[1] Standard Errors assume that the covariance matrix of the errors is correctly specified.\n",
            "[2] The condition number is large, 1.3e+03. This might indicate that there are\n",
            "strong multicollinearity or other numerical problems.\n"
          ]
        }
      ],
      "source": [
        "m1=smf.ols('np.log(Sales) ~ growth_technological+growth_marketing+share_RD+share_equipments+patents+cooperation+'\\\n",
        "          'lab+joint+climate+share_technology+emp+fin_support+age', data=data)\n",
        "fitted=m1.fit()\n",
        "print(fitted.summary())"
      ]
    },
    {
      "cell_type": "markdown",
      "id": "9197453e",
      "metadata": {
        "id": "9197453e"
      },
      "source": [
        "# Регуляризация"
      ]
    },
    {
      "cell_type": "code",
      "execution_count": null,
      "id": "72a8e018",
      "metadata": {
        "id": "72a8e018"
      },
      "outputs": [],
      "source": [
        "X_norm=data_norm.drop('Sales', axis=1)\n",
        "y_norm=data_norm.Sales"
      ]
    },
    {
      "cell_type": "code",
      "execution_count": null,
      "id": "ed0d4d49",
      "metadata": {
        "id": "ed0d4d49",
        "outputId": "22d87b39-cc3b-46af-9f62-9491b6c0223a"
      },
      "outputs": [
        {
          "data": {
            "text/plain": [
              "array([ 0.        ,  0.        ,  0.20577817,  0.15317729,  0.00997629,\n",
              "       -0.00496676, -0.        ,  0.18175903,  0.17220512,  0.0886793 ,\n",
              "        0.0320235 , -0.        ,  0.17418116, -0.        ,  0.05360381,\n",
              "       -0.10014105])"
            ]
          },
          "execution_count": 118,
          "metadata": {},
          "output_type": "execute_result"
        }
      ],
      "source": [
        "from sklearn.linear_model import LassoCV\n",
        "reg1=LassoCV(cv=5, random_state=18).fit(X_norm, y_norm)\n",
        "reg1.coef_"
      ]
    },
    {
      "cell_type": "code",
      "execution_count": null,
      "id": "9994e790",
      "metadata": {
        "id": "9994e790",
        "outputId": "e7b385c2-d026-4ca0-cc34-564d9c3602dd"
      },
      "outputs": [
        {
          "data": {
            "text/html": [
              "<div>\n",
              "<style scoped>\n",
              "    .dataframe tbody tr th:only-of-type {\n",
              "        vertical-align: middle;\n",
              "    }\n",
              "\n",
              "    .dataframe tbody tr th {\n",
              "        vertical-align: top;\n",
              "    }\n",
              "\n",
              "    .dataframe thead th {\n",
              "        text-align: right;\n",
              "    }\n",
              "</style>\n",
              "<table border=\"1\" class=\"dataframe\">\n",
              "  <thead>\n",
              "    <tr style=\"text-align: right;\">\n",
              "      <th></th>\n",
              "      <th>0</th>\n",
              "      <th>features</th>\n",
              "    </tr>\n",
              "  </thead>\n",
              "  <tbody>\n",
              "    <tr>\n",
              "      <th>0</th>\n",
              "      <td>0.000000</td>\n",
              "      <td>growth_technological</td>\n",
              "    </tr>\n",
              "    <tr>\n",
              "      <th>1</th>\n",
              "      <td>0.000000</td>\n",
              "      <td>growth_marketing</td>\n",
              "    </tr>\n",
              "    <tr>\n",
              "      <th>2</th>\n",
              "      <td>0.205778</td>\n",
              "      <td>share_RD</td>\n",
              "    </tr>\n",
              "    <tr>\n",
              "      <th>3</th>\n",
              "      <td>0.153177</td>\n",
              "      <td>share_equipments</td>\n",
              "    </tr>\n",
              "    <tr>\n",
              "      <th>4</th>\n",
              "      <td>0.009976</td>\n",
              "      <td>patents</td>\n",
              "    </tr>\n",
              "    <tr>\n",
              "      <th>5</th>\n",
              "      <td>-0.004967</td>\n",
              "      <td>cooperation</td>\n",
              "    </tr>\n",
              "    <tr>\n",
              "      <th>6</th>\n",
              "      <td>-0.000000</td>\n",
              "      <td>support</td>\n",
              "    </tr>\n",
              "    <tr>\n",
              "      <th>7</th>\n",
              "      <td>0.181759</td>\n",
              "      <td>lab</td>\n",
              "    </tr>\n",
              "    <tr>\n",
              "      <th>8</th>\n",
              "      <td>0.172205</td>\n",
              "      <td>joint</td>\n",
              "    </tr>\n",
              "    <tr>\n",
              "      <th>9</th>\n",
              "      <td>0.088679</td>\n",
              "      <td>climate</td>\n",
              "    </tr>\n",
              "    <tr>\n",
              "      <th>10</th>\n",
              "      <td>0.032023</td>\n",
              "      <td>share_technology</td>\n",
              "    </tr>\n",
              "    <tr>\n",
              "      <th>11</th>\n",
              "      <td>-0.000000</td>\n",
              "      <td>emp</td>\n",
              "    </tr>\n",
              "    <tr>\n",
              "      <th>12</th>\n",
              "      <td>0.174181</td>\n",
              "      <td>growth_innovation</td>\n",
              "    </tr>\n",
              "    <tr>\n",
              "      <th>13</th>\n",
              "      <td>-0.000000</td>\n",
              "      <td>fin_support</td>\n",
              "    </tr>\n",
              "    <tr>\n",
              "      <th>14</th>\n",
              "      <td>0.053604</td>\n",
              "      <td>age</td>\n",
              "    </tr>\n",
              "    <tr>\n",
              "      <th>15</th>\n",
              "      <td>-0.100141</td>\n",
              "      <td>compet</td>\n",
              "    </tr>\n",
              "  </tbody>\n",
              "</table>\n",
              "</div>"
            ],
            "text/plain": [
              "           0              features\n",
              "0   0.000000  growth_technological\n",
              "1   0.000000      growth_marketing\n",
              "2   0.205778              share_RD\n",
              "3   0.153177      share_equipments\n",
              "4   0.009976               patents\n",
              "5  -0.004967           cooperation\n",
              "6  -0.000000               support\n",
              "7   0.181759                   lab\n",
              "8   0.172205                 joint\n",
              "9   0.088679               climate\n",
              "10  0.032023      share_technology\n",
              "11 -0.000000                   emp\n",
              "12  0.174181     growth_innovation\n",
              "13 -0.000000           fin_support\n",
              "14  0.053604                   age\n",
              "15 -0.100141                compet"
            ]
          },
          "execution_count": 119,
          "metadata": {},
          "output_type": "execute_result"
        }
      ],
      "source": [
        "result_reg1=pd.DataFrame(reg1.coef_)\n",
        "result_reg1['features']=X_norm.columns\n",
        "result_reg1"
      ]
    },
    {
      "cell_type": "code",
      "execution_count": null,
      "id": "893ab9c2",
      "metadata": {
        "id": "893ab9c2",
        "outputId": "a8d2cf2e-0fd1-4b38-b4e1-7ec4f9529422"
      },
      "outputs": [
        {
          "data": {
            "text/plain": [
              "0.8591425605194138"
            ]
          },
          "execution_count": 120,
          "metadata": {},
          "output_type": "execute_result"
        }
      ],
      "source": [
        "reg1.score(X_norm, y_norm)"
      ]
    },
    {
      "cell_type": "code",
      "execution_count": null,
      "id": "fd1d4c58",
      "metadata": {
        "id": "fd1d4c58"
      },
      "outputs": [],
      "source": [
        "from sklearn.linear_model import RidgeCV\n",
        "reg2=RidgeCV(alphas=[0.01*x for x in range(1,101)]).fit(X_norm, y_norm)"
      ]
    },
    {
      "cell_type": "code",
      "execution_count": null,
      "id": "d4fcc0e8",
      "metadata": {
        "id": "d4fcc0e8",
        "outputId": "974f79f8-d16e-4f4e-8d9a-f162514a65b7"
      },
      "outputs": [
        {
          "data": {
            "text/plain": [
              "1.0"
            ]
          },
          "execution_count": 122,
          "metadata": {},
          "output_type": "execute_result"
        }
      ],
      "source": [
        "reg2.alpha_"
      ]
    },
    {
      "cell_type": "code",
      "execution_count": null,
      "id": "c2d472cb",
      "metadata": {
        "id": "c2d472cb",
        "outputId": "15a16a8e-3b00-4f16-b355-53b133aaf953"
      },
      "outputs": [
        {
          "data": {
            "text/html": [
              "<div>\n",
              "<style scoped>\n",
              "    .dataframe tbody tr th:only-of-type {\n",
              "        vertical-align: middle;\n",
              "    }\n",
              "\n",
              "    .dataframe tbody tr th {\n",
              "        vertical-align: top;\n",
              "    }\n",
              "\n",
              "    .dataframe thead th {\n",
              "        text-align: right;\n",
              "    }\n",
              "</style>\n",
              "<table border=\"1\" class=\"dataframe\">\n",
              "  <thead>\n",
              "    <tr style=\"text-align: right;\">\n",
              "      <th></th>\n",
              "      <th>0</th>\n",
              "      <th>features</th>\n",
              "    </tr>\n",
              "  </thead>\n",
              "  <tbody>\n",
              "    <tr>\n",
              "      <th>0</th>\n",
              "      <td>0.069180</td>\n",
              "      <td>growth_technological</td>\n",
              "    </tr>\n",
              "    <tr>\n",
              "      <th>1</th>\n",
              "      <td>0.004889</td>\n",
              "      <td>growth_marketing</td>\n",
              "    </tr>\n",
              "    <tr>\n",
              "      <th>2</th>\n",
              "      <td>0.205168</td>\n",
              "      <td>share_RD</td>\n",
              "    </tr>\n",
              "    <tr>\n",
              "      <th>3</th>\n",
              "      <td>0.154901</td>\n",
              "      <td>share_equipments</td>\n",
              "    </tr>\n",
              "    <tr>\n",
              "      <th>4</th>\n",
              "      <td>0.016536</td>\n",
              "      <td>patents</td>\n",
              "    </tr>\n",
              "    <tr>\n",
              "      <th>5</th>\n",
              "      <td>-0.005933</td>\n",
              "      <td>cooperation</td>\n",
              "    </tr>\n",
              "    <tr>\n",
              "      <th>6</th>\n",
              "      <td>-0.015496</td>\n",
              "      <td>support</td>\n",
              "    </tr>\n",
              "    <tr>\n",
              "      <th>7</th>\n",
              "      <td>0.179641</td>\n",
              "      <td>lab</td>\n",
              "    </tr>\n",
              "    <tr>\n",
              "      <th>8</th>\n",
              "      <td>0.171723</td>\n",
              "      <td>joint</td>\n",
              "    </tr>\n",
              "    <tr>\n",
              "      <th>9</th>\n",
              "      <td>0.090619</td>\n",
              "      <td>climate</td>\n",
              "    </tr>\n",
              "    <tr>\n",
              "      <th>10</th>\n",
              "      <td>0.034766</td>\n",
              "      <td>share_technology</td>\n",
              "    </tr>\n",
              "    <tr>\n",
              "      <th>11</th>\n",
              "      <td>-0.003493</td>\n",
              "      <td>emp</td>\n",
              "    </tr>\n",
              "    <tr>\n",
              "      <th>12</th>\n",
              "      <td>0.114093</td>\n",
              "      <td>growth_innovation</td>\n",
              "    </tr>\n",
              "    <tr>\n",
              "      <th>13</th>\n",
              "      <td>-0.010785</td>\n",
              "      <td>fin_support</td>\n",
              "    </tr>\n",
              "    <tr>\n",
              "      <th>14</th>\n",
              "      <td>0.055782</td>\n",
              "      <td>age</td>\n",
              "    </tr>\n",
              "    <tr>\n",
              "      <th>15</th>\n",
              "      <td>-0.099388</td>\n",
              "      <td>compet</td>\n",
              "    </tr>\n",
              "  </tbody>\n",
              "</table>\n",
              "</div>"
            ],
            "text/plain": [
              "           0              features\n",
              "0   0.069180  growth_technological\n",
              "1   0.004889      growth_marketing\n",
              "2   0.205168              share_RD\n",
              "3   0.154901      share_equipments\n",
              "4   0.016536               patents\n",
              "5  -0.005933           cooperation\n",
              "6  -0.015496               support\n",
              "7   0.179641                   lab\n",
              "8   0.171723                 joint\n",
              "9   0.090619               climate\n",
              "10  0.034766      share_technology\n",
              "11 -0.003493                   emp\n",
              "12  0.114093     growth_innovation\n",
              "13 -0.010785           fin_support\n",
              "14  0.055782                   age\n",
              "15 -0.099388                compet"
            ]
          },
          "execution_count": 124,
          "metadata": {},
          "output_type": "execute_result"
        }
      ],
      "source": [
        "result_reg2=pd.DataFrame(reg2.coef_)\n",
        "result_reg2['features']=X_norm.columns\n",
        "result_reg2"
      ]
    },
    {
      "cell_type": "code",
      "execution_count": null,
      "id": "e7e47fad",
      "metadata": {
        "id": "e7e47fad",
        "outputId": "a926fb46-3621-47e0-c5da-179b61788653"
      },
      "outputs": [
        {
          "data": {
            "text/plain": [
              "0.8592211333968806"
            ]
          },
          "execution_count": 125,
          "metadata": {},
          "output_type": "execute_result"
        }
      ],
      "source": [
        "reg2.score(X_norm, y_norm)"
      ]
    },
    {
      "cell_type": "code",
      "execution_count": null,
      "id": "7aa484d5",
      "metadata": {
        "id": "7aa484d5"
      },
      "outputs": [],
      "source": []
    },
    {
      "cell_type": "code",
      "execution_count": null,
      "id": "cf5d38ab",
      "metadata": {
        "id": "cf5d38ab"
      },
      "outputs": [],
      "source": []
    },
    {
      "cell_type": "code",
      "execution_count": null,
      "id": "2ace6c38",
      "metadata": {
        "id": "2ace6c38"
      },
      "outputs": [],
      "source": []
    },
    {
      "cell_type": "code",
      "execution_count": null,
      "id": "1fc1784a",
      "metadata": {
        "id": "1fc1784a"
      },
      "outputs": [],
      "source": []
    }
  ],
  "metadata": {
    "kernelspec": {
      "display_name": "Python 3 (ipykernel)",
      "language": "python",
      "name": "python3"
    },
    "language_info": {
      "codemirror_mode": {
        "name": "ipython",
        "version": 3
      },
      "file_extension": ".py",
      "mimetype": "text/x-python",
      "name": "python",
      "nbconvert_exporter": "python",
      "pygments_lexer": "ipython3",
      "version": "3.9.7"
    },
    "colab": {
      "provenance": []
    }
  },
  "nbformat": 4,
  "nbformat_minor": 5
}
